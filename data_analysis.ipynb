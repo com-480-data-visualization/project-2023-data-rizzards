{
 "cells": [
  {
   "attachments": {},
   "cell_type": "markdown",
   "metadata": {
    "collapsed": false
   },
   "source": [
    "# Exloratory data analysis\n"
   ]
  },
  {
   "cell_type": "code",
   "execution_count": 67,
   "metadata": {
    "collapsed": true
   },
   "outputs": [],
   "source": [
    "import pandas as pd\n",
    "import matplotlib.pyplot as plt\n",
    "import numpy as np\n",
    "\n",
    "from IPython.display import Markdown, display"
   ]
  },
  {
   "attachments": {},
   "cell_type": "markdown",
   "metadata": {
    "collapsed": false
   },
   "source": [
    "#### Uploading data\n"
   ]
  },
  {
   "cell_type": "code",
   "execution_count": 68,
   "metadata": {
    "collapsed": false
   },
   "outputs": [],
   "source": [
    "Path = \"data/\"\n",
    "\n",
    "circuits = pd.read_csv(Path + \"circuits.csv\")\n",
    "constructor_results = pd.read_csv(Path + \"constructor_results.csv\")\n",
    "constructor_standings = pd.read_csv(Path + \"constructor_standings.csv\")\n",
    "constructors = pd.read_csv(Path + \"constructors.csv\")\n",
    "driver_standings = pd.read_csv(Path + \"driver_standings.csv\")\n",
    "drivers = pd.read_csv(Path + \"drivers.csv\")\n",
    "lap_times = pd.read_csv(Path + \"lap_times.csv\")\n",
    "pit_stops = pd.read_csv(Path + \"pit_stops.csv\")\n",
    "qualifying = pd.read_csv(Path + \"qualifying.csv\")\n",
    "races = pd.read_csv(Path + \"races.csv\")\n",
    "results = pd.read_csv(Path + \"results.csv\")\n",
    "seasons = pd.read_csv(Path + \"seasons.csv\")\n",
    "sprint_results = pd.read_csv(Path + \"sprint_results.csv\")\n",
    "status = pd.read_csv(Path + \"status.csv\")"
   ]
  },
  {
   "attachments": {},
   "cell_type": "markdown",
   "metadata": {
    "collapsed": false
   },
   "source": [
    "### circuits\n"
   ]
  },
  {
   "cell_type": "code",
   "execution_count": 69,
   "metadata": {
    "collapsed": false
   },
   "outputs": [
    {
     "name": "stdout",
     "output_type": "stream",
     "text": [
      "<class 'pandas.core.frame.DataFrame'>\n",
      "RangeIndex: 77 entries, 0 to 76\n",
      "Data columns (total 9 columns):\n",
      " #   Column      Non-Null Count  Dtype  \n",
      "---  ------      --------------  -----  \n",
      " 0   circuitId   77 non-null     int64  \n",
      " 1   circuitRef  77 non-null     object \n",
      " 2   name        77 non-null     object \n",
      " 3   location    77 non-null     object \n",
      " 4   country     77 non-null     object \n",
      " 5   lat         77 non-null     float64\n",
      " 6   lng         77 non-null     float64\n",
      " 7   alt         77 non-null     object \n",
      " 8   url         77 non-null     object \n",
      "dtypes: float64(2), int64(1), object(6)\n",
      "memory usage: 5.5+ KB\n",
      "None\n"
     ]
    },
    {
     "data": {
      "text/html": [
       "<div>\n",
       "<style scoped>\n",
       "    .dataframe tbody tr th:only-of-type {\n",
       "        vertical-align: middle;\n",
       "    }\n",
       "\n",
       "    .dataframe tbody tr th {\n",
       "        vertical-align: top;\n",
       "    }\n",
       "\n",
       "    .dataframe thead th {\n",
       "        text-align: right;\n",
       "    }\n",
       "</style>\n",
       "<table border=\"1\" class=\"dataframe\">\n",
       "  <thead>\n",
       "    <tr style=\"text-align: right;\">\n",
       "      <th></th>\n",
       "      <th>circuitId</th>\n",
       "      <th>circuitRef</th>\n",
       "      <th>name</th>\n",
       "      <th>location</th>\n",
       "      <th>country</th>\n",
       "      <th>lat</th>\n",
       "      <th>lng</th>\n",
       "      <th>alt</th>\n",
       "      <th>url</th>\n",
       "    </tr>\n",
       "  </thead>\n",
       "  <tbody>\n",
       "    <tr>\n",
       "      <th>0</th>\n",
       "      <td>1</td>\n",
       "      <td>albert_park</td>\n",
       "      <td>Albert Park Grand Prix Circuit</td>\n",
       "      <td>Melbourne</td>\n",
       "      <td>Australia</td>\n",
       "      <td>-37.84970</td>\n",
       "      <td>144.96800</td>\n",
       "      <td>10</td>\n",
       "      <td>http://en.wikipedia.org/wiki/Melbourne_Grand_P...</td>\n",
       "    </tr>\n",
       "    <tr>\n",
       "      <th>1</th>\n",
       "      <td>2</td>\n",
       "      <td>sepang</td>\n",
       "      <td>Sepang International Circuit</td>\n",
       "      <td>Kuala Lumpur</td>\n",
       "      <td>Malaysia</td>\n",
       "      <td>2.76083</td>\n",
       "      <td>101.73800</td>\n",
       "      <td>18</td>\n",
       "      <td>http://en.wikipedia.org/wiki/Sepang_Internatio...</td>\n",
       "    </tr>\n",
       "    <tr>\n",
       "      <th>2</th>\n",
       "      <td>3</td>\n",
       "      <td>bahrain</td>\n",
       "      <td>Bahrain International Circuit</td>\n",
       "      <td>Sakhir</td>\n",
       "      <td>Bahrain</td>\n",
       "      <td>26.03250</td>\n",
       "      <td>50.51060</td>\n",
       "      <td>7</td>\n",
       "      <td>http://en.wikipedia.org/wiki/Bahrain_Internati...</td>\n",
       "    </tr>\n",
       "    <tr>\n",
       "      <th>3</th>\n",
       "      <td>4</td>\n",
       "      <td>catalunya</td>\n",
       "      <td>Circuit de Barcelona-Catalunya</td>\n",
       "      <td>Montmeló</td>\n",
       "      <td>Spain</td>\n",
       "      <td>41.57000</td>\n",
       "      <td>2.26111</td>\n",
       "      <td>109</td>\n",
       "      <td>http://en.wikipedia.org/wiki/Circuit_de_Barcel...</td>\n",
       "    </tr>\n",
       "    <tr>\n",
       "      <th>4</th>\n",
       "      <td>5</td>\n",
       "      <td>istanbul</td>\n",
       "      <td>Istanbul Park</td>\n",
       "      <td>Istanbul</td>\n",
       "      <td>Turkey</td>\n",
       "      <td>40.95170</td>\n",
       "      <td>29.40500</td>\n",
       "      <td>130</td>\n",
       "      <td>http://en.wikipedia.org/wiki/Istanbul_Park</td>\n",
       "    </tr>\n",
       "  </tbody>\n",
       "</table>\n",
       "</div>"
      ],
      "text/plain": [
       "   circuitId   circuitRef                            name      location  \\\n",
       "0          1  albert_park  Albert Park Grand Prix Circuit     Melbourne   \n",
       "1          2       sepang    Sepang International Circuit  Kuala Lumpur   \n",
       "2          3      bahrain   Bahrain International Circuit        Sakhir   \n",
       "3          4    catalunya  Circuit de Barcelona-Catalunya      Montmeló   \n",
       "4          5     istanbul                   Istanbul Park      Istanbul   \n",
       "\n",
       "     country       lat        lng  alt  \\\n",
       "0  Australia -37.84970  144.96800   10   \n",
       "1   Malaysia   2.76083  101.73800   18   \n",
       "2    Bahrain  26.03250   50.51060    7   \n",
       "3      Spain  41.57000    2.26111  109   \n",
       "4     Turkey  40.95170   29.40500  130   \n",
       "\n",
       "                                                 url  \n",
       "0  http://en.wikipedia.org/wiki/Melbourne_Grand_P...  \n",
       "1  http://en.wikipedia.org/wiki/Sepang_Internatio...  \n",
       "2  http://en.wikipedia.org/wiki/Bahrain_Internati...  \n",
       "3  http://en.wikipedia.org/wiki/Circuit_de_Barcel...  \n",
       "4         http://en.wikipedia.org/wiki/Istanbul_Park  "
      ]
     },
     "execution_count": 69,
     "metadata": {},
     "output_type": "execute_result"
    }
   ],
   "source": [
    "print(circuits.info())\n",
    "circuits.head()"
   ]
  },
  {
   "cell_type": "code",
   "execution_count": 70,
   "metadata": {
    "collapsed": false
   },
   "outputs": [
    {
     "name": "stdout",
     "output_type": "stream",
     "text": [
      "There are 77 circuits, in  35  different countries.\n"
     ]
    }
   ],
   "source": [
    "print(\n",
    "    \"There are\",\n",
    "    len(circuits[\"country\"]),\n",
    "    \"circuits, in \",\n",
    "    len(pd.unique(circuits[\"country\"])),\n",
    "    \" different countries.\",\n",
    ")\n"
   ]
  },
  {
   "attachments": {},
   "cell_type": "markdown",
   "metadata": {},
   "source": [
    "**We found svgs for some of the circuits.**"
   ]
  },
  {
   "cell_type": "code",
   "execution_count": 71,
   "metadata": {},
   "outputs": [
    {
     "data": {
      "text/markdown": [
       "<div style=\"display: grid; grid-template-columns: 1fr 1fr 1fr 1fr;\"><div><p>Track location: australia</p><p>Track svg: <img src=\"https://raw.githubusercontent.com/f1laps/f1-track-vectors/main/f1_2020/australia.svg\" width=\"50\" height=\"50\"> </p></div><div><p>Track location: malaysia</p><p>Track svg: <img src=\"https://raw.githubusercontent.com/f1laps/f1-track-vectors/main/f1_2020/malaysia.svg\" width=\"50\" height=\"50\"> </p></div><div><p>Track location: bahrain</p><p>Track svg: <img src=\"https://raw.githubusercontent.com/f1laps/f1-track-vectors/main/f1_2020/bahrain.svg\" width=\"50\" height=\"50\"> </p></div><div><p>Track location: spain</p><p>Track svg: <img src=\"https://raw.githubusercontent.com/f1laps/f1-track-vectors/main/f1_2020/spain.svg\" width=\"50\" height=\"50\"> </p></div><div><p>Track location: turkey</p><p>Track svg: <img src=\"https://raw.githubusercontent.com/f1laps/f1-track-vectors/main/f1_2020/turkey.svg\" width=\"50\" height=\"50\"> </p></div><div><p>Track location: monaco</p><p>Track svg: <img src=\"https://raw.githubusercontent.com/f1laps/f1-track-vectors/main/f1_2020/monaco.svg\" width=\"50\" height=\"50\"> </p></div><div><p>Track location: canada</p><p>Track svg: <img src=\"https://raw.githubusercontent.com/f1laps/f1-track-vectors/main/f1_2020/canada.svg\" width=\"50\" height=\"50\"> </p></div><div><p>Track location: france</p><p>Track svg: <img src=\"https://raw.githubusercontent.com/f1laps/f1-track-vectors/main/f1_2020/france.svg\" width=\"50\" height=\"50\"> </p></div><div><p>Track location: uk</p><p>Track svg: <img src=\"https://raw.githubusercontent.com/f1laps/f1-track-vectors/main/f1_2020/uk.svg\" width=\"50\" height=\"50\"> </p></div><div><p>Track location: germany</p><p>Track svg: <img src=\"https://raw.githubusercontent.com/f1laps/f1-track-vectors/main/f1_2020/germany.svg\" width=\"50\" height=\"50\"> </p></div><div><p>Track location: hungary</p><p>Track svg: <img src=\"https://raw.githubusercontent.com/f1laps/f1-track-vectors/main/f1_2020/hungary.svg\" width=\"50\" height=\"50\"> </p></div><div><p>Track location: spain</p><p>Track svg: <img src=\"https://raw.githubusercontent.com/f1laps/f1-track-vectors/main/f1_2020/spain.svg\" width=\"50\" height=\"50\"> </p></div><div><p>Track location: belgium</p><p>Track svg: <img src=\"https://raw.githubusercontent.com/f1laps/f1-track-vectors/main/f1_2020/belgium.svg\" width=\"50\" height=\"50\"> </p></div><div><p>Track location: italy</p><p>Track svg: <img src=\"https://raw.githubusercontent.com/f1laps/f1-track-vectors/main/f1_2020/italy.svg\" width=\"50\" height=\"50\"> </p></div><div><p>Track location: singapore</p><p>Track svg: <img src=\"https://raw.githubusercontent.com/f1laps/f1-track-vectors/main/f1_2020/singapore.svg\" width=\"50\" height=\"50\"> </p></div><div><p>Track location: japan</p><p>Track svg: <img src=\"https://raw.githubusercontent.com/f1laps/f1-track-vectors/main/f1_2020/japan.svg\" width=\"50\" height=\"50\"> </p></div><div><p>Track location: china</p><p>Track svg: <img src=\"https://raw.githubusercontent.com/f1laps/f1-track-vectors/main/f1_2020/china.svg\" width=\"50\" height=\"50\"> </p></div><div><p>Track location: brazil</p><p>Track svg: <img src=\"https://raw.githubusercontent.com/f1laps/f1-track-vectors/main/f1_2020/brazil.svg\" width=\"50\" height=\"50\"> </p></div><div><p>Track location: usa</p><p>Track svg: <img src=\"https://raw.githubusercontent.com/f1laps/f1-track-vectors/main/f1_2020/usa.svg\" width=\"50\" height=\"50\"> </p></div><div><p>Track location: germany</p><p>Track svg: <img src=\"https://raw.githubusercontent.com/f1laps/f1-track-vectors/main/f1_2020/germany.svg\" width=\"50\" height=\"50\"> </p></div><div><p>Track location: italy</p><p>Track svg: <img src=\"https://raw.githubusercontent.com/f1laps/f1-track-vectors/main/f1_2020/italy.svg\" width=\"50\" height=\"50\"> </p></div><div><p>Track location: japan</p><p>Track svg: <img src=\"https://raw.githubusercontent.com/f1laps/f1-track-vectors/main/f1_2020/japan.svg\" width=\"50\" height=\"50\"> </p></div><div><p>Track location: united states</p><p>Track svg: <img src=\"https://raw.githubusercontent.com/f1laps/f1-track-vectors/main/f1_2020/united states.svg\" width=\"50\" height=\"50\"> </p></div><div><p>Track location: uae</p><p>Track svg: <img src=\"https://raw.githubusercontent.com/f1laps/f1-track-vectors/main/f1_2020/uae.svg\" width=\"50\" height=\"50\"> </p></div><div><p>Track location: argentina</p><p>Track svg: <img src=\"https://raw.githubusercontent.com/f1laps/f1-track-vectors/main/f1_2020/argentina.svg\" width=\"50\" height=\"50\"> </p></div><div><p>Track location: spain</p><p>Track svg: <img src=\"https://raw.githubusercontent.com/f1laps/f1-track-vectors/main/f1_2020/spain.svg\" width=\"50\" height=\"50\"> </p></div><div><p>Track location: portugal</p><p>Track svg: <img src=\"https://raw.githubusercontent.com/f1laps/f1-track-vectors/main/f1_2020/portugal.svg\" width=\"50\" height=\"50\"> </p></div><div><p>Track location: japan</p><p>Track svg: <img src=\"https://raw.githubusercontent.com/f1laps/f1-track-vectors/main/f1_2020/japan.svg\" width=\"50\" height=\"50\"> </p></div><div><p>Track location: australia</p><p>Track svg: <img src=\"https://raw.githubusercontent.com/f1laps/f1-track-vectors/main/f1_2020/australia.svg\" width=\"50\" height=\"50\"> </p></div><div><p>Track location: south africa</p><p>Track svg: <img src=\"https://raw.githubusercontent.com/f1laps/f1-track-vectors/main/f1_2020/south africa.svg\" width=\"50\" height=\"50\"> </p></div><div><p>Track location: uk</p><p>Track svg: <img src=\"https://raw.githubusercontent.com/f1laps/f1-track-vectors/main/f1_2020/uk.svg\" width=\"50\" height=\"50\"> </p></div><div><p>Track location: mexico</p><p>Track svg: <img src=\"https://raw.githubusercontent.com/f1laps/f1-track-vectors/main/f1_2020/mexico.svg\" width=\"50\" height=\"50\"> </p></div><div><p>Track location: usa</p><p>Track svg: <img src=\"https://raw.githubusercontent.com/f1laps/f1-track-vectors/main/f1_2020/usa.svg\" width=\"50\" height=\"50\"> </p></div><div><p>Track location: france</p><p>Track svg: <img src=\"https://raw.githubusercontent.com/f1laps/f1-track-vectors/main/f1_2020/france.svg\" width=\"50\" height=\"50\"> </p></div><div><p>Track location: korea</p><p>Track svg: <img src=\"https://raw.githubusercontent.com/f1laps/f1-track-vectors/main/f1_2020/korea.svg\" width=\"50\" height=\"50\"> </p></div><div><p>Track location: brazil</p><p>Track svg: <img src=\"https://raw.githubusercontent.com/f1laps/f1-track-vectors/main/f1_2020/brazil.svg\" width=\"50\" height=\"50\"> </p></div><div><p>Track location: usa</p><p>Track svg: <img src=\"https://raw.githubusercontent.com/f1laps/f1-track-vectors/main/f1_2020/usa.svg\" width=\"50\" height=\"50\"> </p></div><div><p>Track location: uk</p><p>Track svg: <img src=\"https://raw.githubusercontent.com/f1laps/f1-track-vectors/main/f1_2020/uk.svg\" width=\"50\" height=\"50\"> </p></div><div><p>Track location: netherlands</p><p>Track svg: <img src=\"https://raw.githubusercontent.com/f1laps/f1-track-vectors/main/f1_2020/netherlands.svg\" width=\"50\" height=\"50\"> </p></div><div><p>Track location: belgium</p><p>Track svg: <img src=\"https://raw.githubusercontent.com/f1laps/f1-track-vectors/main/f1_2020/belgium.svg\" width=\"50\" height=\"50\"> </p></div><div><p>Track location: france</p><p>Track svg: <img src=\"https://raw.githubusercontent.com/f1laps/f1-track-vectors/main/f1_2020/france.svg\" width=\"50\" height=\"50\"> </p></div><div><p>Track location: usa</p><p>Track svg: <img src=\"https://raw.githubusercontent.com/f1laps/f1-track-vectors/main/f1_2020/usa.svg\" width=\"50\" height=\"50\"> </p></div><div><p>Track location: usa</p><p>Track svg: <img src=\"https://raw.githubusercontent.com/f1laps/f1-track-vectors/main/f1_2020/usa.svg\" width=\"50\" height=\"50\"> </p></div><div><p>Track location: usa</p><p>Track svg: <img src=\"https://raw.githubusercontent.com/f1laps/f1-track-vectors/main/f1_2020/usa.svg\" width=\"50\" height=\"50\"> </p></div><div><p>Track location: spain</p><p>Track svg: <img src=\"https://raw.githubusercontent.com/f1laps/f1-track-vectors/main/f1_2020/spain.svg\" width=\"50\" height=\"50\"> </p></div><div><p>Track location: usa</p><p>Track svg: <img src=\"https://raw.githubusercontent.com/f1laps/f1-track-vectors/main/f1_2020/usa.svg\" width=\"50\" height=\"50\"> </p></div><div><p>Track location: sweden</p><p>Track svg: <img src=\"https://raw.githubusercontent.com/f1laps/f1-track-vectors/main/f1_2020/sweden.svg\" width=\"50\" height=\"50\"> </p></div><div><p>Track location: canada</p><p>Track svg: <img src=\"https://raw.githubusercontent.com/f1laps/f1-track-vectors/main/f1_2020/canada.svg\" width=\"50\" height=\"50\"> </p></div><div><p>Track location: spain</p><p>Track svg: <img src=\"https://raw.githubusercontent.com/f1laps/f1-track-vectors/main/f1_2020/spain.svg\" width=\"50\" height=\"50\"> </p></div><div><p>Track location: belgium</p><p>Track svg: <img src=\"https://raw.githubusercontent.com/f1laps/f1-track-vectors/main/f1_2020/belgium.svg\" width=\"50\" height=\"50\"> </p></div><div><p>Track location: france</p><p>Track svg: <img src=\"https://raw.githubusercontent.com/f1laps/f1-track-vectors/main/f1_2020/france.svg\" width=\"50\" height=\"50\"> </p></div><div><p>Track location: canada</p><p>Track svg: <img src=\"https://raw.githubusercontent.com/f1laps/f1-track-vectors/main/f1_2020/canada.svg\" width=\"50\" height=\"50\"> </p></div><div><p>Track location: france</p><p>Track svg: <img src=\"https://raw.githubusercontent.com/f1laps/f1-track-vectors/main/f1_2020/france.svg\" width=\"50\" height=\"50\"> </p></div><div><p>Track location: france</p><p>Track svg: <img src=\"https://raw.githubusercontent.com/f1laps/f1-track-vectors/main/f1_2020/france.svg\" width=\"50\" height=\"50\"> </p></div><div><p>Track location: france</p><p>Track svg: <img src=\"https://raw.githubusercontent.com/f1laps/f1-track-vectors/main/f1_2020/france.svg\" width=\"50\" height=\"50\"> </p></div><div><p>Track location: south africa</p><p>Track svg: <img src=\"https://raw.githubusercontent.com/f1laps/f1-track-vectors/main/f1_2020/south africa.svg\" width=\"50\" height=\"50\"> </p></div><div><p>Track location: austria</p><p>Track svg: <img src=\"https://raw.githubusercontent.com/f1laps/f1-track-vectors/main/f1_2020/austria.svg\" width=\"50\" height=\"50\"> </p></div><div><p>Track location: uk</p><p>Track svg: <img src=\"https://raw.githubusercontent.com/f1laps/f1-track-vectors/main/f1_2020/uk.svg\" width=\"50\" height=\"50\"> </p></div><div><p>Track location: portugal</p><p>Track svg: <img src=\"https://raw.githubusercontent.com/f1laps/f1-track-vectors/main/f1_2020/portugal.svg\" width=\"50\" height=\"50\"> </p></div><div><p>Track location: usa</p><p>Track svg: <img src=\"https://raw.githubusercontent.com/f1laps/f1-track-vectors/main/f1_2020/usa.svg\" width=\"50\" height=\"50\"> </p></div><div><p>Track location: germany</p><p>Track svg: <img src=\"https://raw.githubusercontent.com/f1laps/f1-track-vectors/main/f1_2020/germany.svg\" width=\"50\" height=\"50\"> </p></div><div><p>Track location: portugal</p><p>Track svg: <img src=\"https://raw.githubusercontent.com/f1laps/f1-track-vectors/main/f1_2020/portugal.svg\" width=\"50\" height=\"50\"> </p></div><div><p>Track location: usa</p><p>Track svg: <img src=\"https://raw.githubusercontent.com/f1laps/f1-track-vectors/main/f1_2020/usa.svg\" width=\"50\" height=\"50\"> </p></div><div><p>Track location: morocco</p><p>Track svg: <img src=\"https://raw.githubusercontent.com/f1laps/f1-track-vectors/main/f1_2020/morocco.svg\" width=\"50\" height=\"50\"> </p></div><div><p>Track location: italy</p><p>Track svg: <img src=\"https://raw.githubusercontent.com/f1laps/f1-track-vectors/main/f1_2020/italy.svg\" width=\"50\" height=\"50\"> </p></div><div><p>Track location: switzerland</p><p>Track svg: <img src=\"https://raw.githubusercontent.com/f1laps/f1-track-vectors/main/f1_2020/switzerland.svg\" width=\"50\" height=\"50\"> </p></div><div><p>Track location: spain</p><p>Track svg: <img src=\"https://raw.githubusercontent.com/f1laps/f1-track-vectors/main/f1_2020/spain.svg\" width=\"50\" height=\"50\"> </p></div><div><p>Track location: india</p><p>Track svg: <img src=\"https://raw.githubusercontent.com/f1laps/f1-track-vectors/main/f1_2020/india.svg\" width=\"50\" height=\"50\"> </p></div><div><p>Track location: usa</p><p>Track svg: <img src=\"https://raw.githubusercontent.com/f1laps/f1-track-vectors/main/f1_2020/usa.svg\" width=\"50\" height=\"50\"> </p></div><div><p>Track location: austria</p><p>Track svg: <img src=\"https://raw.githubusercontent.com/f1laps/f1-track-vectors/main/f1_2020/austria.svg\" width=\"50\" height=\"50\"> </p></div><div><p>Track location: russia</p><p>Track svg: <img src=\"https://raw.githubusercontent.com/f1laps/f1-track-vectors/main/f1_2020/russia.svg\" width=\"50\" height=\"50\"> </p></div><div><p>Track location: azerbaijan</p><p>Track svg: <img src=\"https://raw.githubusercontent.com/f1laps/f1-track-vectors/main/f1_2020/azerbaijan.svg\" width=\"50\" height=\"50\"> </p></div><div><p>Track location: portugal</p><p>Track svg: <img src=\"https://raw.githubusercontent.com/f1laps/f1-track-vectors/main/f1_2020/portugal.svg\" width=\"50\" height=\"50\"> </p></div><div><p>Track location: italy</p><p>Track svg: <img src=\"https://raw.githubusercontent.com/f1laps/f1-track-vectors/main/f1_2020/italy.svg\" width=\"50\" height=\"50\"> </p></div><div><p>Track location: saudi arabia</p><p>Track svg: <img src=\"https://raw.githubusercontent.com/f1laps/f1-track-vectors/main/f1_2020/saudi arabia.svg\" width=\"50\" height=\"50\"> </p></div><div><p>Track location: qatar</p><p>Track svg: <img src=\"https://raw.githubusercontent.com/f1laps/f1-track-vectors/main/f1_2020/qatar.svg\" width=\"50\" height=\"50\"> </p></div><div><p>Track location: usa</p><p>Track svg: <img src=\"https://raw.githubusercontent.com/f1laps/f1-track-vectors/main/f1_2020/usa.svg\" width=\"50\" height=\"50\"> </p></div></div>"
      ],
      "text/plain": [
       "<IPython.core.display.Markdown object>"
      ]
     },
     "metadata": {},
     "output_type": "display_data"
    }
   ],
   "source": [
    "# show the first location\n",
    "location = circuits[\"country\"][0].lower()\n",
    "\n",
    "get_github_link = (\n",
    "    lambda country: f\"https://raw.githubusercontent.com/f1laps/f1-track-vectors/main/f1_2020/{country}.svg\"\n",
    ")\n",
    "\n",
    "innerhtml = \"\"\n",
    "\n",
    "for location in circuits[\"country\"]:\n",
    "    location = location.lower()\n",
    "\n",
    "    innerhtml += f\"\"\"<div><p>Track location: {location}</p><p>Track svg: <img src=\"{get_github_link(location)}\" width=\"50\" height=\"50\"> </p></div>\"\"\"\n",
    "\n",
    "html = f\"\"\"<div style=\"display: grid; grid-template-columns: 1fr 1fr 1fr 1fr;\">{innerhtml}</div>\"\"\"\n",
    "\n",
    "display(Markdown(html))"
   ]
  },
  {
   "attachments": {},
   "cell_type": "markdown",
   "metadata": {
    "collapsed": false
   },
   "source": [
    "### constructor_results\n"
   ]
  },
  {
   "cell_type": "code",
   "execution_count": 72,
   "metadata": {
    "collapsed": false
   },
   "outputs": [
    {
     "name": "stdout",
     "output_type": "stream",
     "text": [
      "<class 'pandas.core.frame.DataFrame'>\n",
      "RangeIndex: 12170 entries, 0 to 12169\n",
      "Data columns (total 5 columns):\n",
      " #   Column                Non-Null Count  Dtype  \n",
      "---  ------                --------------  -----  \n",
      " 0   constructorResultsId  12170 non-null  int64  \n",
      " 1   raceId                12170 non-null  int64  \n",
      " 2   constructorId         12170 non-null  int64  \n",
      " 3   points                12170 non-null  float64\n",
      " 4   status                12170 non-null  object \n",
      "dtypes: float64(1), int64(3), object(1)\n",
      "memory usage: 475.5+ KB\n",
      "None\n"
     ]
    },
    {
     "data": {
      "text/html": [
       "<div>\n",
       "<style scoped>\n",
       "    .dataframe tbody tr th:only-of-type {\n",
       "        vertical-align: middle;\n",
       "    }\n",
       "\n",
       "    .dataframe tbody tr th {\n",
       "        vertical-align: top;\n",
       "    }\n",
       "\n",
       "    .dataframe thead th {\n",
       "        text-align: right;\n",
       "    }\n",
       "</style>\n",
       "<table border=\"1\" class=\"dataframe\">\n",
       "  <thead>\n",
       "    <tr style=\"text-align: right;\">\n",
       "      <th></th>\n",
       "      <th>constructorResultsId</th>\n",
       "      <th>raceId</th>\n",
       "      <th>constructorId</th>\n",
       "      <th>points</th>\n",
       "      <th>status</th>\n",
       "    </tr>\n",
       "  </thead>\n",
       "  <tbody>\n",
       "    <tr>\n",
       "      <th>12165</th>\n",
       "      <td>16665</td>\n",
       "      <td>1096</td>\n",
       "      <td>117</td>\n",
       "      <td>5.0</td>\n",
       "      <td>\\N</td>\n",
       "    </tr>\n",
       "    <tr>\n",
       "      <th>12166</th>\n",
       "      <td>16666</td>\n",
       "      <td>1096</td>\n",
       "      <td>213</td>\n",
       "      <td>0.0</td>\n",
       "      <td>\\N</td>\n",
       "    </tr>\n",
       "    <tr>\n",
       "      <th>12167</th>\n",
       "      <td>16667</td>\n",
       "      <td>1096</td>\n",
       "      <td>51</td>\n",
       "      <td>0.0</td>\n",
       "      <td>\\N</td>\n",
       "    </tr>\n",
       "    <tr>\n",
       "      <th>12168</th>\n",
       "      <td>16668</td>\n",
       "      <td>1096</td>\n",
       "      <td>3</td>\n",
       "      <td>0.0</td>\n",
       "      <td>\\N</td>\n",
       "    </tr>\n",
       "    <tr>\n",
       "      <th>12169</th>\n",
       "      <td>16669</td>\n",
       "      <td>1096</td>\n",
       "      <td>210</td>\n",
       "      <td>0.0</td>\n",
       "      <td>\\N</td>\n",
       "    </tr>\n",
       "  </tbody>\n",
       "</table>\n",
       "</div>"
      ],
      "text/plain": [
       "       constructorResultsId  raceId  constructorId  points status\n",
       "12165                 16665    1096            117     5.0     \\N\n",
       "12166                 16666    1096            213     0.0     \\N\n",
       "12167                 16667    1096             51     0.0     \\N\n",
       "12168                 16668    1096              3     0.0     \\N\n",
       "12169                 16669    1096            210     0.0     \\N"
      ]
     },
     "execution_count": 72,
     "metadata": {},
     "output_type": "execute_result"
    }
   ],
   "source": [
    "print(constructor_results.info())\n",
    "constructor_results.tail()"
   ]
  },
  {
   "cell_type": "code",
   "execution_count": 73,
   "metadata": {
    "collapsed": false
   },
   "outputs": [
    {
     "name": "stdout",
     "output_type": "stream",
     "text": [
      "There is data about 175  unique constructors in 1016 total races.\n",
      "Points range between  0.0  and  66.0\n"
     ]
    }
   ],
   "source": [
    "print(\n",
    "    \"There is data about\",\n",
    "    len(pd.unique(constructor_results[\"constructorId\"])),\n",
    "    \" unique constructors in\",\n",
    "    len(pd.unique(constructor_results[\"raceId\"])),\n",
    "    \"total races.\",\n",
    ")\n",
    "\n",
    "print(\n",
    "    \"Points range between \",\n",
    "    min(constructor_results[\"points\"]),\n",
    "    \" and \",\n",
    "    max(constructor_results[\"points\"]),\n",
    ")\n"
   ]
  },
  {
   "cell_type": "code",
   "execution_count": 74,
   "metadata": {
    "collapsed": false
   },
   "outputs": [
    {
     "data": {
      "text/plain": [
       "array(['\\\\N', 'D'], dtype=object)"
      ]
     },
     "execution_count": 74,
     "metadata": {},
     "output_type": "execute_result"
    }
   ],
   "source": [
    "# There is no information of what this variable signify\n",
    "pd.unique(constructor_results[\"status\"])"
   ]
  },
  {
   "attachments": {},
   "cell_type": "markdown",
   "metadata": {
    "collapsed": false
   },
   "source": [
    "### constructor_standings\n"
   ]
  },
  {
   "cell_type": "code",
   "execution_count": 75,
   "metadata": {
    "collapsed": false
   },
   "outputs": [
    {
     "name": "stdout",
     "output_type": "stream",
     "text": [
      "<class 'pandas.core.frame.DataFrame'>\n",
      "RangeIndex: 12941 entries, 0 to 12940\n",
      "Data columns (total 7 columns):\n",
      " #   Column                  Non-Null Count  Dtype  \n",
      "---  ------                  --------------  -----  \n",
      " 0   constructorStandingsId  12941 non-null  int64  \n",
      " 1   raceId                  12941 non-null  int64  \n",
      " 2   constructorId           12941 non-null  int64  \n",
      " 3   points                  12941 non-null  float64\n",
      " 4   position                12941 non-null  int64  \n",
      " 5   positionText            12941 non-null  object \n",
      " 6   wins                    12941 non-null  int64  \n",
      "dtypes: float64(1), int64(5), object(1)\n",
      "memory usage: 707.8+ KB\n",
      "None\n"
     ]
    },
    {
     "data": {
      "text/html": [
       "<div>\n",
       "<style scoped>\n",
       "    .dataframe tbody tr th:only-of-type {\n",
       "        vertical-align: middle;\n",
       "    }\n",
       "\n",
       "    .dataframe tbody tr th {\n",
       "        vertical-align: top;\n",
       "    }\n",
       "\n",
       "    .dataframe thead th {\n",
       "        text-align: right;\n",
       "    }\n",
       "</style>\n",
       "<table border=\"1\" class=\"dataframe\">\n",
       "  <thead>\n",
       "    <tr style=\"text-align: right;\">\n",
       "      <th></th>\n",
       "      <th>constructorStandingsId</th>\n",
       "      <th>raceId</th>\n",
       "      <th>constructorId</th>\n",
       "      <th>points</th>\n",
       "      <th>position</th>\n",
       "      <th>positionText</th>\n",
       "      <th>wins</th>\n",
       "    </tr>\n",
       "  </thead>\n",
       "  <tbody>\n",
       "    <tr>\n",
       "      <th>0</th>\n",
       "      <td>1</td>\n",
       "      <td>18</td>\n",
       "      <td>1</td>\n",
       "      <td>14.0</td>\n",
       "      <td>1</td>\n",
       "      <td>1</td>\n",
       "      <td>1</td>\n",
       "    </tr>\n",
       "    <tr>\n",
       "      <th>1</th>\n",
       "      <td>2</td>\n",
       "      <td>18</td>\n",
       "      <td>2</td>\n",
       "      <td>8.0</td>\n",
       "      <td>3</td>\n",
       "      <td>3</td>\n",
       "      <td>0</td>\n",
       "    </tr>\n",
       "    <tr>\n",
       "      <th>2</th>\n",
       "      <td>3</td>\n",
       "      <td>18</td>\n",
       "      <td>3</td>\n",
       "      <td>9.0</td>\n",
       "      <td>2</td>\n",
       "      <td>2</td>\n",
       "      <td>0</td>\n",
       "    </tr>\n",
       "    <tr>\n",
       "      <th>3</th>\n",
       "      <td>4</td>\n",
       "      <td>18</td>\n",
       "      <td>4</td>\n",
       "      <td>5.0</td>\n",
       "      <td>4</td>\n",
       "      <td>4</td>\n",
       "      <td>0</td>\n",
       "    </tr>\n",
       "    <tr>\n",
       "      <th>4</th>\n",
       "      <td>5</td>\n",
       "      <td>18</td>\n",
       "      <td>5</td>\n",
       "      <td>2.0</td>\n",
       "      <td>5</td>\n",
       "      <td>5</td>\n",
       "      <td>0</td>\n",
       "    </tr>\n",
       "  </tbody>\n",
       "</table>\n",
       "</div>"
      ],
      "text/plain": [
       "   constructorStandingsId  raceId  constructorId  points  position  \\\n",
       "0                       1      18              1    14.0         1   \n",
       "1                       2      18              2     8.0         3   \n",
       "2                       3      18              3     9.0         2   \n",
       "3                       4      18              4     5.0         4   \n",
       "4                       5      18              5     2.0         5   \n",
       "\n",
       "  positionText  wins  \n",
       "0            1     1  \n",
       "1            3     0  \n",
       "2            2     0  \n",
       "3            4     0  \n",
       "4            5     0  "
      ]
     },
     "execution_count": 75,
     "metadata": {},
     "output_type": "execute_result"
    }
   ],
   "source": [
    "print(constructor_standings.info())\n",
    "constructor_standings.head()"
   ]
  },
  {
   "cell_type": "code",
   "execution_count": 76,
   "metadata": {
    "collapsed": false
   },
   "outputs": [
    {
     "name": "stdout",
     "output_type": "stream",
     "text": [
      "There is  159  unique constructor ID and  1016  unique race ID. Resulting in  12941  total Constructor-race data.\n",
      "Points range between  0.0  and  765.0\n",
      "Positions range between  1  and  22 , which is normal as this is the number of drivers per race.\n"
     ]
    }
   ],
   "source": [
    "print(\n",
    "    \"There is \",\n",
    "    len(pd.unique(constructor_standings[\"constructorId\"])),\n",
    "    \" unique constructor ID and \",\n",
    "    len(pd.unique(constructor_standings[\"raceId\"])),\n",
    "    \" unique race ID. Resulting in \",\n",
    "    len(constructor_standings[\"constructorStandingsId\"]),\n",
    "    \" total Constructor-race data.\",\n",
    ")\n",
    "\n",
    "print(\n",
    "    \"Points range between \",\n",
    "    min(constructor_standings[\"points\"]),\n",
    "    \" and \",\n",
    "    max(constructor_standings[\"points\"]),\n",
    ")\n",
    "\n",
    "print(\n",
    "    \"Positions range between \",\n",
    "    min(constructor_standings[\"position\"]),\n",
    "    \" and \",\n",
    "    max(constructor_standings[\"position\"]),\n",
    "    \", which is normal as this is the number of drivers per race.\",\n",
    ")\n"
   ]
  },
  {
   "attachments": {},
   "cell_type": "markdown",
   "metadata": {
    "collapsed": false
   },
   "source": [
    "We note that there are less unique constructorIDs than in constructor_results. The number of unique race ID is the same.\n"
   ]
  },
  {
   "attachments": {},
   "cell_type": "markdown",
   "metadata": {},
   "source": [
    "**Using `constructor_standings` and `races` data we can find all constructors that took part in a given F1 season.**\n"
   ]
  },
  {
   "cell_type": "code",
   "execution_count": 77,
   "metadata": {
    "collapsed": false
   },
   "outputs": [
    {
     "data": {
      "text/plain": [
       "year\n",
       "1958    [Ferrari, Team Lotus, BRM, Porsche, Cooper, Ma...\n",
       "1959    [Ferrari, Team Lotus, BRM, Cooper-Maserati, Co...\n",
       "1960    [Ferrari, Team Lotus, BRM, Cooper-Maserati, Co...\n",
       "1961    [Ferrari, BRM, Cooper-Maserati, Cooper-Climax,...\n",
       "1962    [Ferrari, Lola, Team Lotus, Brabham, BRM, De T...\n",
       "                              ...                        \n",
       "2019    [Ferrari, Red Bull, Toro Rosso, Williams, Rena...\n",
       "2020    [Ferrari, Red Bull, Williams, Renault, McLaren...\n",
       "2021    [Ferrari, Red Bull, Williams, McLaren, Mercede...\n",
       "2022    [Ferrari, Red Bull, Williams, McLaren, Mercede...\n",
       "2023    [Ferrari, Red Bull, Williams, McLaren, Mercede...\n",
       "Name: name, Length: 66, dtype: object"
      ]
     },
     "execution_count": 77,
     "metadata": {},
     "output_type": "execute_result"
    }
   ],
   "source": [
    "# select unique year and raceId from races\n",
    "df = races[[\"year\", \"raceId\"]]\n",
    "\n",
    "# merge df with constructor_standings on raceId, and then \n",
    "df = pd.merge(df, constructor_standings[['constructorId', 'raceId']], on=\"raceId\")\n",
    "\n",
    "# merge with constructors on constructorId\n",
    "df = pd.merge(df, constructors[['constructorId', 'name']], on=\"constructorId\")\n",
    "\n",
    "# for each year, show the unique constructors\n",
    "df.groupby('year')['name'].unique()\n"
   ]
  },
  {
   "attachments": {},
   "cell_type": "markdown",
   "metadata": {
    "collapsed": false
   },
   "source": [
    "### constructors\n"
   ]
  },
  {
   "cell_type": "code",
   "execution_count": 78,
   "metadata": {
    "collapsed": false
   },
   "outputs": [
    {
     "name": "stdout",
     "output_type": "stream",
     "text": [
      "<class 'pandas.core.frame.DataFrame'>\n",
      "RangeIndex: 211 entries, 0 to 210\n",
      "Data columns (total 5 columns):\n",
      " #   Column          Non-Null Count  Dtype \n",
      "---  ------          --------------  ----- \n",
      " 0   constructorId   211 non-null    int64 \n",
      " 1   constructorRef  211 non-null    object\n",
      " 2   name            211 non-null    object\n",
      " 3   nationality     211 non-null    object\n",
      " 4   url             211 non-null    object\n",
      "dtypes: int64(1), object(4)\n",
      "memory usage: 8.4+ KB\n",
      "None\n"
     ]
    },
    {
     "data": {
      "text/html": [
       "<div>\n",
       "<style scoped>\n",
       "    .dataframe tbody tr th:only-of-type {\n",
       "        vertical-align: middle;\n",
       "    }\n",
       "\n",
       "    .dataframe tbody tr th {\n",
       "        vertical-align: top;\n",
       "    }\n",
       "\n",
       "    .dataframe thead th {\n",
       "        text-align: right;\n",
       "    }\n",
       "</style>\n",
       "<table border=\"1\" class=\"dataframe\">\n",
       "  <thead>\n",
       "    <tr style=\"text-align: right;\">\n",
       "      <th></th>\n",
       "      <th>constructorId</th>\n",
       "      <th>constructorRef</th>\n",
       "      <th>name</th>\n",
       "      <th>nationality</th>\n",
       "      <th>url</th>\n",
       "    </tr>\n",
       "  </thead>\n",
       "  <tbody>\n",
       "    <tr>\n",
       "      <th>0</th>\n",
       "      <td>1</td>\n",
       "      <td>mclaren</td>\n",
       "      <td>McLaren</td>\n",
       "      <td>British</td>\n",
       "      <td>http://en.wikipedia.org/wiki/McLaren</td>\n",
       "    </tr>\n",
       "    <tr>\n",
       "      <th>1</th>\n",
       "      <td>2</td>\n",
       "      <td>bmw_sauber</td>\n",
       "      <td>BMW Sauber</td>\n",
       "      <td>German</td>\n",
       "      <td>http://en.wikipedia.org/wiki/BMW_Sauber</td>\n",
       "    </tr>\n",
       "    <tr>\n",
       "      <th>2</th>\n",
       "      <td>3</td>\n",
       "      <td>williams</td>\n",
       "      <td>Williams</td>\n",
       "      <td>British</td>\n",
       "      <td>http://en.wikipedia.org/wiki/Williams_Grand_Pr...</td>\n",
       "    </tr>\n",
       "    <tr>\n",
       "      <th>3</th>\n",
       "      <td>4</td>\n",
       "      <td>renault</td>\n",
       "      <td>Renault</td>\n",
       "      <td>French</td>\n",
       "      <td>http://en.wikipedia.org/wiki/Renault_in_Formul...</td>\n",
       "    </tr>\n",
       "    <tr>\n",
       "      <th>4</th>\n",
       "      <td>5</td>\n",
       "      <td>toro_rosso</td>\n",
       "      <td>Toro Rosso</td>\n",
       "      <td>Italian</td>\n",
       "      <td>http://en.wikipedia.org/wiki/Scuderia_Toro_Rosso</td>\n",
       "    </tr>\n",
       "  </tbody>\n",
       "</table>\n",
       "</div>"
      ],
      "text/plain": [
       "   constructorId constructorRef        name nationality  \\\n",
       "0              1        mclaren     McLaren     British   \n",
       "1              2     bmw_sauber  BMW Sauber      German   \n",
       "2              3       williams    Williams     British   \n",
       "3              4        renault     Renault      French   \n",
       "4              5     toro_rosso  Toro Rosso     Italian   \n",
       "\n",
       "                                                 url  \n",
       "0               http://en.wikipedia.org/wiki/McLaren  \n",
       "1            http://en.wikipedia.org/wiki/BMW_Sauber  \n",
       "2  http://en.wikipedia.org/wiki/Williams_Grand_Pr...  \n",
       "3  http://en.wikipedia.org/wiki/Renault_in_Formul...  \n",
       "4   http://en.wikipedia.org/wiki/Scuderia_Toro_Rosso  "
      ]
     },
     "execution_count": 78,
     "metadata": {},
     "output_type": "execute_result"
    }
   ],
   "source": [
    "print(constructors.info())\n",
    "constructors.head()"
   ]
  },
  {
   "cell_type": "code",
   "execution_count": 79,
   "metadata": {
    "collapsed": false
   },
   "outputs": [
    {
     "name": "stdout",
     "output_type": "stream",
     "text": [
      "There is  211 constructors, with  24  unique nationality.\n"
     ]
    }
   ],
   "source": [
    "print(\n",
    "    \"There is \",\n",
    "    len(pd.unique(constructors[\"constructorId\"])),\n",
    "    \"constructors, with \",\n",
    "    len(pd.unique(constructors[\"nationality\"])),\n",
    "    \" unique nationality.\",\n",
    ")"
   ]
  },
  {
   "attachments": {},
   "cell_type": "markdown",
   "metadata": {
    "collapsed": false
   },
   "source": [
    "### driver_standings\n"
   ]
  },
  {
   "cell_type": "code",
   "execution_count": 80,
   "metadata": {
    "collapsed": false
   },
   "outputs": [
    {
     "name": "stdout",
     "output_type": "stream",
     "text": [
      "<class 'pandas.core.frame.DataFrame'>\n",
      "RangeIndex: 33902 entries, 0 to 33901\n",
      "Data columns (total 7 columns):\n",
      " #   Column             Non-Null Count  Dtype  \n",
      "---  ------             --------------  -----  \n",
      " 0   driverStandingsId  33902 non-null  int64  \n",
      " 1   raceId             33902 non-null  int64  \n",
      " 2   driverId           33902 non-null  int64  \n",
      " 3   points             33902 non-null  float64\n",
      " 4   position           33902 non-null  int64  \n",
      " 5   positionText       33902 non-null  object \n",
      " 6   wins               33902 non-null  int64  \n",
      "dtypes: float64(1), int64(5), object(1)\n",
      "memory usage: 1.8+ MB\n",
      "None\n"
     ]
    },
    {
     "data": {
      "text/html": [
       "<div>\n",
       "<style scoped>\n",
       "    .dataframe tbody tr th:only-of-type {\n",
       "        vertical-align: middle;\n",
       "    }\n",
       "\n",
       "    .dataframe tbody tr th {\n",
       "        vertical-align: top;\n",
       "    }\n",
       "\n",
       "    .dataframe thead th {\n",
       "        text-align: right;\n",
       "    }\n",
       "</style>\n",
       "<table border=\"1\" class=\"dataframe\">\n",
       "  <thead>\n",
       "    <tr style=\"text-align: right;\">\n",
       "      <th></th>\n",
       "      <th>driverStandingsId</th>\n",
       "      <th>raceId</th>\n",
       "      <th>driverId</th>\n",
       "      <th>points</th>\n",
       "      <th>position</th>\n",
       "      <th>positionText</th>\n",
       "      <th>wins</th>\n",
       "    </tr>\n",
       "  </thead>\n",
       "  <tbody>\n",
       "    <tr>\n",
       "      <th>0</th>\n",
       "      <td>1</td>\n",
       "      <td>18</td>\n",
       "      <td>1</td>\n",
       "      <td>10.0</td>\n",
       "      <td>1</td>\n",
       "      <td>1</td>\n",
       "      <td>1</td>\n",
       "    </tr>\n",
       "    <tr>\n",
       "      <th>1</th>\n",
       "      <td>2</td>\n",
       "      <td>18</td>\n",
       "      <td>2</td>\n",
       "      <td>8.0</td>\n",
       "      <td>2</td>\n",
       "      <td>2</td>\n",
       "      <td>0</td>\n",
       "    </tr>\n",
       "    <tr>\n",
       "      <th>2</th>\n",
       "      <td>3</td>\n",
       "      <td>18</td>\n",
       "      <td>3</td>\n",
       "      <td>6.0</td>\n",
       "      <td>3</td>\n",
       "      <td>3</td>\n",
       "      <td>0</td>\n",
       "    </tr>\n",
       "    <tr>\n",
       "      <th>3</th>\n",
       "      <td>4</td>\n",
       "      <td>18</td>\n",
       "      <td>4</td>\n",
       "      <td>5.0</td>\n",
       "      <td>4</td>\n",
       "      <td>4</td>\n",
       "      <td>0</td>\n",
       "    </tr>\n",
       "    <tr>\n",
       "      <th>4</th>\n",
       "      <td>5</td>\n",
       "      <td>18</td>\n",
       "      <td>5</td>\n",
       "      <td>4.0</td>\n",
       "      <td>5</td>\n",
       "      <td>5</td>\n",
       "      <td>0</td>\n",
       "    </tr>\n",
       "  </tbody>\n",
       "</table>\n",
       "</div>"
      ],
      "text/plain": [
       "   driverStandingsId  raceId  driverId  points  position positionText  wins\n",
       "0                  1      18         1    10.0         1            1     1\n",
       "1                  2      18         2     8.0         2            2     0\n",
       "2                  3      18         3     6.0         3            3     0\n",
       "3                  4      18         4     5.0         4            4     0\n",
       "4                  5      18         5     4.0         5            5     0"
      ]
     },
     "execution_count": 80,
     "metadata": {},
     "output_type": "execute_result"
    }
   ],
   "source": [
    "print(driver_standings.info())\n",
    "driver_standings.head()"
   ]
  },
  {
   "cell_type": "code",
   "execution_count": 81,
   "metadata": {
    "collapsed": false
   },
   "outputs": [
    {
     "name": "stdout",
     "output_type": "stream",
     "text": [
      "There is  1080 unique race ID and  850  unique driver ID.\n",
      "Points range between  0.0  and  454.0\n",
      "Positions range between  1  and  108\n"
     ]
    }
   ],
   "source": [
    "print(\n",
    "    \"There is \",\n",
    "    len(pd.unique(driver_standings[\"raceId\"])),\n",
    "    \"unique race ID and \",\n",
    "    len(pd.unique(driver_standings[\"driverId\"])),\n",
    "    \" unique driver ID.\",\n",
    ")\n",
    "print(\n",
    "    \"Points range between \",\n",
    "    min(driver_standings[\"points\"]),\n",
    "    \" and \",\n",
    "    max(driver_standings[\"points\"]),\n",
    ")\n",
    "\n",
    "print(\n",
    "    \"Positions range between \",\n",
    "    min(driver_standings[\"position\"]),\n",
    "    \" and \",\n",
    "    max(driver_standings[\"position\"]),\n",
    ")"
   ]
  },
  {
   "attachments": {},
   "cell_type": "markdown",
   "metadata": {},
   "source": [
    "**For a given driver we can find the results of all races they participated in.**"
   ]
  },
  {
   "cell_type": "code",
   "execution_count": 119,
   "metadata": {},
   "outputs": [
    {
     "data": {
      "text/html": [
       "<div>\n",
       "<style scoped>\n",
       "    .dataframe tbody tr th:only-of-type {\n",
       "        vertical-align: middle;\n",
       "    }\n",
       "\n",
       "    .dataframe tbody tr th {\n",
       "        vertical-align: top;\n",
       "    }\n",
       "\n",
       "    .dataframe thead th {\n",
       "        text-align: right;\n",
       "    }\n",
       "</style>\n",
       "<table border=\"1\" class=\"dataframe\">\n",
       "  <thead>\n",
       "    <tr style=\"text-align: right;\">\n",
       "      <th></th>\n",
       "      <th>driverId</th>\n",
       "      <th>driverRef</th>\n",
       "      <th>number</th>\n",
       "      <th>code</th>\n",
       "      <th>forename</th>\n",
       "      <th>surname</th>\n",
       "      <th>dob</th>\n",
       "      <th>nationality</th>\n",
       "      <th>url</th>\n",
       "    </tr>\n",
       "  </thead>\n",
       "  <tbody>\n",
       "    <tr>\n",
       "      <th>199</th>\n",
       "      <td>200</td>\n",
       "      <td>mass</td>\n",
       "      <td>\\N</td>\n",
       "      <td>\\N</td>\n",
       "      <td>Jochen</td>\n",
       "      <td>Mass</td>\n",
       "      <td>1946-09-30</td>\n",
       "      <td>German</td>\n",
       "      <td>http://en.wikipedia.org/wiki/Jochen_Mass</td>\n",
       "    </tr>\n",
       "  </tbody>\n",
       "</table>\n",
       "</div>"
      ],
      "text/plain": [
       "     driverId driverRef number code forename surname         dob nationality  \\\n",
       "199       200      mass     \\N   \\N   Jochen    Mass  1946-09-30      German   \n",
       "\n",
       "                                          url  \n",
       "199  http://en.wikipedia.org/wiki/Jochen_Mass  "
      ]
     },
     "metadata": {},
     "output_type": "display_data"
    },
    {
     "data": {
      "text/plain": [
       "'Total races: 130'"
      ]
     },
     "metadata": {},
     "output_type": "display_data"
    },
    {
     "data": {
      "text/html": [
       "<div>\n",
       "<style scoped>\n",
       "    .dataframe tbody tr th:only-of-type {\n",
       "        vertical-align: middle;\n",
       "    }\n",
       "\n",
       "    .dataframe tbody tr th {\n",
       "        vertical-align: top;\n",
       "    }\n",
       "\n",
       "    .dataframe thead th {\n",
       "        text-align: right;\n",
       "    }\n",
       "</style>\n",
       "<table border=\"1\" class=\"dataframe\">\n",
       "  <thead>\n",
       "    <tr style=\"text-align: right;\">\n",
       "      <th></th>\n",
       "      <th>raceId</th>\n",
       "      <th>points</th>\n",
       "      <th>position</th>\n",
       "    </tr>\n",
       "  </thead>\n",
       "  <tbody>\n",
       "    <tr>\n",
       "      <th>14470</th>\n",
       "      <td>549</td>\n",
       "      <td>8.0</td>\n",
       "      <td>8</td>\n",
       "    </tr>\n",
       "    <tr>\n",
       "      <th>11833</th>\n",
       "      <td>473</td>\n",
       "      <td>0.0</td>\n",
       "      <td>22</td>\n",
       "    </tr>\n",
       "    <tr>\n",
       "      <th>14221</th>\n",
       "      <td>541</td>\n",
       "      <td>0.0</td>\n",
       "      <td>23</td>\n",
       "    </tr>\n",
       "    <tr>\n",
       "      <th>16322</th>\n",
       "      <td>594</td>\n",
       "      <td>0.0</td>\n",
       "      <td>31</td>\n",
       "    </tr>\n",
       "    <tr>\n",
       "      <th>14553</th>\n",
       "      <td>551</td>\n",
       "      <td>14.0</td>\n",
       "      <td>6</td>\n",
       "    </tr>\n",
       "  </tbody>\n",
       "</table>\n",
       "</div>"
      ],
      "text/plain": [
       "       raceId  points  position\n",
       "14470     549     8.0         8\n",
       "11833     473     0.0        22\n",
       "14221     541     0.0        23\n",
       "16322     594     0.0        31\n",
       "14553     551    14.0         6"
      ]
     },
     "metadata": {},
     "output_type": "display_data"
    }
   ],
   "source": [
    "# select raceId, points, and position for a particular driver from driver_standings\n",
    "driverId = 200\n",
    "\n",
    "df = driver_standings[driver_standings[\"driverId\"] == driverId][\n",
    "    [\"raceId\", \"points\", \"position\"]\n",
    "]\n",
    "\n",
    "# show data for driver from drivers\n",
    "\n",
    "\n",
    "display(\n",
    "    drivers[drivers[\"driverId\"] == driverId],\n",
    "    f\"Total races: {df.count()[0]}\",\n",
    "    df.sample(5),\n",
    ")"
   ]
  },
  {
   "attachments": {},
   "cell_type": "markdown",
   "metadata": {
    "collapsed": false
   },
   "source": [
    "### drivers\n"
   ]
  },
  {
   "cell_type": "code",
   "execution_count": 82,
   "metadata": {
    "collapsed": false
   },
   "outputs": [
    {
     "name": "stdout",
     "output_type": "stream",
     "text": [
      "<class 'pandas.core.frame.DataFrame'>\n",
      "RangeIndex: 857 entries, 0 to 856\n",
      "Data columns (total 9 columns):\n",
      " #   Column       Non-Null Count  Dtype \n",
      "---  ------       --------------  ----- \n",
      " 0   driverId     857 non-null    int64 \n",
      " 1   driverRef    857 non-null    object\n",
      " 2   number       857 non-null    object\n",
      " 3   code         857 non-null    object\n",
      " 4   forename     857 non-null    object\n",
      " 5   surname      857 non-null    object\n",
      " 6   dob          857 non-null    object\n",
      " 7   nationality  857 non-null    object\n",
      " 8   url          857 non-null    object\n",
      "dtypes: int64(1), object(8)\n",
      "memory usage: 60.4+ KB\n",
      "None\n"
     ]
    },
    {
     "data": {
      "text/html": [
       "<div>\n",
       "<style scoped>\n",
       "    .dataframe tbody tr th:only-of-type {\n",
       "        vertical-align: middle;\n",
       "    }\n",
       "\n",
       "    .dataframe tbody tr th {\n",
       "        vertical-align: top;\n",
       "    }\n",
       "\n",
       "    .dataframe thead th {\n",
       "        text-align: right;\n",
       "    }\n",
       "</style>\n",
       "<table border=\"1\" class=\"dataframe\">\n",
       "  <thead>\n",
       "    <tr style=\"text-align: right;\">\n",
       "      <th></th>\n",
       "      <th>driverId</th>\n",
       "      <th>driverRef</th>\n",
       "      <th>number</th>\n",
       "      <th>code</th>\n",
       "      <th>forename</th>\n",
       "      <th>surname</th>\n",
       "      <th>dob</th>\n",
       "      <th>nationality</th>\n",
       "      <th>url</th>\n",
       "    </tr>\n",
       "  </thead>\n",
       "  <tbody>\n",
       "    <tr>\n",
       "      <th>0</th>\n",
       "      <td>1</td>\n",
       "      <td>hamilton</td>\n",
       "      <td>44</td>\n",
       "      <td>HAM</td>\n",
       "      <td>Lewis</td>\n",
       "      <td>Hamilton</td>\n",
       "      <td>1985-01-07</td>\n",
       "      <td>British</td>\n",
       "      <td>http://en.wikipedia.org/wiki/Lewis_Hamilton</td>\n",
       "    </tr>\n",
       "    <tr>\n",
       "      <th>1</th>\n",
       "      <td>2</td>\n",
       "      <td>heidfeld</td>\n",
       "      <td>\\N</td>\n",
       "      <td>HEI</td>\n",
       "      <td>Nick</td>\n",
       "      <td>Heidfeld</td>\n",
       "      <td>1977-05-10</td>\n",
       "      <td>German</td>\n",
       "      <td>http://en.wikipedia.org/wiki/Nick_Heidfeld</td>\n",
       "    </tr>\n",
       "    <tr>\n",
       "      <th>2</th>\n",
       "      <td>3</td>\n",
       "      <td>rosberg</td>\n",
       "      <td>6</td>\n",
       "      <td>ROS</td>\n",
       "      <td>Nico</td>\n",
       "      <td>Rosberg</td>\n",
       "      <td>1985-06-27</td>\n",
       "      <td>German</td>\n",
       "      <td>http://en.wikipedia.org/wiki/Nico_Rosberg</td>\n",
       "    </tr>\n",
       "    <tr>\n",
       "      <th>3</th>\n",
       "      <td>4</td>\n",
       "      <td>alonso</td>\n",
       "      <td>14</td>\n",
       "      <td>ALO</td>\n",
       "      <td>Fernando</td>\n",
       "      <td>Alonso</td>\n",
       "      <td>1981-07-29</td>\n",
       "      <td>Spanish</td>\n",
       "      <td>http://en.wikipedia.org/wiki/Fernando_Alonso</td>\n",
       "    </tr>\n",
       "    <tr>\n",
       "      <th>4</th>\n",
       "      <td>5</td>\n",
       "      <td>kovalainen</td>\n",
       "      <td>\\N</td>\n",
       "      <td>KOV</td>\n",
       "      <td>Heikki</td>\n",
       "      <td>Kovalainen</td>\n",
       "      <td>1981-10-19</td>\n",
       "      <td>Finnish</td>\n",
       "      <td>http://en.wikipedia.org/wiki/Heikki_Kovalainen</td>\n",
       "    </tr>\n",
       "  </tbody>\n",
       "</table>\n",
       "</div>"
      ],
      "text/plain": [
       "   driverId   driverRef number code  forename     surname         dob  \\\n",
       "0         1    hamilton     44  HAM     Lewis    Hamilton  1985-01-07   \n",
       "1         2    heidfeld     \\N  HEI      Nick    Heidfeld  1977-05-10   \n",
       "2         3     rosberg      6  ROS      Nico     Rosberg  1985-06-27   \n",
       "3         4      alonso     14  ALO  Fernando      Alonso  1981-07-29   \n",
       "4         5  kovalainen     \\N  KOV    Heikki  Kovalainen  1981-10-19   \n",
       "\n",
       "  nationality                                             url  \n",
       "0     British     http://en.wikipedia.org/wiki/Lewis_Hamilton  \n",
       "1      German      http://en.wikipedia.org/wiki/Nick_Heidfeld  \n",
       "2      German       http://en.wikipedia.org/wiki/Nico_Rosberg  \n",
       "3     Spanish    http://en.wikipedia.org/wiki/Fernando_Alonso  \n",
       "4     Finnish  http://en.wikipedia.org/wiki/Heikki_Kovalainen  "
      ]
     },
     "execution_count": 82,
     "metadata": {},
     "output_type": "execute_result"
    }
   ],
   "source": [
    "print(drivers.info())\n",
    "drivers.head()"
   ]
  },
  {
   "cell_type": "code",
   "execution_count": 83,
   "metadata": {
    "collapsed": false
   },
   "outputs": [
    {
     "name": "stdout",
     "output_type": "stream",
     "text": [
      "There is  857 driver ID, with  42  unique nationality.\n"
     ]
    }
   ],
   "source": [
    "print(\n",
    "    \"There is \",\n",
    "    len(pd.unique(drivers[\"driverId\"])),\n",
    "    \"driver ID, with \",\n",
    "    len(pd.unique(drivers[\"nationality\"])),\n",
    "    \" unique nationality.\",\n",
    ")"
   ]
  },
  {
   "attachments": {},
   "cell_type": "markdown",
   "metadata": {
    "collapsed": false
   },
   "source": [
    "### lap_times\n"
   ]
  },
  {
   "cell_type": "code",
   "execution_count": 84,
   "metadata": {
    "collapsed": false
   },
   "outputs": [
    {
     "name": "stdout",
     "output_type": "stream",
     "text": [
      "<class 'pandas.core.frame.DataFrame'>\n",
      "RangeIndex: 538121 entries, 0 to 538120\n",
      "Data columns (total 6 columns):\n",
      " #   Column        Non-Null Count   Dtype \n",
      "---  ------        --------------   ----- \n",
      " 0   raceId        538121 non-null  int64 \n",
      " 1   driverId      538121 non-null  int64 \n",
      " 2   lap           538121 non-null  int64 \n",
      " 3   position      538121 non-null  int64 \n",
      " 4   time          538121 non-null  object\n",
      " 5   milliseconds  538121 non-null  int64 \n",
      "dtypes: int64(5), object(1)\n",
      "memory usage: 24.6+ MB\n",
      "None\n"
     ]
    },
    {
     "data": {
      "text/html": [
       "<div>\n",
       "<style scoped>\n",
       "    .dataframe tbody tr th:only-of-type {\n",
       "        vertical-align: middle;\n",
       "    }\n",
       "\n",
       "    .dataframe tbody tr th {\n",
       "        vertical-align: top;\n",
       "    }\n",
       "\n",
       "    .dataframe thead th {\n",
       "        text-align: right;\n",
       "    }\n",
       "</style>\n",
       "<table border=\"1\" class=\"dataframe\">\n",
       "  <thead>\n",
       "    <tr style=\"text-align: right;\">\n",
       "      <th></th>\n",
       "      <th>raceId</th>\n",
       "      <th>driverId</th>\n",
       "      <th>lap</th>\n",
       "      <th>position</th>\n",
       "      <th>time</th>\n",
       "      <th>milliseconds</th>\n",
       "    </tr>\n",
       "  </thead>\n",
       "  <tbody>\n",
       "    <tr>\n",
       "      <th>0</th>\n",
       "      <td>841</td>\n",
       "      <td>20</td>\n",
       "      <td>1</td>\n",
       "      <td>1</td>\n",
       "      <td>1:38.109</td>\n",
       "      <td>98109</td>\n",
       "    </tr>\n",
       "    <tr>\n",
       "      <th>1</th>\n",
       "      <td>841</td>\n",
       "      <td>20</td>\n",
       "      <td>2</td>\n",
       "      <td>1</td>\n",
       "      <td>1:33.006</td>\n",
       "      <td>93006</td>\n",
       "    </tr>\n",
       "    <tr>\n",
       "      <th>2</th>\n",
       "      <td>841</td>\n",
       "      <td>20</td>\n",
       "      <td>3</td>\n",
       "      <td>1</td>\n",
       "      <td>1:32.713</td>\n",
       "      <td>92713</td>\n",
       "    </tr>\n",
       "    <tr>\n",
       "      <th>3</th>\n",
       "      <td>841</td>\n",
       "      <td>20</td>\n",
       "      <td>4</td>\n",
       "      <td>1</td>\n",
       "      <td>1:32.803</td>\n",
       "      <td>92803</td>\n",
       "    </tr>\n",
       "    <tr>\n",
       "      <th>4</th>\n",
       "      <td>841</td>\n",
       "      <td>20</td>\n",
       "      <td>5</td>\n",
       "      <td>1</td>\n",
       "      <td>1:32.342</td>\n",
       "      <td>92342</td>\n",
       "    </tr>\n",
       "  </tbody>\n",
       "</table>\n",
       "</div>"
      ],
      "text/plain": [
       "   raceId  driverId  lap  position      time  milliseconds\n",
       "0     841        20    1         1  1:38.109         98109\n",
       "1     841        20    2         1  1:33.006         93006\n",
       "2     841        20    3         1  1:32.713         92713\n",
       "3     841        20    4         1  1:32.803         92803\n",
       "4     841        20    5         1  1:32.342         92342"
      ]
     },
     "execution_count": 84,
     "metadata": {},
     "output_type": "execute_result"
    }
   ],
   "source": [
    "print(lap_times.info())\n",
    "lap_times.head()"
   ]
  },
  {
   "cell_type": "code",
   "execution_count": 85,
   "metadata": {
    "collapsed": false
   },
   "outputs": [
    {
     "name": "stdout",
     "output_type": "stream",
     "text": [
      "There are  498 unique race ID and  137  unique driver ID.\n",
      "Number of laps can go up to  87\n"
     ]
    }
   ],
   "source": [
    "print(\n",
    "    \"There are \",\n",
    "    len(pd.unique(lap_times[\"raceId\"])),\n",
    "    \"unique race ID and \",\n",
    "    len(pd.unique(lap_times[\"driverId\"])),\n",
    "    \" unique driver ID.\",\n",
    ")\n",
    "print(\"Number of laps can go up to \", max(lap_times[\"lap\"]))"
   ]
  },
  {
   "attachments": {},
   "cell_type": "markdown",
   "metadata": {},
   "source": [
    "**For a given race and driver, we can obtain the lap times and the position of the driver at the end of each lap.**\n",
    "**This will be useful to visualize a chosen race.**\n"
   ]
  },
  {
   "cell_type": "code",
   "execution_count": 122,
   "metadata": {},
   "outputs": [
    {
     "data": {
      "text/plain": [
       "'Race'"
      ]
     },
     "metadata": {},
     "output_type": "display_data"
    },
    {
     "data": {
      "text/html": [
       "<div>\n",
       "<style scoped>\n",
       "    .dataframe tbody tr th:only-of-type {\n",
       "        vertical-align: middle;\n",
       "    }\n",
       "\n",
       "    .dataframe tbody tr th {\n",
       "        vertical-align: top;\n",
       "    }\n",
       "\n",
       "    .dataframe thead th {\n",
       "        text-align: right;\n",
       "    }\n",
       "</style>\n",
       "<table border=\"1\" class=\"dataframe\">\n",
       "  <thead>\n",
       "    <tr style=\"text-align: right;\">\n",
       "      <th></th>\n",
       "      <th>raceId</th>\n",
       "      <th>year</th>\n",
       "      <th>round</th>\n",
       "      <th>circuitId</th>\n",
       "      <th>name</th>\n",
       "      <th>date</th>\n",
       "      <th>time</th>\n",
       "      <th>url</th>\n",
       "      <th>fp1_date</th>\n",
       "      <th>fp1_time</th>\n",
       "      <th>fp2_date</th>\n",
       "      <th>fp2_time</th>\n",
       "      <th>fp3_date</th>\n",
       "      <th>fp3_time</th>\n",
       "      <th>quali_date</th>\n",
       "      <th>quali_time</th>\n",
       "      <th>sprint_date</th>\n",
       "      <th>sprint_time</th>\n",
       "    </tr>\n",
       "  </thead>\n",
       "  <tbody>\n",
       "    <tr>\n",
       "      <th>0</th>\n",
       "      <td>1</td>\n",
       "      <td>2009</td>\n",
       "      <td>1</td>\n",
       "      <td>1</td>\n",
       "      <td>Australian Grand Prix</td>\n",
       "      <td>2009-03-29</td>\n",
       "      <td>06:00:00</td>\n",
       "      <td>http://en.wikipedia.org/wiki/2009_Australian_G...</td>\n",
       "      <td>\\N</td>\n",
       "      <td>\\N</td>\n",
       "      <td>\\N</td>\n",
       "      <td>\\N</td>\n",
       "      <td>\\N</td>\n",
       "      <td>\\N</td>\n",
       "      <td>\\N</td>\n",
       "      <td>\\N</td>\n",
       "      <td>\\N</td>\n",
       "      <td>\\N</td>\n",
       "    </tr>\n",
       "  </tbody>\n",
       "</table>\n",
       "</div>"
      ],
      "text/plain": [
       "   raceId  year  round  circuitId                   name        date  \\\n",
       "0       1  2009      1          1  Australian Grand Prix  2009-03-29   \n",
       "\n",
       "       time                                                url fp1_date  \\\n",
       "0  06:00:00  http://en.wikipedia.org/wiki/2009_Australian_G...       \\N   \n",
       "\n",
       "  fp1_time fp2_date fp2_time fp3_date fp3_time quali_date quali_time  \\\n",
       "0       \\N       \\N       \\N       \\N       \\N         \\N         \\N   \n",
       "\n",
       "  sprint_date sprint_time  \n",
       "0          \\N          \\N  "
      ]
     },
     "metadata": {},
     "output_type": "display_data"
    },
    {
     "data": {
      "text/plain": [
       "'Driver'"
      ]
     },
     "metadata": {},
     "output_type": "display_data"
    },
    {
     "data": {
      "text/html": [
       "<div>\n",
       "<style scoped>\n",
       "    .dataframe tbody tr th:only-of-type {\n",
       "        vertical-align: middle;\n",
       "    }\n",
       "\n",
       "    .dataframe tbody tr th {\n",
       "        vertical-align: top;\n",
       "    }\n",
       "\n",
       "    .dataframe thead th {\n",
       "        text-align: right;\n",
       "    }\n",
       "</style>\n",
       "<table border=\"1\" class=\"dataframe\">\n",
       "  <thead>\n",
       "    <tr style=\"text-align: right;\">\n",
       "      <th></th>\n",
       "      <th>driverId</th>\n",
       "      <th>driverRef</th>\n",
       "      <th>number</th>\n",
       "      <th>code</th>\n",
       "      <th>forename</th>\n",
       "      <th>surname</th>\n",
       "      <th>dob</th>\n",
       "      <th>nationality</th>\n",
       "      <th>url</th>\n",
       "    </tr>\n",
       "  </thead>\n",
       "  <tbody>\n",
       "    <tr>\n",
       "      <th>0</th>\n",
       "      <td>1</td>\n",
       "      <td>hamilton</td>\n",
       "      <td>44</td>\n",
       "      <td>HAM</td>\n",
       "      <td>Lewis</td>\n",
       "      <td>Hamilton</td>\n",
       "      <td>1985-01-07</td>\n",
       "      <td>British</td>\n",
       "      <td>http://en.wikipedia.org/wiki/Lewis_Hamilton</td>\n",
       "    </tr>\n",
       "  </tbody>\n",
       "</table>\n",
       "</div>"
      ],
      "text/plain": [
       "   driverId driverRef number code forename   surname         dob nationality  \\\n",
       "0         1  hamilton     44  HAM    Lewis  Hamilton  1985-01-07     British   \n",
       "\n",
       "                                           url  \n",
       "0  http://en.wikipedia.org/wiki/Lewis_Hamilton  "
      ]
     },
     "metadata": {},
     "output_type": "display_data"
    },
    {
     "data": {
      "text/plain": [
       "'Laps'"
      ]
     },
     "metadata": {},
     "output_type": "display_data"
    },
    {
     "data": {
      "text/html": [
       "<div>\n",
       "<style scoped>\n",
       "    .dataframe tbody tr th:only-of-type {\n",
       "        vertical-align: middle;\n",
       "    }\n",
       "\n",
       "    .dataframe tbody tr th {\n",
       "        vertical-align: top;\n",
       "    }\n",
       "\n",
       "    .dataframe thead th {\n",
       "        text-align: right;\n",
       "    }\n",
       "</style>\n",
       "<table border=\"1\" class=\"dataframe\">\n",
       "  <thead>\n",
       "    <tr style=\"text-align: right;\">\n",
       "      <th></th>\n",
       "      <th>raceId</th>\n",
       "      <th>driverId</th>\n",
       "      <th>lap</th>\n",
       "      <th>position</th>\n",
       "      <th>time</th>\n",
       "      <th>milliseconds</th>\n",
       "    </tr>\n",
       "  </thead>\n",
       "  <tbody>\n",
       "    <tr>\n",
       "      <th>342895</th>\n",
       "      <td>1</td>\n",
       "      <td>1</td>\n",
       "      <td>15</td>\n",
       "      <td>15</td>\n",
       "      <td>1:30.771</td>\n",
       "      <td>90771</td>\n",
       "    </tr>\n",
       "    <tr>\n",
       "      <th>342926</th>\n",
       "      <td>1</td>\n",
       "      <td>1</td>\n",
       "      <td>46</td>\n",
       "      <td>10</td>\n",
       "      <td>1:30.224</td>\n",
       "      <td>90224</td>\n",
       "    </tr>\n",
       "    <tr>\n",
       "      <th>342920</th>\n",
       "      <td>1</td>\n",
       "      <td>1</td>\n",
       "      <td>40</td>\n",
       "      <td>6</td>\n",
       "      <td>1:30.261</td>\n",
       "      <td>90261</td>\n",
       "    </tr>\n",
       "    <tr>\n",
       "      <th>342922</th>\n",
       "      <td>1</td>\n",
       "      <td>1</td>\n",
       "      <td>42</td>\n",
       "      <td>5</td>\n",
       "      <td>1:29.484</td>\n",
       "      <td>89484</td>\n",
       "    </tr>\n",
       "    <tr>\n",
       "      <th>342889</th>\n",
       "      <td>1</td>\n",
       "      <td>1</td>\n",
       "      <td>9</td>\n",
       "      <td>9</td>\n",
       "      <td>1:30.889</td>\n",
       "      <td>90889</td>\n",
       "    </tr>\n",
       "  </tbody>\n",
       "</table>\n",
       "</div>"
      ],
      "text/plain": [
       "        raceId  driverId  lap  position      time  milliseconds\n",
       "342895       1         1   15        15  1:30.771         90771\n",
       "342926       1         1   46        10  1:30.224         90224\n",
       "342920       1         1   40         6  1:30.261         90261\n",
       "342922       1         1   42         5  1:29.484         89484\n",
       "342889       1         1    9         9  1:30.889         90889"
      ]
     },
     "metadata": {},
     "output_type": "display_data"
    }
   ],
   "source": [
    "# show lap, position, and time for a particular race and driver\n",
    "display(\n",
    "    \"Race\",\n",
    "    races[races[\"raceId\"] == 1],\n",
    "    \"Driver\",\n",
    "    drivers[drivers[\"driverId\"] == 1],\n",
    "    \"Laps\",\n",
    "    lap_times[(lap_times[\"raceId\"] == 1) & (lap_times[\"driverId\"] == 1)].sample(5),\n",
    ")"
   ]
  },
  {
   "attachments": {},
   "cell_type": "markdown",
   "metadata": {
    "collapsed": false
   },
   "source": [
    "### pit_stops\n"
   ]
  },
  {
   "cell_type": "code",
   "execution_count": 87,
   "metadata": {
    "collapsed": false
   },
   "outputs": [
    {
     "name": "stdout",
     "output_type": "stream",
     "text": [
      "<class 'pandas.core.frame.DataFrame'>\n",
      "RangeIndex: 9634 entries, 0 to 9633\n",
      "Data columns (total 7 columns):\n",
      " #   Column        Non-Null Count  Dtype \n",
      "---  ------        --------------  ----- \n",
      " 0   raceId        9634 non-null   int64 \n",
      " 1   driverId      9634 non-null   int64 \n",
      " 2   stop          9634 non-null   int64 \n",
      " 3   lap           9634 non-null   int64 \n",
      " 4   time          9634 non-null   object\n",
      " 5   duration      9634 non-null   object\n",
      " 6   milliseconds  9634 non-null   int64 \n",
      "dtypes: int64(5), object(2)\n",
      "memory usage: 527.0+ KB\n",
      "None\n"
     ]
    },
    {
     "data": {
      "text/html": [
       "<div>\n",
       "<style scoped>\n",
       "    .dataframe tbody tr th:only-of-type {\n",
       "        vertical-align: middle;\n",
       "    }\n",
       "\n",
       "    .dataframe tbody tr th {\n",
       "        vertical-align: top;\n",
       "    }\n",
       "\n",
       "    .dataframe thead th {\n",
       "        text-align: right;\n",
       "    }\n",
       "</style>\n",
       "<table border=\"1\" class=\"dataframe\">\n",
       "  <thead>\n",
       "    <tr style=\"text-align: right;\">\n",
       "      <th></th>\n",
       "      <th>raceId</th>\n",
       "      <th>driverId</th>\n",
       "      <th>stop</th>\n",
       "      <th>lap</th>\n",
       "      <th>time</th>\n",
       "      <th>duration</th>\n",
       "      <th>milliseconds</th>\n",
       "    </tr>\n",
       "  </thead>\n",
       "  <tbody>\n",
       "    <tr>\n",
       "      <th>0</th>\n",
       "      <td>841</td>\n",
       "      <td>153</td>\n",
       "      <td>1</td>\n",
       "      <td>1</td>\n",
       "      <td>17:05:23</td>\n",
       "      <td>26.898</td>\n",
       "      <td>26898</td>\n",
       "    </tr>\n",
       "    <tr>\n",
       "      <th>1</th>\n",
       "      <td>841</td>\n",
       "      <td>30</td>\n",
       "      <td>1</td>\n",
       "      <td>1</td>\n",
       "      <td>17:05:52</td>\n",
       "      <td>25.021</td>\n",
       "      <td>25021</td>\n",
       "    </tr>\n",
       "    <tr>\n",
       "      <th>2</th>\n",
       "      <td>841</td>\n",
       "      <td>17</td>\n",
       "      <td>1</td>\n",
       "      <td>11</td>\n",
       "      <td>17:20:48</td>\n",
       "      <td>23.426</td>\n",
       "      <td>23426</td>\n",
       "    </tr>\n",
       "    <tr>\n",
       "      <th>3</th>\n",
       "      <td>841</td>\n",
       "      <td>4</td>\n",
       "      <td>1</td>\n",
       "      <td>12</td>\n",
       "      <td>17:22:34</td>\n",
       "      <td>23.251</td>\n",
       "      <td>23251</td>\n",
       "    </tr>\n",
       "    <tr>\n",
       "      <th>4</th>\n",
       "      <td>841</td>\n",
       "      <td>13</td>\n",
       "      <td>1</td>\n",
       "      <td>13</td>\n",
       "      <td>17:24:10</td>\n",
       "      <td>23.842</td>\n",
       "      <td>23842</td>\n",
       "    </tr>\n",
       "  </tbody>\n",
       "</table>\n",
       "</div>"
      ],
      "text/plain": [
       "   raceId  driverId  stop  lap      time duration  milliseconds\n",
       "0     841       153     1    1  17:05:23   26.898         26898\n",
       "1     841        30     1    1  17:05:52   25.021         25021\n",
       "2     841        17     1   11  17:20:48   23.426         23426\n",
       "3     841         4     1   12  17:22:34   23.251         23251\n",
       "4     841        13     1   13  17:24:10   23.842         23842"
      ]
     },
     "execution_count": 87,
     "metadata": {},
     "output_type": "execute_result"
    }
   ],
   "source": [
    "print(pit_stops.info())\n",
    "pit_stops.head()"
   ]
  },
  {
   "cell_type": "code",
   "execution_count": 88,
   "metadata": {
    "collapsed": false
   },
   "outputs": [
    {
     "name": "stdout",
     "output_type": "stream",
     "text": [
      "There is  239 unique race ID,  70  unique driver ID, and a maximum of  78 number of lap.\n",
      "Number of stops can go up to  6  and take up to  6:50.005  seconds.\n"
     ]
    },
    {
     "data": {
      "text/plain": [
       "3069017"
      ]
     },
     "execution_count": 88,
     "metadata": {},
     "output_type": "execute_result"
    }
   ],
   "source": [
    "print(\n",
    "    \"There is \",\n",
    "    len(pd.unique(pit_stops[\"raceId\"])),\n",
    "    \"unique race ID, \",\n",
    "    len(pd.unique(pit_stops[\"driverId\"])),\n",
    "    \" unique driver ID, and a maximum of \",\n",
    "    max(pit_stops[\"lap\"]),\n",
    "    \"number of lap.\",\n",
    ")\n",
    "print(\n",
    "    \"Number of stops can go up to \",\n",
    "    max(pit_stops[\"stop\"]),\n",
    "    \" and take up to \",\n",
    "    max(pit_stops[\"duration\"]),\n",
    "    \" seconds.\",\n",
    ")\n",
    "max(pit_stops[\"milliseconds\"])"
   ]
  },
  {
   "cell_type": "code",
   "execution_count": 89,
   "metadata": {
    "collapsed": false
   },
   "outputs": [
    {
     "data": {
      "image/png": "[encoded data removed]",
      "text/plain": [
       "<Figure size 640x480 with 1 Axes>"
      ]
     },
     "metadata": {},
     "output_type": "display_data"
    }
   ],
   "source": [
    "temp = pit_stops[[\"raceId\", \"milliseconds\"]].groupby([\"raceId\"]).mean()\n",
    "plt.hist(temp, bins=50)\n",
    "plt.xlabel(\"Duration [milliseconds]\")\n",
    "plt.ylabel(\"Races\")\n",
    "plt.show()"
   ]
  },
  {
   "cell_type": "code",
   "execution_count": 90,
   "metadata": {
    "collapsed": false
   },
   "outputs": [
    {
     "data": {
      "image/png": "[encoded data removed]",
      "text/plain": [
       "<Figure size 640x480 with 1 Axes>"
      ]
     },
     "metadata": {},
     "output_type": "display_data"
    }
   ],
   "source": [
    "plt.hist(temp[temp[\"milliseconds\"] < 50000], bins=50)\n",
    "plt.xlabel(\"Duration [milliseconds]\")\n",
    "plt.ylabel(\"Races\")\n",
    "plt.show()"
   ]
  },
  {
   "attachments": {},
   "cell_type": "markdown",
   "metadata": {},
   "source": [
    "**We can use the pitstop data to complement the lap times data.**"
   ]
  },
  {
   "attachments": {},
   "cell_type": "markdown",
   "metadata": {
    "collapsed": false
   },
   "source": [
    "### qualifying\n"
   ]
  },
  {
   "cell_type": "code",
   "execution_count": 91,
   "metadata": {
    "collapsed": false
   },
   "outputs": [
    {
     "name": "stdout",
     "output_type": "stream",
     "text": [
      "<class 'pandas.core.frame.DataFrame'>\n",
      "RangeIndex: 9575 entries, 0 to 9574\n",
      "Data columns (total 9 columns):\n",
      " #   Column         Non-Null Count  Dtype \n",
      "---  ------         --------------  ----- \n",
      " 0   qualifyId      9575 non-null   int64 \n",
      " 1   raceId         9575 non-null   int64 \n",
      " 2   driverId       9575 non-null   int64 \n",
      " 3   constructorId  9575 non-null   int64 \n",
      " 4   number         9575 non-null   int64 \n",
      " 5   position       9575 non-null   int64 \n",
      " 6   q1             9567 non-null   object\n",
      " 7   q2             9424 non-null   object\n",
      " 8   q3             9276 non-null   object\n",
      "dtypes: int64(6), object(3)\n",
      "memory usage: 673.4+ KB\n",
      "None\n"
     ]
    },
    {
     "data": {
      "text/html": [
       "<div>\n",
       "<style scoped>\n",
       "    .dataframe tbody tr th:only-of-type {\n",
       "        vertical-align: middle;\n",
       "    }\n",
       "\n",
       "    .dataframe tbody tr th {\n",
       "        vertical-align: top;\n",
       "    }\n",
       "\n",
       "    .dataframe thead th {\n",
       "        text-align: right;\n",
       "    }\n",
       "</style>\n",
       "<table border=\"1\" class=\"dataframe\">\n",
       "  <thead>\n",
       "    <tr style=\"text-align: right;\">\n",
       "      <th></th>\n",
       "      <th>qualifyId</th>\n",
       "      <th>raceId</th>\n",
       "      <th>driverId</th>\n",
       "      <th>constructorId</th>\n",
       "      <th>number</th>\n",
       "      <th>position</th>\n",
       "      <th>q1</th>\n",
       "      <th>q2</th>\n",
       "      <th>q3</th>\n",
       "    </tr>\n",
       "  </thead>\n",
       "  <tbody>\n",
       "    <tr>\n",
       "      <th>0</th>\n",
       "      <td>1</td>\n",
       "      <td>18</td>\n",
       "      <td>1</td>\n",
       "      <td>1</td>\n",
       "      <td>22</td>\n",
       "      <td>1</td>\n",
       "      <td>1:26.572</td>\n",
       "      <td>1:25.187</td>\n",
       "      <td>1:26.714</td>\n",
       "    </tr>\n",
       "    <tr>\n",
       "      <th>1</th>\n",
       "      <td>2</td>\n",
       "      <td>18</td>\n",
       "      <td>9</td>\n",
       "      <td>2</td>\n",
       "      <td>4</td>\n",
       "      <td>2</td>\n",
       "      <td>1:26.103</td>\n",
       "      <td>1:25.315</td>\n",
       "      <td>1:26.869</td>\n",
       "    </tr>\n",
       "    <tr>\n",
       "      <th>2</th>\n",
       "      <td>3</td>\n",
       "      <td>18</td>\n",
       "      <td>5</td>\n",
       "      <td>1</td>\n",
       "      <td>23</td>\n",
       "      <td>3</td>\n",
       "      <td>1:25.664</td>\n",
       "      <td>1:25.452</td>\n",
       "      <td>1:27.079</td>\n",
       "    </tr>\n",
       "    <tr>\n",
       "      <th>3</th>\n",
       "      <td>4</td>\n",
       "      <td>18</td>\n",
       "      <td>13</td>\n",
       "      <td>6</td>\n",
       "      <td>2</td>\n",
       "      <td>4</td>\n",
       "      <td>1:25.994</td>\n",
       "      <td>1:25.691</td>\n",
       "      <td>1:27.178</td>\n",
       "    </tr>\n",
       "    <tr>\n",
       "      <th>4</th>\n",
       "      <td>5</td>\n",
       "      <td>18</td>\n",
       "      <td>2</td>\n",
       "      <td>2</td>\n",
       "      <td>3</td>\n",
       "      <td>5</td>\n",
       "      <td>1:25.960</td>\n",
       "      <td>1:25.518</td>\n",
       "      <td>1:27.236</td>\n",
       "    </tr>\n",
       "  </tbody>\n",
       "</table>\n",
       "</div>"
      ],
      "text/plain": [
       "   qualifyId  raceId  driverId  constructorId  number  position        q1  \\\n",
       "0          1      18         1              1      22         1  1:26.572   \n",
       "1          2      18         9              2       4         2  1:26.103   \n",
       "2          3      18         5              1      23         3  1:25.664   \n",
       "3          4      18        13              6       2         4  1:25.994   \n",
       "4          5      18         2              2       3         5  1:25.960   \n",
       "\n",
       "         q2        q3  \n",
       "0  1:25.187  1:26.714  \n",
       "1  1:25.315  1:26.869  \n",
       "2  1:25.452  1:27.079  \n",
       "3  1:25.691  1:27.178  \n",
       "4  1:25.518  1:27.236  "
      ]
     },
     "execution_count": 91,
     "metadata": {},
     "output_type": "execute_result"
    }
   ],
   "source": [
    "print(qualifying.info())\n",
    "qualifying.head()"
   ]
  },
  {
   "attachments": {},
   "cell_type": "markdown",
   "metadata": {
    "collapsed": false
   },
   "source": [
    "##### races\n"
   ]
  },
  {
   "cell_type": "code",
   "execution_count": 92,
   "metadata": {
    "collapsed": false
   },
   "outputs": [
    {
     "name": "stdout",
     "output_type": "stream",
     "text": [
      "<class 'pandas.core.frame.DataFrame'>\n",
      "RangeIndex: 1102 entries, 0 to 1101\n",
      "Data columns (total 18 columns):\n",
      " #   Column       Non-Null Count  Dtype \n",
      "---  ------       --------------  ----- \n",
      " 0   raceId       1102 non-null   int64 \n",
      " 1   year         1102 non-null   int64 \n",
      " 2   round        1102 non-null   int64 \n",
      " 3   circuitId    1102 non-null   int64 \n",
      " 4   name         1102 non-null   object\n",
      " 5   date         1102 non-null   object\n",
      " 6   time         1102 non-null   object\n",
      " 7   url          1102 non-null   object\n",
      " 8   fp1_date     1102 non-null   object\n",
      " 9   fp1_time     1102 non-null   object\n",
      " 10  fp2_date     1102 non-null   object\n",
      " 11  fp2_time     1102 non-null   object\n",
      " 12  fp3_date     1102 non-null   object\n",
      " 13  fp3_time     1102 non-null   object\n",
      " 14  quali_date   1102 non-null   object\n",
      " 15  quali_time   1102 non-null   object\n",
      " 16  sprint_date  1102 non-null   object\n",
      " 17  sprint_time  1102 non-null   object\n",
      "dtypes: int64(4), object(14)\n",
      "memory usage: 155.1+ KB\n",
      "None\n"
     ]
    },
    {
     "data": {
      "text/html": [
       "<div>\n",
       "<style scoped>\n",
       "    .dataframe tbody tr th:only-of-type {\n",
       "        vertical-align: middle;\n",
       "    }\n",
       "\n",
       "    .dataframe tbody tr th {\n",
       "        vertical-align: top;\n",
       "    }\n",
       "\n",
       "    .dataframe thead th {\n",
       "        text-align: right;\n",
       "    }\n",
       "</style>\n",
       "<table border=\"1\" class=\"dataframe\">\n",
       "  <thead>\n",
       "    <tr style=\"text-align: right;\">\n",
       "      <th></th>\n",
       "      <th>raceId</th>\n",
       "      <th>year</th>\n",
       "      <th>round</th>\n",
       "      <th>circuitId</th>\n",
       "      <th>name</th>\n",
       "      <th>date</th>\n",
       "      <th>time</th>\n",
       "      <th>url</th>\n",
       "      <th>fp1_date</th>\n",
       "      <th>fp1_time</th>\n",
       "      <th>fp2_date</th>\n",
       "      <th>fp2_time</th>\n",
       "      <th>fp3_date</th>\n",
       "      <th>fp3_time</th>\n",
       "      <th>quali_date</th>\n",
       "      <th>quali_time</th>\n",
       "      <th>sprint_date</th>\n",
       "      <th>sprint_time</th>\n",
       "    </tr>\n",
       "  </thead>\n",
       "  <tbody>\n",
       "    <tr>\n",
       "      <th>0</th>\n",
       "      <td>1</td>\n",
       "      <td>2009</td>\n",
       "      <td>1</td>\n",
       "      <td>1</td>\n",
       "      <td>Australian Grand Prix</td>\n",
       "      <td>2009-03-29</td>\n",
       "      <td>06:00:00</td>\n",
       "      <td>http://en.wikipedia.org/wiki/2009_Australian_G...</td>\n",
       "      <td>\\N</td>\n",
       "      <td>\\N</td>\n",
       "      <td>\\N</td>\n",
       "      <td>\\N</td>\n",
       "      <td>\\N</td>\n",
       "      <td>\\N</td>\n",
       "      <td>\\N</td>\n",
       "      <td>\\N</td>\n",
       "      <td>\\N</td>\n",
       "      <td>\\N</td>\n",
       "    </tr>\n",
       "    <tr>\n",
       "      <th>1</th>\n",
       "      <td>2</td>\n",
       "      <td>2009</td>\n",
       "      <td>2</td>\n",
       "      <td>2</td>\n",
       "      <td>Malaysian Grand Prix</td>\n",
       "      <td>2009-04-05</td>\n",
       "      <td>09:00:00</td>\n",
       "      <td>http://en.wikipedia.org/wiki/2009_Malaysian_Gr...</td>\n",
       "      <td>\\N</td>\n",
       "      <td>\\N</td>\n",
       "      <td>\\N</td>\n",
       "      <td>\\N</td>\n",
       "      <td>\\N</td>\n",
       "      <td>\\N</td>\n",
       "      <td>\\N</td>\n",
       "      <td>\\N</td>\n",
       "      <td>\\N</td>\n",
       "      <td>\\N</td>\n",
       "    </tr>\n",
       "    <tr>\n",
       "      <th>2</th>\n",
       "      <td>3</td>\n",
       "      <td>2009</td>\n",
       "      <td>3</td>\n",
       "      <td>17</td>\n",
       "      <td>Chinese Grand Prix</td>\n",
       "      <td>2009-04-19</td>\n",
       "      <td>07:00:00</td>\n",
       "      <td>http://en.wikipedia.org/wiki/2009_Chinese_Gran...</td>\n",
       "      <td>\\N</td>\n",
       "      <td>\\N</td>\n",
       "      <td>\\N</td>\n",
       "      <td>\\N</td>\n",
       "      <td>\\N</td>\n",
       "      <td>\\N</td>\n",
       "      <td>\\N</td>\n",
       "      <td>\\N</td>\n",
       "      <td>\\N</td>\n",
       "      <td>\\N</td>\n",
       "    </tr>\n",
       "    <tr>\n",
       "      <th>3</th>\n",
       "      <td>4</td>\n",
       "      <td>2009</td>\n",
       "      <td>4</td>\n",
       "      <td>3</td>\n",
       "      <td>Bahrain Grand Prix</td>\n",
       "      <td>2009-04-26</td>\n",
       "      <td>12:00:00</td>\n",
       "      <td>http://en.wikipedia.org/wiki/2009_Bahrain_Gran...</td>\n",
       "      <td>\\N</td>\n",
       "      <td>\\N</td>\n",
       "      <td>\\N</td>\n",
       "      <td>\\N</td>\n",
       "      <td>\\N</td>\n",
       "      <td>\\N</td>\n",
       "      <td>\\N</td>\n",
       "      <td>\\N</td>\n",
       "      <td>\\N</td>\n",
       "      <td>\\N</td>\n",
       "    </tr>\n",
       "    <tr>\n",
       "      <th>4</th>\n",
       "      <td>5</td>\n",
       "      <td>2009</td>\n",
       "      <td>5</td>\n",
       "      <td>4</td>\n",
       "      <td>Spanish Grand Prix</td>\n",
       "      <td>2009-05-10</td>\n",
       "      <td>12:00:00</td>\n",
       "      <td>http://en.wikipedia.org/wiki/2009_Spanish_Gran...</td>\n",
       "      <td>\\N</td>\n",
       "      <td>\\N</td>\n",
       "      <td>\\N</td>\n",
       "      <td>\\N</td>\n",
       "      <td>\\N</td>\n",
       "      <td>\\N</td>\n",
       "      <td>\\N</td>\n",
       "      <td>\\N</td>\n",
       "      <td>\\N</td>\n",
       "      <td>\\N</td>\n",
       "    </tr>\n",
       "  </tbody>\n",
       "</table>\n",
       "</div>"
      ],
      "text/plain": [
       "   raceId  year  round  circuitId                   name        date  \\\n",
       "0       1  2009      1          1  Australian Grand Prix  2009-03-29   \n",
       "1       2  2009      2          2   Malaysian Grand Prix  2009-04-05   \n",
       "2       3  2009      3         17     Chinese Grand Prix  2009-04-19   \n",
       "3       4  2009      4          3     Bahrain Grand Prix  2009-04-26   \n",
       "4       5  2009      5          4     Spanish Grand Prix  2009-05-10   \n",
       "\n",
       "       time                                                url fp1_date  \\\n",
       "0  06:00:00  http://en.wikipedia.org/wiki/2009_Australian_G...       \\N   \n",
       "1  09:00:00  http://en.wikipedia.org/wiki/2009_Malaysian_Gr...       \\N   \n",
       "2  07:00:00  http://en.wikipedia.org/wiki/2009_Chinese_Gran...       \\N   \n",
       "3  12:00:00  http://en.wikipedia.org/wiki/2009_Bahrain_Gran...       \\N   \n",
       "4  12:00:00  http://en.wikipedia.org/wiki/2009_Spanish_Gran...       \\N   \n",
       "\n",
       "  fp1_time fp2_date fp2_time fp3_date fp3_time quali_date quali_time  \\\n",
       "0       \\N       \\N       \\N       \\N       \\N         \\N         \\N   \n",
       "1       \\N       \\N       \\N       \\N       \\N         \\N         \\N   \n",
       "2       \\N       \\N       \\N       \\N       \\N         \\N         \\N   \n",
       "3       \\N       \\N       \\N       \\N       \\N         \\N         \\N   \n",
       "4       \\N       \\N       \\N       \\N       \\N         \\N         \\N   \n",
       "\n",
       "  sprint_date sprint_time  \n",
       "0          \\N          \\N  \n",
       "1          \\N          \\N  \n",
       "2          \\N          \\N  \n",
       "3          \\N          \\N  \n",
       "4          \\N          \\N  "
      ]
     },
     "execution_count": 92,
     "metadata": {},
     "output_type": "execute_result"
    }
   ],
   "source": [
    "print(races.info())\n",
    "races.head()"
   ]
  },
  {
   "attachments": {},
   "cell_type": "markdown",
   "metadata": {
    "collapsed": false
   },
   "source": [
    "##### results\n"
   ]
  },
  {
   "cell_type": "code",
   "execution_count": 93,
   "metadata": {
    "collapsed": false
   },
   "outputs": [
    {
     "name": "stdout",
     "output_type": "stream",
     "text": [
      "<class 'pandas.core.frame.DataFrame'>\n",
      "RangeIndex: 25840 entries, 0 to 25839\n",
      "Data columns (total 18 columns):\n",
      " #   Column           Non-Null Count  Dtype  \n",
      "---  ------           --------------  -----  \n",
      " 0   resultId         25840 non-null  int64  \n",
      " 1   raceId           25840 non-null  int64  \n",
      " 2   driverId         25840 non-null  int64  \n",
      " 3   constructorId    25840 non-null  int64  \n",
      " 4   number           25840 non-null  object \n",
      " 5   grid             25840 non-null  int64  \n",
      " 6   position         25840 non-null  object \n",
      " 7   positionText     25840 non-null  object \n",
      " 8   positionOrder    25840 non-null  int64  \n",
      " 9   points           25840 non-null  float64\n",
      " 10  laps             25840 non-null  int64  \n",
      " 11  time             25840 non-null  object \n",
      " 12  milliseconds     25840 non-null  object \n",
      " 13  fastestLap       25840 non-null  object \n",
      " 14  rank             25840 non-null  object \n",
      " 15  fastestLapTime   25840 non-null  object \n",
      " 16  fastestLapSpeed  25840 non-null  object \n",
      " 17  statusId         25840 non-null  int64  \n",
      "dtypes: float64(1), int64(8), object(9)\n",
      "memory usage: 3.5+ MB\n",
      "None\n"
     ]
    },
    {
     "data": {
      "text/html": [
       "<div>\n",
       "<style scoped>\n",
       "    .dataframe tbody tr th:only-of-type {\n",
       "        vertical-align: middle;\n",
       "    }\n",
       "\n",
       "    .dataframe tbody tr th {\n",
       "        vertical-align: top;\n",
       "    }\n",
       "\n",
       "    .dataframe thead th {\n",
       "        text-align: right;\n",
       "    }\n",
       "</style>\n",
       "<table border=\"1\" class=\"dataframe\">\n",
       "  <thead>\n",
       "    <tr style=\"text-align: right;\">\n",
       "      <th></th>\n",
       "      <th>resultId</th>\n",
       "      <th>raceId</th>\n",
       "      <th>driverId</th>\n",
       "      <th>constructorId</th>\n",
       "      <th>number</th>\n",
       "      <th>grid</th>\n",
       "      <th>position</th>\n",
       "      <th>positionText</th>\n",
       "      <th>positionOrder</th>\n",
       "      <th>points</th>\n",
       "      <th>laps</th>\n",
       "      <th>time</th>\n",
       "      <th>milliseconds</th>\n",
       "      <th>fastestLap</th>\n",
       "      <th>rank</th>\n",
       "      <th>fastestLapTime</th>\n",
       "      <th>fastestLapSpeed</th>\n",
       "      <th>statusId</th>\n",
       "    </tr>\n",
       "  </thead>\n",
       "  <tbody>\n",
       "    <tr>\n",
       "      <th>0</th>\n",
       "      <td>1</td>\n",
       "      <td>18</td>\n",
       "      <td>1</td>\n",
       "      <td>1</td>\n",
       "      <td>22</td>\n",
       "      <td>1</td>\n",
       "      <td>1</td>\n",
       "      <td>1</td>\n",
       "      <td>1</td>\n",
       "      <td>10.0</td>\n",
       "      <td>58</td>\n",
       "      <td>1:34:50.616</td>\n",
       "      <td>5690616</td>\n",
       "      <td>39</td>\n",
       "      <td>2</td>\n",
       "      <td>1:27.452</td>\n",
       "      <td>218.300</td>\n",
       "      <td>1</td>\n",
       "    </tr>\n",
       "    <tr>\n",
       "      <th>1</th>\n",
       "      <td>2</td>\n",
       "      <td>18</td>\n",
       "      <td>2</td>\n",
       "      <td>2</td>\n",
       "      <td>3</td>\n",
       "      <td>5</td>\n",
       "      <td>2</td>\n",
       "      <td>2</td>\n",
       "      <td>2</td>\n",
       "      <td>8.0</td>\n",
       "      <td>58</td>\n",
       "      <td>+5.478</td>\n",
       "      <td>5696094</td>\n",
       "      <td>41</td>\n",
       "      <td>3</td>\n",
       "      <td>1:27.739</td>\n",
       "      <td>217.586</td>\n",
       "      <td>1</td>\n",
       "    </tr>\n",
       "    <tr>\n",
       "      <th>2</th>\n",
       "      <td>3</td>\n",
       "      <td>18</td>\n",
       "      <td>3</td>\n",
       "      <td>3</td>\n",
       "      <td>7</td>\n",
       "      <td>7</td>\n",
       "      <td>3</td>\n",
       "      <td>3</td>\n",
       "      <td>3</td>\n",
       "      <td>6.0</td>\n",
       "      <td>58</td>\n",
       "      <td>+8.163</td>\n",
       "      <td>5698779</td>\n",
       "      <td>41</td>\n",
       "      <td>5</td>\n",
       "      <td>1:28.090</td>\n",
       "      <td>216.719</td>\n",
       "      <td>1</td>\n",
       "    </tr>\n",
       "    <tr>\n",
       "      <th>3</th>\n",
       "      <td>4</td>\n",
       "      <td>18</td>\n",
       "      <td>4</td>\n",
       "      <td>4</td>\n",
       "      <td>5</td>\n",
       "      <td>11</td>\n",
       "      <td>4</td>\n",
       "      <td>4</td>\n",
       "      <td>4</td>\n",
       "      <td>5.0</td>\n",
       "      <td>58</td>\n",
       "      <td>+17.181</td>\n",
       "      <td>5707797</td>\n",
       "      <td>58</td>\n",
       "      <td>7</td>\n",
       "      <td>1:28.603</td>\n",
       "      <td>215.464</td>\n",
       "      <td>1</td>\n",
       "    </tr>\n",
       "    <tr>\n",
       "      <th>4</th>\n",
       "      <td>5</td>\n",
       "      <td>18</td>\n",
       "      <td>5</td>\n",
       "      <td>1</td>\n",
       "      <td>23</td>\n",
       "      <td>3</td>\n",
       "      <td>5</td>\n",
       "      <td>5</td>\n",
       "      <td>5</td>\n",
       "      <td>4.0</td>\n",
       "      <td>58</td>\n",
       "      <td>+18.014</td>\n",
       "      <td>5708630</td>\n",
       "      <td>43</td>\n",
       "      <td>1</td>\n",
       "      <td>1:27.418</td>\n",
       "      <td>218.385</td>\n",
       "      <td>1</td>\n",
       "    </tr>\n",
       "  </tbody>\n",
       "</table>\n",
       "</div>"
      ],
      "text/plain": [
       "   resultId  raceId  driverId  constructorId number  grid position  \\\n",
       "0         1      18         1              1     22     1        1   \n",
       "1         2      18         2              2      3     5        2   \n",
       "2         3      18         3              3      7     7        3   \n",
       "3         4      18         4              4      5    11        4   \n",
       "4         5      18         5              1     23     3        5   \n",
       "\n",
       "  positionText  positionOrder  points  laps         time milliseconds  \\\n",
       "0            1              1    10.0    58  1:34:50.616      5690616   \n",
       "1            2              2     8.0    58       +5.478      5696094   \n",
       "2            3              3     6.0    58       +8.163      5698779   \n",
       "3            4              4     5.0    58      +17.181      5707797   \n",
       "4            5              5     4.0    58      +18.014      5708630   \n",
       "\n",
       "  fastestLap rank fastestLapTime fastestLapSpeed  statusId  \n",
       "0         39    2       1:27.452         218.300         1  \n",
       "1         41    3       1:27.739         217.586         1  \n",
       "2         41    5       1:28.090         216.719         1  \n",
       "3         58    7       1:28.603         215.464         1  \n",
       "4         43    1       1:27.418         218.385         1  "
      ]
     },
     "execution_count": 93,
     "metadata": {},
     "output_type": "execute_result"
    }
   ],
   "source": [
    "print(results.info())\n",
    "results.head()"
   ]
  },
  {
   "attachments": {},
   "cell_type": "markdown",
   "metadata": {
    "collapsed": false
   },
   "source": [
    "### seasons\n"
   ]
  },
  {
   "cell_type": "code",
   "execution_count": 94,
   "metadata": {
    "collapsed": false
   },
   "outputs": [
    {
     "name": "stdout",
     "output_type": "stream",
     "text": [
      "<class 'pandas.core.frame.DataFrame'>\n",
      "RangeIndex: 74 entries, 0 to 73\n",
      "Data columns (total 2 columns):\n",
      " #   Column  Non-Null Count  Dtype \n",
      "---  ------  --------------  ----- \n",
      " 0   year    74 non-null     int64 \n",
      " 1   url     74 non-null     object\n",
      "dtypes: int64(1), object(1)\n",
      "memory usage: 1.3+ KB\n",
      "None\n"
     ]
    },
    {
     "data": {
      "text/html": [
       "<div>\n",
       "<style scoped>\n",
       "    .dataframe tbody tr th:only-of-type {\n",
       "        vertical-align: middle;\n",
       "    }\n",
       "\n",
       "    .dataframe tbody tr th {\n",
       "        vertical-align: top;\n",
       "    }\n",
       "\n",
       "    .dataframe thead th {\n",
       "        text-align: right;\n",
       "    }\n",
       "</style>\n",
       "<table border=\"1\" class=\"dataframe\">\n",
       "  <thead>\n",
       "    <tr style=\"text-align: right;\">\n",
       "      <th></th>\n",
       "      <th>year</th>\n",
       "      <th>url</th>\n",
       "    </tr>\n",
       "  </thead>\n",
       "  <tbody>\n",
       "    <tr>\n",
       "      <th>0</th>\n",
       "      <td>2009</td>\n",
       "      <td>http://en.wikipedia.org/wiki/2009_Formula_One_...</td>\n",
       "    </tr>\n",
       "    <tr>\n",
       "      <th>1</th>\n",
       "      <td>2008</td>\n",
       "      <td>http://en.wikipedia.org/wiki/2008_Formula_One_...</td>\n",
       "    </tr>\n",
       "    <tr>\n",
       "      <th>2</th>\n",
       "      <td>2007</td>\n",
       "      <td>http://en.wikipedia.org/wiki/2007_Formula_One_...</td>\n",
       "    </tr>\n",
       "    <tr>\n",
       "      <th>3</th>\n",
       "      <td>2006</td>\n",
       "      <td>http://en.wikipedia.org/wiki/2006_Formula_One_...</td>\n",
       "    </tr>\n",
       "    <tr>\n",
       "      <th>4</th>\n",
       "      <td>2005</td>\n",
       "      <td>http://en.wikipedia.org/wiki/2005_Formula_One_...</td>\n",
       "    </tr>\n",
       "  </tbody>\n",
       "</table>\n",
       "</div>"
      ],
      "text/plain": [
       "   year                                                url\n",
       "0  2009  http://en.wikipedia.org/wiki/2009_Formula_One_...\n",
       "1  2008  http://en.wikipedia.org/wiki/2008_Formula_One_...\n",
       "2  2007  http://en.wikipedia.org/wiki/2007_Formula_One_...\n",
       "3  2006  http://en.wikipedia.org/wiki/2006_Formula_One_...\n",
       "4  2005  http://en.wikipedia.org/wiki/2005_Formula_One_..."
      ]
     },
     "execution_count": 94,
     "metadata": {},
     "output_type": "execute_result"
    }
   ],
   "source": [
    "print(seasons.info())\n",
    "seasons.head()"
   ]
  },
  {
   "attachments": {},
   "cell_type": "markdown",
   "metadata": {},
   "source": [
    "**This data is not very useful for now.**"
   ]
  },
  {
   "attachments": {},
   "cell_type": "markdown",
   "metadata": {
    "collapsed": false
   },
   "source": [
    "### sprint_results\n"
   ]
  },
  {
   "cell_type": "code",
   "execution_count": 95,
   "metadata": {
    "collapsed": false
   },
   "outputs": [
    {
     "name": "stdout",
     "output_type": "stream",
     "text": [
      "<class 'pandas.core.frame.DataFrame'>\n",
      "RangeIndex: 120 entries, 0 to 119\n",
      "Data columns (total 16 columns):\n",
      " #   Column          Non-Null Count  Dtype \n",
      "---  ------          --------------  ----- \n",
      " 0   resultId        120 non-null    int64 \n",
      " 1   raceId          120 non-null    int64 \n",
      " 2   driverId        120 non-null    int64 \n",
      " 3   constructorId   120 non-null    int64 \n",
      " 4   number          120 non-null    int64 \n",
      " 5   grid            120 non-null    int64 \n",
      " 6   position        120 non-null    object\n",
      " 7   positionText    120 non-null    object\n",
      " 8   positionOrder   120 non-null    int64 \n",
      " 9   points          120 non-null    int64 \n",
      " 10  laps            120 non-null    int64 \n",
      " 11  time            120 non-null    object\n",
      " 12  milliseconds    120 non-null    object\n",
      " 13  fastestLap      120 non-null    object\n",
      " 14  fastestLapTime  120 non-null    object\n",
      " 15  statusId        120 non-null    int64 \n",
      "dtypes: int64(10), object(6)\n",
      "memory usage: 15.1+ KB\n",
      "None\n"
     ]
    },
    {
     "data": {
      "text/html": [
       "<div>\n",
       "<style scoped>\n",
       "    .dataframe tbody tr th:only-of-type {\n",
       "        vertical-align: middle;\n",
       "    }\n",
       "\n",
       "    .dataframe tbody tr th {\n",
       "        vertical-align: top;\n",
       "    }\n",
       "\n",
       "    .dataframe thead th {\n",
       "        text-align: right;\n",
       "    }\n",
       "</style>\n",
       "<table border=\"1\" class=\"dataframe\">\n",
       "  <thead>\n",
       "    <tr style=\"text-align: right;\">\n",
       "      <th></th>\n",
       "      <th>resultId</th>\n",
       "      <th>raceId</th>\n",
       "      <th>driverId</th>\n",
       "      <th>constructorId</th>\n",
       "      <th>number</th>\n",
       "      <th>grid</th>\n",
       "      <th>position</th>\n",
       "      <th>positionText</th>\n",
       "      <th>positionOrder</th>\n",
       "      <th>points</th>\n",
       "      <th>laps</th>\n",
       "      <th>time</th>\n",
       "      <th>milliseconds</th>\n",
       "      <th>fastestLap</th>\n",
       "      <th>fastestLapTime</th>\n",
       "      <th>statusId</th>\n",
       "    </tr>\n",
       "  </thead>\n",
       "  <tbody>\n",
       "    <tr>\n",
       "      <th>0</th>\n",
       "      <td>1</td>\n",
       "      <td>1061</td>\n",
       "      <td>830</td>\n",
       "      <td>9</td>\n",
       "      <td>33</td>\n",
       "      <td>2</td>\n",
       "      <td>1</td>\n",
       "      <td>1</td>\n",
       "      <td>1</td>\n",
       "      <td>3</td>\n",
       "      <td>17</td>\n",
       "      <td>25:38.426</td>\n",
       "      <td>1538426</td>\n",
       "      <td>14</td>\n",
       "      <td>1:30.013</td>\n",
       "      <td>1</td>\n",
       "    </tr>\n",
       "    <tr>\n",
       "      <th>1</th>\n",
       "      <td>2</td>\n",
       "      <td>1061</td>\n",
       "      <td>1</td>\n",
       "      <td>131</td>\n",
       "      <td>44</td>\n",
       "      <td>1</td>\n",
       "      <td>2</td>\n",
       "      <td>2</td>\n",
       "      <td>2</td>\n",
       "      <td>2</td>\n",
       "      <td>17</td>\n",
       "      <td>+1.430</td>\n",
       "      <td>1539856</td>\n",
       "      <td>17</td>\n",
       "      <td>1:29.937</td>\n",
       "      <td>1</td>\n",
       "    </tr>\n",
       "    <tr>\n",
       "      <th>2</th>\n",
       "      <td>3</td>\n",
       "      <td>1061</td>\n",
       "      <td>822</td>\n",
       "      <td>131</td>\n",
       "      <td>77</td>\n",
       "      <td>3</td>\n",
       "      <td>3</td>\n",
       "      <td>3</td>\n",
       "      <td>3</td>\n",
       "      <td>1</td>\n",
       "      <td>17</td>\n",
       "      <td>+7.502</td>\n",
       "      <td>1545928</td>\n",
       "      <td>17</td>\n",
       "      <td>1:29.958</td>\n",
       "      <td>1</td>\n",
       "    </tr>\n",
       "    <tr>\n",
       "      <th>3</th>\n",
       "      <td>4</td>\n",
       "      <td>1061</td>\n",
       "      <td>844</td>\n",
       "      <td>6</td>\n",
       "      <td>16</td>\n",
       "      <td>4</td>\n",
       "      <td>4</td>\n",
       "      <td>4</td>\n",
       "      <td>4</td>\n",
       "      <td>0</td>\n",
       "      <td>17</td>\n",
       "      <td>+11.278</td>\n",
       "      <td>1549704</td>\n",
       "      <td>16</td>\n",
       "      <td>1:30.163</td>\n",
       "      <td>1</td>\n",
       "    </tr>\n",
       "    <tr>\n",
       "      <th>4</th>\n",
       "      <td>5</td>\n",
       "      <td>1061</td>\n",
       "      <td>846</td>\n",
       "      <td>1</td>\n",
       "      <td>4</td>\n",
       "      <td>6</td>\n",
       "      <td>5</td>\n",
       "      <td>5</td>\n",
       "      <td>5</td>\n",
       "      <td>0</td>\n",
       "      <td>17</td>\n",
       "      <td>+24.111</td>\n",
       "      <td>1562537</td>\n",
       "      <td>16</td>\n",
       "      <td>1:30.566</td>\n",
       "      <td>1</td>\n",
       "    </tr>\n",
       "  </tbody>\n",
       "</table>\n",
       "</div>"
      ],
      "text/plain": [
       "   resultId  raceId  driverId  constructorId  number  grid position  \\\n",
       "0         1    1061       830              9      33     2        1   \n",
       "1         2    1061         1            131      44     1        2   \n",
       "2         3    1061       822            131      77     3        3   \n",
       "3         4    1061       844              6      16     4        4   \n",
       "4         5    1061       846              1       4     6        5   \n",
       "\n",
       "  positionText  positionOrder  points  laps       time milliseconds  \\\n",
       "0            1              1       3    17  25:38.426      1538426   \n",
       "1            2              2       2    17     +1.430      1539856   \n",
       "2            3              3       1    17     +7.502      1545928   \n",
       "3            4              4       0    17    +11.278      1549704   \n",
       "4            5              5       0    17    +24.111      1562537   \n",
       "\n",
       "  fastestLap fastestLapTime  statusId  \n",
       "0         14       1:30.013         1  \n",
       "1         17       1:29.937         1  \n",
       "2         17       1:29.958         1  \n",
       "3         16       1:30.163         1  \n",
       "4         16       1:30.566         1  "
      ]
     },
     "execution_count": 95,
     "metadata": {},
     "output_type": "execute_result"
    }
   ],
   "source": [
    "print(sprint_results.info())\n",
    "sprint_results.head()"
   ]
  },
  {
   "attachments": {},
   "cell_type": "markdown",
   "metadata": {},
   "source": [
    "**Sprint races were introduced very recently in F1, to suplement the qualifying session.**"
   ]
  },
  {
   "attachments": {},
   "cell_type": "markdown",
   "metadata": {
    "collapsed": false
   },
   "source": [
    "### status\n"
   ]
  },
  {
   "cell_type": "code",
   "execution_count": 96,
   "metadata": {
    "collapsed": false
   },
   "outputs": [
    {
     "name": "stdout",
     "output_type": "stream",
     "text": [
      "<class 'pandas.core.frame.DataFrame'>\n",
      "RangeIndex: 139 entries, 0 to 138\n",
      "Data columns (total 2 columns):\n",
      " #   Column    Non-Null Count  Dtype \n",
      "---  ------    --------------  ----- \n",
      " 0   statusId  139 non-null    int64 \n",
      " 1   status    139 non-null    object\n",
      "dtypes: int64(1), object(1)\n",
      "memory usage: 2.3+ KB\n",
      "None\n"
     ]
    },
    {
     "data": {
      "text/html": [
       "<div>\n",
       "<style scoped>\n",
       "    .dataframe tbody tr th:only-of-type {\n",
       "        vertical-align: middle;\n",
       "    }\n",
       "\n",
       "    .dataframe tbody tr th {\n",
       "        vertical-align: top;\n",
       "    }\n",
       "\n",
       "    .dataframe thead th {\n",
       "        text-align: right;\n",
       "    }\n",
       "</style>\n",
       "<table border=\"1\" class=\"dataframe\">\n",
       "  <thead>\n",
       "    <tr style=\"text-align: right;\">\n",
       "      <th></th>\n",
       "      <th>statusId</th>\n",
       "      <th>status</th>\n",
       "    </tr>\n",
       "  </thead>\n",
       "  <tbody>\n",
       "    <tr>\n",
       "      <th>0</th>\n",
       "      <td>1</td>\n",
       "      <td>Finished</td>\n",
       "    </tr>\n",
       "    <tr>\n",
       "      <th>1</th>\n",
       "      <td>2</td>\n",
       "      <td>Disqualified</td>\n",
       "    </tr>\n",
       "    <tr>\n",
       "      <th>2</th>\n",
       "      <td>3</td>\n",
       "      <td>Accident</td>\n",
       "    </tr>\n",
       "    <tr>\n",
       "      <th>3</th>\n",
       "      <td>4</td>\n",
       "      <td>Collision</td>\n",
       "    </tr>\n",
       "    <tr>\n",
       "      <th>4</th>\n",
       "      <td>5</td>\n",
       "      <td>Engine</td>\n",
       "    </tr>\n",
       "  </tbody>\n",
       "</table>\n",
       "</div>"
      ],
      "text/plain": [
       "   statusId        status\n",
       "0         1      Finished\n",
       "1         2  Disqualified\n",
       "2         3      Accident\n",
       "3         4     Collision\n",
       "4         5        Engine"
      ]
     },
     "execution_count": 96,
     "metadata": {},
     "output_type": "execute_result"
    }
   ],
   "source": [
    "print(status.info())\n",
    "status.head()"
   ]
  },
  {
   "attachments": {},
   "cell_type": "markdown",
   "metadata": {},
   "source": [
    "**Status of each race result can be used to supplement data and visualizations for a given driver's career.**\n"
   ]
  },
  {
   "cell_type": "markdown",
   "metadata": {},
   "source": []
  }
 ],
 "metadata": {
  "kernelspec": {
   "display_name": "Python 3",
   "language": "python",
   "name": "python3"
  },
  "language_info": {
   "codemirror_mode": {
    "name": "ipython",
    "version": 3
   },
   "file_extension": ".py",
   "mimetype": "text/x-python",
   "name": "python",
   "nbconvert_exporter": "python",
   "pygments_lexer": "ipython3",
   "version": "3.10.9"
  }
 },
 "nbformat": 4,
 "nbformat_minor": 0
}
