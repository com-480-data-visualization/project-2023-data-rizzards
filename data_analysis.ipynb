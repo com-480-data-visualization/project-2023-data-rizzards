{
 "cells": [
  {
   "cell_type": "markdown",
   "source": [
    "# Exloratory data analysis"
   ],
   "metadata": {
    "collapsed": false
   }
  },
  {
   "cell_type": "code",
   "execution_count": null,
   "metadata": {
    "collapsed": true
   },
   "outputs": [],
   "source": [
    "import pandas as pd\n",
    "import matplotlib.pyplot as plt\n",
    "import numpy as np"
   ]
  },
  {
   "cell_type": "markdown",
   "source": [
    "#### Uploading data"
   ],
   "metadata": {
    "collapsed": false
   }
  },
  {
   "cell_type": "code",
   "execution_count": null,
   "outputs": [],
   "source": [
    "Path = \"data/\"\n",
    "\n",
    "circuits = pd.read_csv(Path + \"circuits.csv\")\n",
    "constructor_results = pd.read_csv(Path + \"constructor_results.csv\")\n",
    "constructor_standings = pd.read_csv(Path + \"constructor_standings.csv\")\n",
    "constructors = pd.read_csv(Path + \"constructors.csv\")\n",
    "driver_standings = pd.read_csv(Path + \"driver_standings.csv\")\n",
    "drivers = pd.read_csv(Path + \"drivers.csv\")\n",
    "lap_times = pd.read_csv(Path + \"lap_times.csv\")\n",
    "pit_stops = pd.read_csv(Path + \"pit_stops.csv\")\n",
    "qualifying = pd.read_csv(Path + \"qualifying.csv\")\n",
    "races = pd.read_csv(Path + \"races.csv\")\n",
    "results = pd.read_csv(Path + \"results.csv\")\n",
    "seasons = pd.read_csv(Path + \"seasons.csv\")\n",
    "sprint_results = pd.read_csv(Path + \"sprint_results.csv\")\n",
    "status = pd.read_csv(Path + \"status.csv\")"
   ],
   "metadata": {
    "collapsed": false
   }
  },
  {
   "cell_type": "markdown",
   "source": [
    "##### circuits"
   ],
   "metadata": {
    "collapsed": false
   }
  },
  {
   "cell_type": "code",
   "execution_count": null,
   "outputs": [],
   "source": [
    "print(circuits.info())\n",
    "circuits.head()"
   ],
   "metadata": {
    "collapsed": false
   }
  },
  {
   "cell_type": "code",
   "execution_count": null,
   "outputs": [],
   "source": [
    "print(\"There is\",  len(circuits[\"country\"]), \"circuits, taking place in \", len(pd.unique(circuits[\"country\"])), \" different countries.\")"
   ],
   "metadata": {
    "collapsed": false
   }
  },
  {
   "cell_type": "markdown",
   "source": [
    "##### constructor_results"
   ],
   "metadata": {
    "collapsed": false
   }
  },
  {
   "cell_type": "code",
   "execution_count": null,
   "outputs": [],
   "source": [
    "print(constructor_results.info())\n",
    "constructor_results.tail()"
   ],
   "metadata": {
    "collapsed": false
   }
  },
  {
   "cell_type": "code",
   "execution_count": null,
   "outputs": [],
   "source": [
    "print(\"There is \", len(pd.unique(constructor_results[\"constructorId\"])), \" unique constructor ID and \", len(pd.unique(constructor_results[\"raceId\"])), \" unique race ID. Resulting in \", len(constructor_results[\"constructorResultsId\"]), \" total Constructor-race data.\")\n",
    "\n",
    "print(\"Points range between \", min(constructor_results[\"points\"]), \" and \", max(constructor_results[\"points\"]))"
   ],
   "metadata": {
    "collapsed": false
   }
  },
  {
   "cell_type": "code",
   "execution_count": null,
   "outputs": [],
   "source": [
    "plt.hist(constructor_results[[\"raceId\",\"points\"]].groupby([\"raceId\"]).mean(),bins=50)\n",
    "plt.xlabel(\"Points\")\n",
    "plt.ylabel(\"Races\")\n",
    "plt.show()"
   ],
   "metadata": {
    "collapsed": false
   }
  },
  {
   "cell_type": "code",
   "execution_count": null,
   "outputs": [],
   "source": [
    "# There is no information of what this variable signify\n",
    "pd.unique(constructor_results[\"status\"])"
   ],
   "metadata": {
    "collapsed": false
   }
  },
  {
   "cell_type": "markdown",
   "source": [
    "##### constructor_standings"
   ],
   "metadata": {
    "collapsed": false
   }
  },
  {
   "cell_type": "code",
   "execution_count": null,
   "outputs": [],
   "source": [
    "print(constructor_standings.info())\n",
    "constructor_standings.head()"
   ],
   "metadata": {
    "collapsed": false
   }
  },
  {
   "cell_type": "code",
   "execution_count": null,
   "outputs": [],
   "source": [
    "print(\"There is \", len(pd.unique(constructor_standings[\"constructorId\"])), \" unique constructor ID and \", len(pd.unique(constructor_standings[\"raceId\"])), \" unique race ID. Resulting in \", len(constructor_standings[\"constructorStandingsId\"]), \" total Constructor-race data.\")\n",
    "\n",
    "print(\"Points range between \", min(constructor_standings[\"points\"]), \" and \", max(constructor_standings[\"points\"]))\n",
    "\n",
    "print(\"Positions range between \", min(constructor_standings[\"position\"]), \" and \", max(constructor_standings[\"position\"]), \", which is normal as this is the number of drivers per race.\")"
   ],
   "metadata": {
    "collapsed": false
   }
  },
  {
   "cell_type": "markdown",
   "source": [
    "We note that there is less unique constructor ID than in constructor_results. The number of unique race ID is the same."
   ],
   "metadata": {
    "collapsed": false
   }
  },
  {
   "cell_type": "code",
   "execution_count": null,
   "outputs": [],
   "source": [
    "plt.hist(constructor_standings[[\"raceId\",\"points\"]].groupby([\"raceId\"]).mean(),bins=50)\n",
    "plt.xlabel(\"Points\")\n",
    "plt.ylabel(\"Races\")\n",
    "plt.show()"
   ],
   "metadata": {
    "collapsed": false
   }
  },
  {
   "cell_type": "markdown",
   "source": [
    "##### constructors"
   ],
   "metadata": {
    "collapsed": false
   }
  },
  {
   "cell_type": "code",
   "execution_count": null,
   "outputs": [],
   "source": [
    "print(constructors.info())\n",
    "constructors.head()"
   ],
   "metadata": {
    "collapsed": false
   }
  },
  {
   "cell_type": "code",
   "execution_count": null,
   "outputs": [],
   "source": [
    "print(\"There is \", len(pd.unique(constructors[\"constructorId\"])), \"constructors, with \", len(pd.unique(constructors[\"nationality\"])), \" unique nationality.\")"
   ],
   "metadata": {
    "collapsed": false
   }
  },
  {
   "cell_type": "markdown",
   "source": [
    "##### driver_standings"
   ],
   "metadata": {
    "collapsed": false
   }
  },
  {
   "cell_type": "code",
   "execution_count": null,
   "outputs": [],
   "source": [
    "print(driver_standings.info())\n",
    "driver_standings.head()"
   ],
   "metadata": {
    "collapsed": false
   }
  },
  {
   "cell_type": "code",
   "execution_count": null,
   "outputs": [],
   "source": [
    "print(\"There is \", len(pd.unique(driver_standings[\"raceId\"])), \"unique race ID and \", len(pd.unique(driver_standings[\"driverId\"])), \" unique driver ID.\")\n",
    "print(\"Points range between \", min(driver_standings[\"points\"]), \" and \", max(driver_standings[\"points\"]))\n",
    "\n",
    "print(\"Positions range between \", min(driver_standings[\"position\"]), \" and \", max(driver_standings[\"position\"]))"
   ],
   "metadata": {
    "collapsed": false
   }
  },
  {
   "cell_type": "markdown",
   "source": [
    "##### drivers"
   ],
   "metadata": {
    "collapsed": false
   }
  },
  {
   "cell_type": "code",
   "execution_count": null,
   "outputs": [],
   "source": [
    "print(drivers.info())\n",
    "drivers.head()"
   ],
   "metadata": {
    "collapsed": false
   }
  },
  {
   "cell_type": "code",
   "execution_count": null,
   "outputs": [],
   "source": [
    "print(\"There is \", len(pd.unique(drivers[\"driverId\"])), \"driver ID, with \", len(pd.unique(drivers[\"nationality\"])), \" unique nationality.\")"
   ],
   "metadata": {
    "collapsed": false
   }
  },
  {
   "cell_type": "markdown",
   "source": [
    "##### lap_times"
   ],
   "metadata": {
    "collapsed": false
   }
  },
  {
   "cell_type": "code",
   "execution_count": null,
   "outputs": [],
   "source": [
    "print(lap_times.info())\n",
    "lap_times.head()"
   ],
   "metadata": {
    "collapsed": false
   }
  },
  {
   "cell_type": "code",
   "execution_count": null,
   "outputs": [],
   "source": [
    "print(\"There is \", len(pd.unique(lap_times[\"raceId\"])), \"unique race ID and \", len(pd.unique(lap_times[\"driverId\"])), \" unique driver ID.\")\n",
    "print(\"Number of laps can go up to \", max(lap_times[\"lap\"]))"
   ],
   "metadata": {
    "collapsed": false
   }
  },
  {
   "cell_type": "markdown",
   "source": [
    "##### pit_stops"
   ],
   "metadata": {
    "collapsed": false
   }
  },
  {
   "cell_type": "code",
   "execution_count": null,
   "outputs": [],
   "source": [
    "print(pit_stops.info())\n",
    "pit_stops.head()"
   ],
   "metadata": {
    "collapsed": false
   }
  },
  {
   "cell_type": "code",
   "execution_count": null,
   "outputs": [],
   "source": [
    "print(\"There is \", len(pd.unique(pit_stops[\"raceId\"])), \"unique race ID, \", len(pd.unique(pit_stops[\"driverId\"])), \" unique driver ID, and a maximum of \", max(pit_stops[\"lap\"]), \"number of lap.\")\n",
    "print(\"Number of stops can go up to \", max(pit_stops[\"stop\"]), \" and take up to \", max(pit_stops[\"duration\"]), \" seconds.\")\n",
    "max(pit_stops[\"milliseconds\"])"
   ],
   "metadata": {
    "collapsed": false
   }
  },
  {
   "cell_type": "code",
   "execution_count": null,
   "outputs": [],
   "source": [
    "temp = pit_stops[[\"raceId\",\"milliseconds\"]].groupby([\"raceId\"]).mean()\n",
    "plt.hist(temp,bins=50)\n",
    "plt.xlabel(\"Duration [milliseconds]\")\n",
    "plt.ylabel(\"Races\")\n",
    "plt.show()"
   ],
   "metadata": {
    "collapsed": false
   }
  },
  {
   "cell_type": "code",
   "execution_count": null,
   "outputs": [],
   "source": [
    "plt.hist(temp[temp[\"milliseconds\"] < 50000], bins=50)\n",
    "plt.xlabel(\"Duration [milliseconds]\")\n",
    "plt.ylabel(\"Races\")\n",
    "plt.show()"
   ],
   "metadata": {
    "collapsed": false
   }
  },
  {
   "cell_type": "markdown",
   "source": [
    "##### qualifying"
   ],
   "metadata": {
    "collapsed": false
   }
  },
  {
   "cell_type": "code",
   "execution_count": null,
   "outputs": [],
   "source": [
    "print(qualifying.info())\n",
    "qualifying.head()"
   ],
   "metadata": {
    "collapsed": false
   }
  },
  {
   "cell_type": "markdown",
   "source": [
    "##### races"
   ],
   "metadata": {
    "collapsed": false
   }
  },
  {
   "cell_type": "code",
   "execution_count": null,
   "outputs": [],
   "source": [
    "print(races.info())\n",
    "races.head()"
   ],
   "metadata": {
    "collapsed": false
   }
  },
  {
   "cell_type": "markdown",
   "source": [
    "##### results"
   ],
   "metadata": {
    "collapsed": false
   }
  },
  {
   "cell_type": "code",
   "execution_count": null,
   "outputs": [],
   "source": [
    "print(results.info())\n",
    "results.head()"
   ],
   "metadata": {
    "collapsed": false
   }
  },
  {
   "cell_type": "markdown",
   "source": [
    "##### seasons"
   ],
   "metadata": {
    "collapsed": false
   }
  },
  {
   "cell_type": "code",
   "execution_count": null,
   "outputs": [],
   "source": [
    "print(seasons.info())\n",
    "seasons.head()"
   ],
   "metadata": {
    "collapsed": false
   }
  },
  {
   "cell_type": "markdown",
   "source": [
    "##### sprint_results"
   ],
   "metadata": {
    "collapsed": false
   }
  },
  {
   "cell_type": "code",
   "execution_count": null,
   "outputs": [],
   "source": [
    "print(sprint_results.info())\n",
    "sprint_results.head()"
   ],
   "metadata": {
    "collapsed": false
   }
  },
  {
   "cell_type": "markdown",
   "source": [
    "##### status"
   ],
   "metadata": {
    "collapsed": false
   }
  },
  {
   "cell_type": "code",
   "execution_count": null,
   "outputs": [],
   "source": [
    "print(status.info())\n",
    "status.head()"
   ],
   "metadata": {
    "collapsed": false
   }
  }
 ],
 "metadata": {
  "kernelspec": {
   "display_name": "Python 3",
   "language": "python",
   "name": "python3"
  },
  "language_info": {
   "codemirror_mode": {
    "name": "ipython",
    "version": 2
   },
   "file_extension": ".py",
   "mimetype": "text/x-python",
   "name": "python",
   "nbconvert_exporter": "python",
   "pygments_lexer": "ipython2",
   "version": "2.7.6"
  }
 },
 "nbformat": 4,
 "nbformat_minor": 0
}
