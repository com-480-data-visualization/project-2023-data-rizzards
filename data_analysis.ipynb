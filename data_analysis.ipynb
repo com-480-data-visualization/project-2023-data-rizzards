{
 "cells": [
  {
   "cell_type": "markdown",
   "source": [
    "# Exloratory data analysis"
   ],
   "metadata": {
    "collapsed": false
   }
  },
  {
   "cell_type": "code",
   "execution_count": 1,
   "metadata": {
    "collapsed": true
   },
   "outputs": [],
   "source": [
    "import pandas as pd\n",
    "import matplotlib.pyplot as plt\n",
    "import numpy as np"
   ]
  },
  {
   "cell_type": "markdown",
   "source": [
    "#### Uploading data"
   ],
   "metadata": {
    "collapsed": false
   }
  },
  {
   "cell_type": "code",
   "execution_count": 2,
   "outputs": [],
   "source": [
    "Path = \"data/\"\n",
    "\n",
    "circuits = pd.read_csv(Path + \"circuits.csv\")\n",
    "constructor_results = pd.read_csv(Path + \"constructor_results.csv\")\n",
    "constructor_standings = pd.read_csv(Path + \"constructor_standings.csv\")\n",
    "constructors = pd.read_csv(Path + \"constructors.csv\")\n",
    "driver_standings = pd.read_csv(Path + \"driver_standings.csv\")\n",
    "drivers = pd.read_csv(Path + \"drivers.csv\")\n",
    "lap_times = pd.read_csv(Path + \"lap_times.csv\")\n",
    "pit_stops = pd.read_csv(Path + \"pit_stops.csv\")\n",
    "qualifying = pd.read_csv(Path + \"qualifying.csv\")\n",
    "races = pd.read_csv(Path + \"races.csv\")\n",
    "seasons = pd.read_csv(Path + \"seasons.csv\")\n",
    "sprint_results = pd.read_csv(Path + \"sprint_results.csv\")\n",
    "status = pd.read_csv(Path + \"status.csv\")"
   ],
   "metadata": {
    "collapsed": false
   }
  },
  {
   "cell_type": "markdown",
   "source": [
    "##### circuits"
   ],
   "metadata": {
    "collapsed": false
   }
  },
  {
   "cell_type": "code",
   "execution_count": 3,
   "outputs": [
    {
     "name": "stdout",
     "output_type": "stream",
     "text": [
      "<class 'pandas.core.frame.DataFrame'>\n",
      "RangeIndex: 77 entries, 0 to 76\n",
      "Data columns (total 9 columns):\n",
      " #   Column      Non-Null Count  Dtype  \n",
      "---  ------      --------------  -----  \n",
      " 0   circuitId   77 non-null     int64  \n",
      " 1   circuitRef  77 non-null     object \n",
      " 2   name        77 non-null     object \n",
      " 3   location    77 non-null     object \n",
      " 4   country     77 non-null     object \n",
      " 5   lat         77 non-null     float64\n",
      " 6   lng         77 non-null     float64\n",
      " 7   alt         77 non-null     object \n",
      " 8   url         77 non-null     object \n",
      "dtypes: float64(2), int64(1), object(6)\n",
      "memory usage: 5.5+ KB\n",
      "None\n"
     ]
    },
    {
     "data": {
      "text/plain": "   circuitId   circuitRef                            name      location  \\\n0          1  albert_park  Albert Park Grand Prix Circuit     Melbourne   \n1          2       sepang    Sepang International Circuit  Kuala Lumpur   \n2          3      bahrain   Bahrain International Circuit        Sakhir   \n3          4    catalunya  Circuit de Barcelona-Catalunya      Montmeló   \n4          5     istanbul                   Istanbul Park      Istanbul   \n\n     country       lat        lng  alt  \\\n0  Australia -37.84970  144.96800   10   \n1   Malaysia   2.76083  101.73800   18   \n2    Bahrain  26.03250   50.51060    7   \n3      Spain  41.57000    2.26111  109   \n4     Turkey  40.95170   29.40500  130   \n\n                                                 url  \n0  http://en.wikipedia.org/wiki/Melbourne_Grand_P...  \n1  http://en.wikipedia.org/wiki/Sepang_Internatio...  \n2  http://en.wikipedia.org/wiki/Bahrain_Internati...  \n3  http://en.wikipedia.org/wiki/Circuit_de_Barcel...  \n4         http://en.wikipedia.org/wiki/Istanbul_Park  ",
      "text/html": "<div>\n<style scoped>\n    .dataframe tbody tr th:only-of-type {\n        vertical-align: middle;\n    }\n\n    .dataframe tbody tr th {\n        vertical-align: top;\n    }\n\n    .dataframe thead th {\n        text-align: right;\n    }\n</style>\n<table border=\"1\" class=\"dataframe\">\n  <thead>\n    <tr style=\"text-align: right;\">\n      <th></th>\n      <th>circuitId</th>\n      <th>circuitRef</th>\n      <th>name</th>\n      <th>location</th>\n      <th>country</th>\n      <th>lat</th>\n      <th>lng</th>\n      <th>alt</th>\n      <th>url</th>\n    </tr>\n  </thead>\n  <tbody>\n    <tr>\n      <th>0</th>\n      <td>1</td>\n      <td>albert_park</td>\n      <td>Albert Park Grand Prix Circuit</td>\n      <td>Melbourne</td>\n      <td>Australia</td>\n      <td>-37.84970</td>\n      <td>144.96800</td>\n      <td>10</td>\n      <td>http://en.wikipedia.org/wiki/Melbourne_Grand_P...</td>\n    </tr>\n    <tr>\n      <th>1</th>\n      <td>2</td>\n      <td>sepang</td>\n      <td>Sepang International Circuit</td>\n      <td>Kuala Lumpur</td>\n      <td>Malaysia</td>\n      <td>2.76083</td>\n      <td>101.73800</td>\n      <td>18</td>\n      <td>http://en.wikipedia.org/wiki/Sepang_Internatio...</td>\n    </tr>\n    <tr>\n      <th>2</th>\n      <td>3</td>\n      <td>bahrain</td>\n      <td>Bahrain International Circuit</td>\n      <td>Sakhir</td>\n      <td>Bahrain</td>\n      <td>26.03250</td>\n      <td>50.51060</td>\n      <td>7</td>\n      <td>http://en.wikipedia.org/wiki/Bahrain_Internati...</td>\n    </tr>\n    <tr>\n      <th>3</th>\n      <td>4</td>\n      <td>catalunya</td>\n      <td>Circuit de Barcelona-Catalunya</td>\n      <td>Montmeló</td>\n      <td>Spain</td>\n      <td>41.57000</td>\n      <td>2.26111</td>\n      <td>109</td>\n      <td>http://en.wikipedia.org/wiki/Circuit_de_Barcel...</td>\n    </tr>\n    <tr>\n      <th>4</th>\n      <td>5</td>\n      <td>istanbul</td>\n      <td>Istanbul Park</td>\n      <td>Istanbul</td>\n      <td>Turkey</td>\n      <td>40.95170</td>\n      <td>29.40500</td>\n      <td>130</td>\n      <td>http://en.wikipedia.org/wiki/Istanbul_Park</td>\n    </tr>\n  </tbody>\n</table>\n</div>"
     },
     "execution_count": 3,
     "metadata": {},
     "output_type": "execute_result"
    }
   ],
   "source": [
    "print(circuits.info())\n",
    "circuits.head()"
   ],
   "metadata": {
    "collapsed": false
   }
  },
  {
   "cell_type": "code",
   "execution_count": 4,
   "outputs": [
    {
     "name": "stdout",
     "output_type": "stream",
     "text": [
      "There is 77 circuits, taking place in  35  different countries\n"
     ]
    }
   ],
   "source": [
    "print(\"There is\",  len(circuits[\"country\"]), \"circuits, taking place in \", len(pd.unique(circuits[\"country\"])), \" different countries.\")"
   ],
   "metadata": {
    "collapsed": false
   }
  },
  {
   "cell_type": "markdown",
   "source": [
    "##### constructor_results"
   ],
   "metadata": {
    "collapsed": false
   }
  },
  {
   "cell_type": "code",
   "execution_count": 5,
   "outputs": [
    {
     "name": "stdout",
     "output_type": "stream",
     "text": [
      "<class 'pandas.core.frame.DataFrame'>\n",
      "RangeIndex: 12170 entries, 0 to 12169\n",
      "Data columns (total 5 columns):\n",
      " #   Column                Non-Null Count  Dtype  \n",
      "---  ------                --------------  -----  \n",
      " 0   constructorResultsId  12170 non-null  int64  \n",
      " 1   raceId                12170 non-null  int64  \n",
      " 2   constructorId         12170 non-null  int64  \n",
      " 3   points                12170 non-null  float64\n",
      " 4   status                12170 non-null  object \n",
      "dtypes: float64(1), int64(3), object(1)\n",
      "memory usage: 475.5+ KB\n",
      "None\n"
     ]
    },
    {
     "data": {
      "text/plain": "       constructorResultsId  raceId  constructorId  points status\n12165                 16665    1096            117     5.0     \\N\n12166                 16666    1096            213     0.0     \\N\n12167                 16667    1096             51     0.0     \\N\n12168                 16668    1096              3     0.0     \\N\n12169                 16669    1096            210     0.0     \\N",
      "text/html": "<div>\n<style scoped>\n    .dataframe tbody tr th:only-of-type {\n        vertical-align: middle;\n    }\n\n    .dataframe tbody tr th {\n        vertical-align: top;\n    }\n\n    .dataframe thead th {\n        text-align: right;\n    }\n</style>\n<table border=\"1\" class=\"dataframe\">\n  <thead>\n    <tr style=\"text-align: right;\">\n      <th></th>\n      <th>constructorResultsId</th>\n      <th>raceId</th>\n      <th>constructorId</th>\n      <th>points</th>\n      <th>status</th>\n    </tr>\n  </thead>\n  <tbody>\n    <tr>\n      <th>12165</th>\n      <td>16665</td>\n      <td>1096</td>\n      <td>117</td>\n      <td>5.0</td>\n      <td>\\N</td>\n    </tr>\n    <tr>\n      <th>12166</th>\n      <td>16666</td>\n      <td>1096</td>\n      <td>213</td>\n      <td>0.0</td>\n      <td>\\N</td>\n    </tr>\n    <tr>\n      <th>12167</th>\n      <td>16667</td>\n      <td>1096</td>\n      <td>51</td>\n      <td>0.0</td>\n      <td>\\N</td>\n    </tr>\n    <tr>\n      <th>12168</th>\n      <td>16668</td>\n      <td>1096</td>\n      <td>3</td>\n      <td>0.0</td>\n      <td>\\N</td>\n    </tr>\n    <tr>\n      <th>12169</th>\n      <td>16669</td>\n      <td>1096</td>\n      <td>210</td>\n      <td>0.0</td>\n      <td>\\N</td>\n    </tr>\n  </tbody>\n</table>\n</div>"
     },
     "execution_count": 5,
     "metadata": {},
     "output_type": "execute_result"
    }
   ],
   "source": [
    "print(constructor_results.info())\n",
    "constructor_results.tail()"
   ],
   "metadata": {
    "collapsed": false
   }
  },
  {
   "cell_type": "code",
   "execution_count": 6,
   "outputs": [
    {
     "name": "stdout",
     "output_type": "stream",
     "text": [
      "There is  175  unique constructor ID and  1016  unique race ID. Resulting in  12170  total Constructor-race data.\n",
      "Points range between  0.0  and  66.0\n"
     ]
    }
   ],
   "source": [
    "print(\"There is \", len(pd.unique(constructor_results[\"constructorId\"])), \" unique constructor ID and \", len(pd.unique(constructor_results[\"raceId\"])), \" unique race ID. Resulting in \", len(constructor_results[\"constructorResultsId\"]), \" total Constructor-race data.\")\n",
    "\n",
    "print(\"Points range between \", min(constructor_results[\"points\"]), \" and \", max(constructor_results[\"points\"]))"
   ],
   "metadata": {
    "collapsed": false
   }
  },
  {
   "cell_type": "code",
   "execution_count": 7,
   "outputs": [
    {
     "data": {
      "text/plain": "<Figure size 640x480 with 1 Axes>",
      "image/png": "[encoded data removed]"
     },
     "metadata": {},
     "output_type": "display_data"
    }
   ],
   "source": [
    "plt.hist(constructor_results[[\"raceId\",\"points\"]].groupby([\"raceId\"]).mean(),bins=50)\n",
    "plt.xlabel(\"Points\")\n",
    "plt.ylabel(\"Races\")\n",
    "plt.show()"
   ],
   "metadata": {
    "collapsed": false
   }
  },
  {
   "cell_type": "code",
   "execution_count": 8,
   "outputs": [
    {
     "data": {
      "text/plain": "array(['\\\\N', 'D'], dtype=object)"
     },
     "execution_count": 8,
     "metadata": {},
     "output_type": "execute_result"
    }
   ],
   "source": [
    "# There is no information of what this variable signify\n",
    "pd.unique(constructor_results[\"status\"])"
   ],
   "metadata": {
    "collapsed": false
   }
  },
  {
   "cell_type": "markdown",
   "source": [
    "##### constructor_standings"
   ],
   "metadata": {
    "collapsed": false
   }
  },
  {
   "cell_type": "markdown",
   "source": [
    "##### constructors"
   ],
   "metadata": {
    "collapsed": false
   }
  },
  {
   "cell_type": "markdown",
   "source": [
    "##### driver_standings"
   ],
   "metadata": {
    "collapsed": false
   }
  },
  {
   "cell_type": "markdown",
   "source": [
    "##### drivers"
   ],
   "metadata": {
    "collapsed": false
   }
  },
  {
   "cell_type": "markdown",
   "source": [
    "##### lap_times"
   ],
   "metadata": {
    "collapsed": false
   }
  },
  {
   "cell_type": "markdown",
   "source": [
    "##### pit_stops"
   ],
   "metadata": {
    "collapsed": false
   }
  },
  {
   "cell_type": "markdown",
   "source": [
    "##### qualifying"
   ],
   "metadata": {
    "collapsed": false
   }
  },
  {
   "cell_type": "markdown",
   "source": [
    "##### races"
   ],
   "metadata": {
    "collapsed": false
   }
  },
  {
   "cell_type": "markdown",
   "source": [
    "##### results"
   ],
   "metadata": {
    "collapsed": false
   }
  },
  {
   "cell_type": "markdown",
   "source": [
    "##### seasons"
   ],
   "metadata": {
    "collapsed": false
   }
  },
  {
   "cell_type": "markdown",
   "source": [
    "##### sprint_results"
   ],
   "metadata": {
    "collapsed": false
   }
  },
  {
   "cell_type": "markdown",
   "source": [
    "##### status"
   ],
   "metadata": {
    "collapsed": false
   }
  }
 ],
 "metadata": {
  "kernelspec": {
   "display_name": "Python 3",
   "language": "python",
   "name": "python3"
  },
  "language_info": {
   "codemirror_mode": {
    "name": "ipython",
    "version": 2
   },
   "file_extension": ".py",
   "mimetype": "text/x-python",
   "name": "python",
   "nbconvert_exporter": "python",
   "pygments_lexer": "ipython2",
   "version": "2.7.6"
  }
 },
 "nbformat": 4,
 "nbformat_minor": 0
}
