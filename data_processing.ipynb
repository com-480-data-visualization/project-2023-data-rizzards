{
 "cells": [
  {
   "cell_type": "code",
   "execution_count": null,
   "outputs": [],
   "source": [
    "import pandas as pd\n",
    "import json"
   ],
   "metadata": {
    "collapsed": false
   }
  },
  {
   "cell_type": "markdown",
   "source": [
    "#### Uploading data"
   ],
   "metadata": {
    "collapsed": false
   }
  },
  {
   "cell_type": "code",
   "execution_count": null,
   "outputs": [],
   "source": [
    "Path = \"data/\"\n",
    "\n",
    "circuits = pd.read_csv(Path + \"circuits.csv\")\n",
    "\n",
    "constructor_standings = pd.read_csv(Path + \"constructor_standings.csv\")\n",
    "constructors = pd.read_csv(Path + \"constructors.csv\")\n",
    "driver_standings = pd.read_csv(Path + \"driver_standings.csv\")\n",
    "drivers = pd.read_csv(Path + \"drivers.csv\")\n",
    "lap_times = pd.read_csv(Path + \"lap_times.csv\")\n",
    "pit_stops = pd.read_csv(Path + \"pit_stops.csv\")\n",
    "#qualifying = pd.read_csv(Path + \"qualifying.csv\")\n",
    "races = pd.read_csv(Path + \"races.csv\")\n",
    "results = pd.read_csv(Path + \"results.csv\")\n",
    "#sprint_results = pd.read_csv(Path + \"sprint_results.csv\")\n",
    "status = pd.read_csv(Path + \"status.csv\")"
   ],
   "metadata": {
    "collapsed": false
   }
  },
  {
   "cell_type": "code",
   "execution_count": null,
   "outputs": [],
   "source": [
    "circuits = circuits[[\"circuitId\",\"name\",\"country\",\"location\",\"lat\",\"lng\",\"alt\"]]\n",
    "constructor_standings = constructor_standings[[\"raceId\",\"constructorId\",\"points\",\"position\",\"wins\"]]\n",
    "constructors = constructors[[\"constructorId\",\"name\"]]\n",
    "driver_standings = driver_standings[[\"raceId\",\"driverId\",\"points\",\"position\",\"wins\"]]\n",
    "\n",
    "name = drivers['forename'] + ' ' + drivers['surname']\n",
    "drivers = drivers[[\"driverId\",\"number\",\"code\"]]\n",
    "drivers[\"name\"]=name\n",
    "\n",
    "races = races[[\"raceId\",\"circuitId\",\"year\",\"date\",\"name\"]]\n",
    "results = results[[\"raceId\",\"driverId\",\"constructorId\",\"position\",\"points\"]]"
   ],
   "metadata": {
    "collapsed": false
   }
  },
  {
   "cell_type": "markdown",
   "source": [
    "### Data processing for drivers"
   ],
   "metadata": {
    "collapsed": false
   }
  },
  {
   "cell_type": "markdown",
   "source": [
    "#### driver_teammates\n",
    "Generate a dictionary (JSON file) where every driver has a list of drivers they raced with (raced for the same constructor during the same year)."
   ],
   "metadata": {
    "collapsed": false
   }
  },
  {
   "cell_type": "code",
   "execution_count": null,
   "outputs": [],
   "source": [
    "# Merge files to get relevant information and group by (constructorId, year)\n",
    "merged = pd.merge(results[['raceId','driverId','constructorId']], races[['raceId','year']], on=[\"raceId\"], how=\"inner\")\n",
    "merged = pd.merge(merged, drivers[['driverId','name']], on=[\"driverId\"], how=\"inner\")\n",
    "constructor_list = merged[['name','constructorId','year']].drop_duplicates().groupby(['constructorId','year'])['name'].apply(list).to_dict()"
   ],
   "metadata": {
    "collapsed": false
   }
  },
  {
   "cell_type": "code",
   "execution_count": null,
   "outputs": [],
   "source": [
    "# Create the driver dictionary\n",
    "driver_list = {}\n",
    "for (constructorId, year), names in constructor_list.items():\n",
    "    for name in names:\n",
    "        if name not in driver_list:\n",
    "            driver_list[name] = []\n",
    "        driver_list[name].extend([n for n in names if n != name])\n",
    "driver_list"
   ],
   "metadata": {
    "collapsed": false
   }
  },
  {
   "cell_type": "code",
   "execution_count": null,
   "outputs": [],
   "source": [
    "# Format\n",
    "driver_teammates = []\n",
    "\n",
    "for name, teammates in driver_list.items():\n",
    "    driver = {\n",
    "        'id': name,\n",
    "        'data': teammates\n",
    "    }\n",
    "    driver_teammates.append(driver)\n",
    "\n",
    "print(driver_teammates)\n",
    "\n",
    "file_path = 'website/src/data/driver_teammates.json'\n",
    "with open(file_path, 'w') as file:\n",
    "    json.dump(driver_teammates, file)"
   ],
   "metadata": {
    "collapsed": false
   }
  },
  {
   "cell_type": "markdown",
   "source": [
    "#### data_points\n",
    "Generate a dictionary (JSON file) where every driver has their cumulated points during a year, for each year"
   ],
   "metadata": {
    "collapsed": false
   }
  },
  {
   "cell_type": "code",
   "execution_count": null,
   "outputs": [],
   "source": [
    "# Merge files to get relevant information\n",
    "merged = pd.merge(results[['raceId','driverId','points']], races[['raceId','year','date','name']], on=[\"raceId\"], how=\"inner\").rename(columns={'name': 'race_name'})\n",
    "merged = pd.merge(merged, drivers[['driverId','name']], on=[\"driverId\"], how=\"inner\")[['year','name','date','race_name','points']].set_index('year')\n",
    "\n",
    "#merged[merged['year'] == 2021]\n",
    "merged[merged['race_name'] == 'Qatar Grand Prix'].loc[2021]"
   ],
   "metadata": {
    "collapsed": false
   }
  },
  {
   "cell_type": "code",
   "execution_count": null,
   "outputs": [],
   "source": [
    "# Format\n",
    "formatted_data = []\n",
    "for year, group in merged.groupby(['year']):\n",
    "    year_data = []\n",
    "    for name, name_data in group.groupby(['name']):\n",
    "        cumulation_points = 0\n",
    "        data = []\n",
    "        for _, row in name_data.iterrows():\n",
    "            cumulation_points += int(row['points'])\n",
    "            data.append({'x': row['date'], 'y': cumulation_points})\n",
    "        year_data.append({'id': name, 'data': data})\n",
    "\n",
    "    formatted_data.append({'year': int(year), 'year_data': year_data})\n",
    "\n",
    "print(formatted_data)\n",
    "\n",
    "file_path = 'website/src/data/data_points.json'\n",
    "with open(file_path, 'w') as file:\n",
    "    json.dump(formatted_data, file)"
   ],
   "metadata": {
    "collapsed": false
   }
  },
  {
   "cell_type": "markdown",
   "source": [
    "#### data_rank\n",
    "Generate a dictionary (JSON file) where every driver has their rank for each year"
   ],
   "metadata": {
    "collapsed": false
   }
  },
  {
   "cell_type": "code",
   "execution_count": null,
   "outputs": [],
   "source": [
    "# Merge files to get relevant information\n",
    "merged = pd.merge(driver_standings[['raceId','driverId','position']], races[['raceId','year']], on=[\"raceId\"], how=\"inner\")\n",
    "merged = pd.merge(merged, drivers[['driverId','name']], on=[\"driverId\"], how=\"inner\")[['name','year','position']]\n",
    "# Group by (name, year) to get the summed points\n",
    "merged = merged.groupby(['name','year']).sum().reset_index()\n",
    "# Set rank relative to the number of points earned\n",
    "merged['rank'] = merged.groupby('year')['position'].rank(ascending=True, method='min')\n",
    "merged = merged[['name','year','rank']].set_index('name')"
   ],
   "metadata": {
    "collapsed": false
   }
  },
  {
   "cell_type": "code",
   "execution_count": null,
   "outputs": [],
   "source": [
    "# Format\n",
    "formatted_data = []\n",
    "for name, group in merged.groupby(['name']):\n",
    "    data = [{'x': int(row['year']), 'y': int(row['rank'])} for _, row in group.iterrows()]\n",
    "    formatted_data.append({'id': name, 'data': data})\n",
    "\n",
    "formatted_data.sort(key=lambda x: len(x['data']), reverse=True)\n",
    "print(formatted_data[1])\n",
    "\n",
    "file_path = 'website/src/data/data_rank.json'\n",
    "with open(file_path, 'w') as file:\n",
    "    json.dump(formatted_data, file)"
   ],
   "metadata": {
    "collapsed": false
   }
  },
  {
   "cell_type": "markdown",
   "source": [
    "### TODO"
   ],
   "metadata": {
    "collapsed": false
   }
  },
  {
   "cell_type": "markdown",
   "source": [
    "For a given race, how the race unfolded (positions of the drivers, pit stops, etc.)\n",
    "\n",
    "To vizualise it, we use svgs for some of the circuits.\n",
    "\n",
    "For a chosen year, for a chosen location (must be able to chose one or the other first and the selection change depending what is available) -> output a track with list of drivers (that you can select or not, with a button to automatically select top 5 of the race) and a button start race\n",
    "options:\n",
    "- add pit stops (driver stops for the pit stop duration)\n",
    "- add a plot which show more clearly the current position"
   ],
   "metadata": {
    "collapsed": false
   }
  },
  {
   "cell_type": "code",
   "execution_count": null,
   "outputs": [],
   "source": [
    "#list of locations with available tracks svgs\n",
    "locations_svg = [\"Abu Dhabi\", \"Melbourne\", \"Spielberg\", \"Baku\", \"Sakhir\", \"Spa\", \"São Paulo\", \"Montreal\", \"Shanghai\", \"Le Castellet\", \"Silverstone\", \"Budapest\", \"Monza\", \"Suzuka\", \"Mexico City\", \"Monte-Carlo\", \"Zandvoort\", \"Sochi\", \"Marina Bay\", \"Montmeló\", \"Austin\"]\n",
    "circuits_svg = circuits[circuits.location.isin(locations_svg)]"
   ],
   "metadata": {
    "collapsed": false
   }
  },
  {
   "cell_type": "code",
   "execution_count": null,
   "outputs": [],
   "source": [
    "merged = pd.merge(results, races, on=[\"raceId\"], how=\"inner\")\n",
    "merged = pd.merge(merged,circuits_svg[\"circuitId\"], on=[\"circuitId\"], how=\"inner\")\n",
    "merged = pd.merge(merged, lap_times, on=[\"raceId\",\"driverId\"], how=\"inner\")\n",
    "\n",
    "merged = merged[[\"raceId\",\"driverId\",\"constructorId\",\"circuitId\",\"year\",\"name\",\"position_x\",\"points\",\"lap\",\"position_y\",\"milliseconds\"]].rename(columns={\"position_x\":\"final_position\", \"position_y\":\"lap_position\"})\n",
    "\n",
    "merged\n",
    "#merged.to_csv(\"processed_data/race_svg.csv\")\n",
    "#merged.to_json(\"processed_data/race_svg.json\")"
   ],
   "metadata": {
    "collapsed": false
   }
  },
  {
   "cell_type": "markdown",
   "source": [
    "For a given driver, how the driver's performance evolved over time, which teams they raced for, how many races did they win, compare them to other drivers, etc.\n",
    "\n",
    "By selecting a driver -> output:\n",
    "- plot for wins in time (+total)\n",
    "- plot for points in time\n",
    "- constructor they raced for in time\n",
    "Options:\n",
    "- possibility to select up to x drivers to compare them\n",
    "- short description of each driver ?"
   ],
   "metadata": {
    "collapsed": false
   }
  },
  {
   "cell_type": "code",
   "execution_count": null,
   "outputs": [],
   "source": [
    "merged = pd.merge(results, races[[\"raceId\",\"year\"]], on=[\"raceId\"], how=\"inner\")\n",
    "merged = pd.merge(merged,driver_standings[[\"raceId\",\"driverId\",\"wins\"]],on=[\"raceId\",\"driverId\"], how=\"inner\")\n",
    "\n",
    "merged\n",
    "#merged.to_csv(\"processed_data/driver_results.csv\")\n",
    "#merged.to_json(\"processed_data/driver_results.json\")"
   ],
   "metadata": {
    "collapsed": false
   }
  },
  {
   "cell_type": "markdown",
   "source": [
    "For each year, the schedule of the races, their locations on the world map, which teams participated, etc.\n",
    "\n",
    "To determine.\n",
    "An idea: By selecting a year -> output:\n",
    "- list of races\n",
    "- world map with locations\n",
    "- list of constructors\n",
    "Options:\n",
    "- show the movement"
   ],
   "metadata": {
    "collapsed": false
   }
  },
  {
   "cell_type": "code",
   "execution_count": null,
   "outputs": [],
   "source": [
    "merged = pd.merge(races, results[[\"raceId\",\"driverId\",\"constructorId\"]], on=[\"raceId\"], how=\"inner\")\n",
    "merged = merged[[\"raceId\",\"circuitId\",\"driverId\",\"constructorId\",\"year\",\"date\",\"name\"]]\n",
    "\n",
    "merged\n",
    "#merged.to_csv(\"processed_data/schedule.csv\")\n",
    "#merged.to_json(\"processed_data/schedule.json\")"
   ],
   "metadata": {
    "collapsed": false
   }
  }
 ],
 "metadata": {
  "kernelspec": {
   "display_name": "Python 3",
   "language": "python",
   "name": "python3"
  },
  "language_info": {
   "codemirror_mode": {
    "name": "ipython",
    "version": 2
   },
   "file_extension": ".py",
   "mimetype": "text/x-python",
   "name": "python",
   "nbconvert_exporter": "python",
   "pygments_lexer": "ipython2",
   "version": "2.7.6"
  }
 },
 "nbformat": 4,
 "nbformat_minor": 0
}
