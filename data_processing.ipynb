{
 "cells": [
  {
   "cell_type": "code",
   "execution_count": 25,
   "metadata": {
    "collapsed": false
   },
   "outputs": [],
   "source": [
    "import pandas as pd\n",
    "import json\n",
    "\n",
    "from IPython.display import display"
   ]
  },
  {
   "attachments": {},
   "cell_type": "markdown",
   "metadata": {
    "collapsed": false
   },
   "source": [
    "#### Uploading data\n"
   ]
  },
  {
   "cell_type": "code",
   "execution_count": 2,
   "metadata": {
    "collapsed": false
   },
   "outputs": [],
   "source": [
    "Path = \"data/\"\n",
    "\n",
    "circuits = pd.read_csv(Path + \"circuits.csv\")\n",
    "\n",
    "constructor_standings = pd.read_csv(Path + \"constructor_standings.csv\")\n",
    "constructors = pd.read_csv(Path + \"constructors.csv\")\n",
    "driver_standings = pd.read_csv(Path + \"driver_standings.csv\")\n",
    "drivers = pd.read_csv(Path + \"drivers.csv\")\n",
    "lap_times = pd.read_csv(Path + \"lap_times.csv\")\n",
    "pit_stops = pd.read_csv(Path + \"pit_stops.csv\")\n",
    "# qualifying = pd.read_csv(Path + \"qualifying.csv\")\n",
    "races = pd.read_csv(Path + \"races.csv\")\n",
    "results = pd.read_csv(Path + \"results.csv\")\n",
    "# sprint_results = pd.read_csv(Path + \"sprint_results.csv\")\n",
    "status = pd.read_csv(Path + \"status.csv\")\n"
   ]
  },
  {
   "cell_type": "code",
   "execution_count": 3,
   "metadata": {
    "collapsed": false
   },
   "outputs": [
    {
     "data": {
      "text/html": [
       "<div>\n",
       "<style scoped>\n",
       "    .dataframe tbody tr th:only-of-type {\n",
       "        vertical-align: middle;\n",
       "    }\n",
       "\n",
       "    .dataframe tbody tr th {\n",
       "        vertical-align: top;\n",
       "    }\n",
       "\n",
       "    .dataframe thead th {\n",
       "        text-align: right;\n",
       "    }\n",
       "</style>\n",
       "<table border=\"1\" class=\"dataframe\">\n",
       "  <thead>\n",
       "    <tr style=\"text-align: right;\">\n",
       "      <th></th>\n",
       "      <th>driverStandingsId</th>\n",
       "      <th>raceId</th>\n",
       "      <th>driverId</th>\n",
       "      <th>points</th>\n",
       "      <th>position</th>\n",
       "      <th>positionText</th>\n",
       "      <th>wins</th>\n",
       "    </tr>\n",
       "  </thead>\n",
       "  <tbody>\n",
       "    <tr>\n",
       "      <th>0</th>\n",
       "      <td>1</td>\n",
       "      <td>18</td>\n",
       "      <td>1</td>\n",
       "      <td>10.0</td>\n",
       "      <td>1</td>\n",
       "      <td>1</td>\n",
       "      <td>1</td>\n",
       "    </tr>\n",
       "    <tr>\n",
       "      <th>8</th>\n",
       "      <td>9</td>\n",
       "      <td>19</td>\n",
       "      <td>1</td>\n",
       "      <td>14.0</td>\n",
       "      <td>1</td>\n",
       "      <td>1</td>\n",
       "      <td>1</td>\n",
       "    </tr>\n",
       "    <tr>\n",
       "      <th>26</th>\n",
       "      <td>27</td>\n",
       "      <td>20</td>\n",
       "      <td>1</td>\n",
       "      <td>14.0</td>\n",
       "      <td>3</td>\n",
       "      <td>3</td>\n",
       "      <td>1</td>\n",
       "    </tr>\n",
       "    <tr>\n",
       "      <th>47</th>\n",
       "      <td>48</td>\n",
       "      <td>21</td>\n",
       "      <td>1</td>\n",
       "      <td>20.0</td>\n",
       "      <td>2</td>\n",
       "      <td>2</td>\n",
       "      <td>1</td>\n",
       "    </tr>\n",
       "    <tr>\n",
       "      <th>68</th>\n",
       "      <td>69</td>\n",
       "      <td>22</td>\n",
       "      <td>1</td>\n",
       "      <td>28.0</td>\n",
       "      <td>3</td>\n",
       "      <td>3</td>\n",
       "      <td>1</td>\n",
       "    </tr>\n",
       "    <tr>\n",
       "      <th>...</th>\n",
       "      <td>...</td>\n",
       "      <td>...</td>\n",
       "      <td>...</td>\n",
       "      <td>...</td>\n",
       "      <td>...</td>\n",
       "      <td>...</td>\n",
       "      <td>...</td>\n",
       "    </tr>\n",
       "    <tr>\n",
       "      <th>33811</th>\n",
       "      <td>71740</td>\n",
       "      <td>1093</td>\n",
       "      <td>1</td>\n",
       "      <td>198.0</td>\n",
       "      <td>6</td>\n",
       "      <td>6</td>\n",
       "      <td>0</td>\n",
       "    </tr>\n",
       "    <tr>\n",
       "      <th>33828</th>\n",
       "      <td>71762</td>\n",
       "      <td>1094</td>\n",
       "      <td>1</td>\n",
       "      <td>216.0</td>\n",
       "      <td>5</td>\n",
       "      <td>5</td>\n",
       "      <td>0</td>\n",
       "    </tr>\n",
       "    <tr>\n",
       "      <th>33840</th>\n",
       "      <td>71784</td>\n",
       "      <td>1095</td>\n",
       "      <td>1</td>\n",
       "      <td>240.0</td>\n",
       "      <td>5</td>\n",
       "      <td>5</td>\n",
       "      <td>0</td>\n",
       "    </tr>\n",
       "    <tr>\n",
       "      <th>33862</th>\n",
       "      <td>71806</td>\n",
       "      <td>1096</td>\n",
       "      <td>1</td>\n",
       "      <td>240.0</td>\n",
       "      <td>6</td>\n",
       "      <td>6</td>\n",
       "      <td>0</td>\n",
       "    </tr>\n",
       "    <tr>\n",
       "      <th>33886</th>\n",
       "      <td>71830</td>\n",
       "      <td>1098</td>\n",
       "      <td>1</td>\n",
       "      <td>0.0</td>\n",
       "      <td>5</td>\n",
       "      <td>5</td>\n",
       "      <td>0</td>\n",
       "    </tr>\n",
       "  </tbody>\n",
       "</table>\n",
       "<p>311 rows × 7 columns</p>\n",
       "</div>"
      ],
      "text/plain": [
       "       driverStandingsId  raceId  driverId  points  position positionText  \\\n",
       "0                      1      18         1    10.0         1            1   \n",
       "8                      9      19         1    14.0         1            1   \n",
       "26                    27      20         1    14.0         3            3   \n",
       "47                    48      21         1    20.0         2            2   \n",
       "68                    69      22         1    28.0         3            3   \n",
       "...                  ...     ...       ...     ...       ...          ...   \n",
       "33811              71740    1093         1   198.0         6            6   \n",
       "33828              71762    1094         1   216.0         5            5   \n",
       "33840              71784    1095         1   240.0         5            5   \n",
       "33862              71806    1096         1   240.0         6            6   \n",
       "33886              71830    1098         1     0.0         5            5   \n",
       "\n",
       "       wins  \n",
       "0         1  \n",
       "8         1  \n",
       "26        1  \n",
       "47        1  \n",
       "68        1  \n",
       "...     ...  \n",
       "33811     0  \n",
       "33828     0  \n",
       "33840     0  \n",
       "33862     0  \n",
       "33886     0  \n",
       "\n",
       "[311 rows x 7 columns]"
      ]
     },
     "execution_count": 3,
     "metadata": {},
     "output_type": "execute_result"
    }
   ],
   "source": [
    "driver_standings[driver_standings[\"driverId\"] == 1]\n"
   ]
  },
  {
   "cell_type": "code",
   "execution_count": 4,
   "metadata": {
    "collapsed": false
   },
   "outputs": [],
   "source": [
    "circuits = circuits[[\"circuitId\", \"name\", \"country\", \"location\", \"lat\", \"lng\", \"alt\"]]\n",
    "constructor_standings = constructor_standings[\n",
    "    [\"raceId\", \"constructorId\", \"points\", \"position\", \"wins\"]\n",
    "]\n",
    "constructors = constructors[[\"constructorId\", \"name\"]]\n",
    "driver_standings = driver_standings[\n",
    "    [\"raceId\", \"driverId\", \"points\", \"position\", \"wins\"]\n",
    "]\n",
    "\n",
    "name = drivers[\"forename\"] + \" \" + drivers[\"surname\"]\n",
    "drivers = drivers[[\"driverId\", \"number\", \"code\"]]\n",
    "drivers[\"name\"] = name\n",
    "\n",
    "races = races[[\"raceId\", \"circuitId\", \"year\", \"date\", \"name\"]]\n",
    "results = results[[\"raceId\", \"driverId\", \"constructorId\", \"position\", \"points\"]]\n"
   ]
  },
  {
   "attachments": {},
   "cell_type": "markdown",
   "metadata": {
    "collapsed": false
   },
   "source": [
    "### Data processing for drivers\n"
   ]
  },
  {
   "attachments": {},
   "cell_type": "markdown",
   "metadata": {
    "collapsed": false
   },
   "source": [
    "#### driver_teammates\n",
    "\n",
    "Generate a dictionary (JSON file) where every driver has a list of drivers they raced with (raced for the same constructor during the same year).\n"
   ]
  },
  {
   "cell_type": "code",
   "execution_count": null,
   "metadata": {
    "collapsed": false
   },
   "outputs": [],
   "source": [
    "# Merge files to get relevant information and group by (constructorId, year)\n",
    "merged = pd.merge(\n",
    "    results[[\"raceId\", \"driverId\", \"constructorId\"]],\n",
    "    races[[\"raceId\", \"year\"]],\n",
    "    on=[\"raceId\"],\n",
    "    how=\"inner\",\n",
    ")\n",
    "merged = pd.merge(merged, drivers[[\"driverId\", \"name\"]], on=[\"driverId\"], how=\"inner\")\n",
    "constructor_list = (\n",
    "    merged[[\"name\", \"constructorId\", \"year\"]]\n",
    "    .drop_duplicates()\n",
    "    .groupby([\"constructorId\", \"year\"])[\"name\"]\n",
    "    .apply(list)\n",
    "    .to_dict()\n",
    ")\n",
    "constructor_list\n"
   ]
  },
  {
   "cell_type": "code",
   "execution_count": null,
   "metadata": {
    "collapsed": false
   },
   "outputs": [],
   "source": [
    "# Create the driver dictionary\n",
    "driver_list = {}\n",
    "for (constructorId, year), names in constructor_list.items():\n",
    "    for name in names:\n",
    "        if name not in driver_list:\n",
    "            driver_list[name] = []\n",
    "        teammates = []\n",
    "        for n in names:\n",
    "            if n != name and n not in driver_list[name]:\n",
    "                teammates.append(n)\n",
    "        driver_list[name].extend(teammates)\n",
    "driver_list"
   ]
  },
  {
   "cell_type": "code",
   "execution_count": null,
   "metadata": {
    "collapsed": false
   },
   "outputs": [],
   "source": [
    "# Format\n",
    "driver_teammates = []\n",
    "\n",
    "for name, teammates in driver_list.items():\n",
    "    driver = {\"id\": name, \"data\": teammates}\n",
    "    driver_teammates.append(driver)\n",
    "\n",
    "print(driver_teammates)\n",
    "\n",
    "file_path = \"website/src/data/driver_teammates.json\"\n",
    "with open(file_path, \"w\") as file:\n",
    "    json.dump(driver_teammates, file)\n"
   ]
  },
  {
   "attachments": {},
   "cell_type": "markdown",
   "metadata": {
    "collapsed": false
   },
   "source": [
    "#### data_points\n",
    "\n",
    "Generate a dictionary (JSON file) where every driver has their cumulated points during a year, for each year\n"
   ]
  },
  {
   "cell_type": "code",
   "execution_count": null,
   "metadata": {
    "collapsed": false
   },
   "outputs": [],
   "source": [
    "# Merge files to get relevant information\n",
    "merged = pd.merge(\n",
    "    driver_standings[[\"raceId\", \"driverId\", \"points\"]],\n",
    "    races[[\"raceId\", \"year\", \"date\", \"name\"]],\n",
    "    on=[\"raceId\"],\n",
    "    how=\"inner\",\n",
    ").rename(columns={\"name\": \"race_name\"})\n",
    "merged = pd.merge(merged, drivers[[\"driverId\", \"name\"]], on=[\"driverId\"], how=\"inner\")[\n",
    "    [\"year\", \"name\", \"date\", \"race_name\", \"points\"]\n",
    "].set_index(\"year\")\n",
    "\n",
    "# merged[merged['year'] == 2021]\n",
    "merged[merged[\"race_name\"] == \"Qatar Grand Prix\"].loc[2021]\n"
   ]
  },
  {
   "cell_type": "code",
   "execution_count": null,
   "metadata": {
    "collapsed": false
   },
   "outputs": [],
   "source": [
    "# Format\n",
    "formatted_data = []\n",
    "for year, group in merged.groupby([\"year\"]):\n",
    "    year_data = []\n",
    "    for name, name_data in group.groupby([\"name\"]):\n",
    "        data = [\n",
    "            {\"x\": row[\"date\"], \"y\": int(row[\"points\"])}\n",
    "            for _, row in name_data.iterrows()\n",
    "        ]\n",
    "        year_data.append({\"id\": name, \"data\": data})\n",
    "    formatted_data.append({\"year\": int(year), \"year_data\": year_data})\n",
    "\n",
    "\n",
    "print(formatted_data)\n",
    "\n",
    "file_path = \"website/src/data/data_points.json\"\n",
    "with open(file_path, \"w\") as file:\n",
    "    json.dump(formatted_data, file)\n"
   ]
  },
  {
   "attachments": {},
   "cell_type": "markdown",
   "metadata": {
    "collapsed": false
   },
   "source": [
    "#### data_rank\n",
    "\n",
    "Generate a dictionary (JSON file) where every driver has their rank for each year\n"
   ]
  },
  {
   "cell_type": "code",
   "execution_count": null,
   "metadata": {
    "collapsed": false
   },
   "outputs": [],
   "source": [
    "# Merge files to get relevant information\n",
    "# driver_standings or results\n",
    "merged = pd.merge(\n",
    "    driver_standings[[\"raceId\", \"driverId\", \"position\"]],\n",
    "    races[[\"raceId\", \"year\"]],\n",
    "    on=[\"raceId\"],\n",
    "    how=\"inner\",\n",
    ")\n",
    "merged = pd.merge(merged, drivers[[\"driverId\", \"name\"]], on=[\"driverId\"], how=\"inner\")[\n",
    "    [\"name\", \"year\", \"position\"]\n",
    "]\n",
    "\n",
    "# Group by (name, year) to get the position at the end of the year\n",
    "merged = merged.groupby([\"name\", \"year\"]).agg({\"position\": \"last\"}).reset_index()\n",
    "\n",
    "merged = merged[[\"name\", \"year\", \"position\"]].set_index(\"name\")\n",
    "\n",
    "merged.loc[\"Fernando Alonso\"]\n"
   ]
  },
  {
   "cell_type": "code",
   "execution_count": null,
   "metadata": {
    "collapsed": false
   },
   "outputs": [],
   "source": [
    "# Format\n",
    "formatted_data = []\n",
    "for name, group in merged.groupby([\"name\"]):\n",
    "    data = [\n",
    "        {\"x\": int(row[\"year\"]), \"y\": int(row[\"position\"])}\n",
    "        for _, row in group.iterrows()\n",
    "    ]\n",
    "    formatted_data.append({\"id\": name, \"data\": data})\n",
    "\n",
    "formatted_data.sort(key=lambda x: len(x[\"data\"]), reverse=True)\n",
    "print(formatted_data[1])\n",
    "\n",
    "file_path = \"website/src/data/data_rank.json\"\n",
    "with open(file_path, \"w\") as file:\n",
    "    json.dump(formatted_data, file)\n"
   ]
  },
  {
   "attachments": {},
   "cell_type": "markdown",
   "metadata": {
    "collapsed": false
   },
   "source": [
    "### Process lap times for all drivers over all races\n"
   ]
  },
  {
   "attachments": {},
   "cell_type": "markdown",
   "metadata": {
    "collapsed": false
   },
   "source": [
    "For each driver, and each circuit visualize their lap times over the seasons.\n",
    "\n",
    "To vizualise it, we use svgs for some of the circuits.\n",
    "\n",
    "For a chosen driver and a chosen circuit, output lap times for each year. Also join the data with the driver's team for each year.\n"
   ]
  },
  {
   "cell_type": "code",
   "execution_count": 27,
   "metadata": {},
   "outputs": [],
   "source": [
    "file_prefix = \"website/src/data/race/\""
   ]
  },
  {
   "cell_type": "code",
   "execution_count": 92,
   "metadata": {
    "collapsed": false
   },
   "outputs": [
    {
     "name": "stdout",
     "output_type": "stream",
     "text": [
      "Number of circuits: 21\n"
     ]
    },
    {
     "data": {
      "text/html": [
       "<div>\n",
       "<style scoped>\n",
       "    .dataframe tbody tr th:only-of-type {\n",
       "        vertical-align: middle;\n",
       "    }\n",
       "\n",
       "    .dataframe tbody tr th {\n",
       "        vertical-align: top;\n",
       "    }\n",
       "\n",
       "    .dataframe thead th {\n",
       "        text-align: right;\n",
       "    }\n",
       "</style>\n",
       "<table border=\"1\" class=\"dataframe\">\n",
       "  <thead>\n",
       "    <tr style=\"text-align: right;\">\n",
       "      <th></th>\n",
       "      <th>circuitId</th>\n",
       "      <th>name</th>\n",
       "      <th>country</th>\n",
       "      <th>location</th>\n",
       "      <th>lat</th>\n",
       "      <th>lng</th>\n",
       "      <th>alt</th>\n",
       "    </tr>\n",
       "  </thead>\n",
       "  <tbody>\n",
       "    <tr>\n",
       "      <th>0</th>\n",
       "      <td>1</td>\n",
       "      <td>Albert Park Grand Prix Circuit</td>\n",
       "      <td>Australia</td>\n",
       "      <td>Melbourne</td>\n",
       "      <td>-37.8497</td>\n",
       "      <td>144.96800</td>\n",
       "      <td>10</td>\n",
       "    </tr>\n",
       "    <tr>\n",
       "      <th>2</th>\n",
       "      <td>3</td>\n",
       "      <td>Bahrain International Circuit</td>\n",
       "      <td>Bahrain</td>\n",
       "      <td>Sakhir</td>\n",
       "      <td>26.0325</td>\n",
       "      <td>50.51060</td>\n",
       "      <td>7</td>\n",
       "    </tr>\n",
       "    <tr>\n",
       "      <th>3</th>\n",
       "      <td>4</td>\n",
       "      <td>Circuit de Barcelona-Catalunya</td>\n",
       "      <td>Spain</td>\n",
       "      <td>Montmeló</td>\n",
       "      <td>41.5700</td>\n",
       "      <td>2.26111</td>\n",
       "      <td>109</td>\n",
       "    </tr>\n",
       "    <tr>\n",
       "      <th>5</th>\n",
       "      <td>6</td>\n",
       "      <td>Circuit de Monaco</td>\n",
       "      <td>Monaco</td>\n",
       "      <td>Monte-Carlo</td>\n",
       "      <td>43.7347</td>\n",
       "      <td>7.42056</td>\n",
       "      <td>7</td>\n",
       "    </tr>\n",
       "    <tr>\n",
       "      <th>6</th>\n",
       "      <td>7</td>\n",
       "      <td>Circuit Gilles Villeneuve</td>\n",
       "      <td>Canada</td>\n",
       "      <td>Montreal</td>\n",
       "      <td>45.5000</td>\n",
       "      <td>-73.52280</td>\n",
       "      <td>13</td>\n",
       "    </tr>\n",
       "  </tbody>\n",
       "</table>\n",
       "</div>"
      ],
      "text/plain": [
       "   circuitId                            name    country     location      lat  \\\n",
       "0          1  Albert Park Grand Prix Circuit  Australia    Melbourne -37.8497   \n",
       "2          3   Bahrain International Circuit    Bahrain       Sakhir  26.0325   \n",
       "3          4  Circuit de Barcelona-Catalunya      Spain     Montmeló  41.5700   \n",
       "5          6               Circuit de Monaco     Monaco  Monte-Carlo  43.7347   \n",
       "6          7       Circuit Gilles Villeneuve     Canada     Montreal  45.5000   \n",
       "\n",
       "         lng  alt  \n",
       "0  144.96800   10  \n",
       "2   50.51060    7  \n",
       "3    2.26111  109  \n",
       "5    7.42056    7  \n",
       "6  -73.52280   13  "
      ]
     },
     "metadata": {},
     "output_type": "display_data"
    }
   ],
   "source": [
    "# list of locations with available tracks svgs\n",
    "locations_svg = [\n",
    "    \"Abu Dhabi\",\n",
    "    \"Melbourne\",\n",
    "    \"Spielberg\",\n",
    "    \"Baku\",\n",
    "    \"Sakhir\",\n",
    "    \"Spa\",\n",
    "    \"São Paulo\",\n",
    "    \"Montreal\",\n",
    "    \"Shanghai\",\n",
    "    \"Le Castellet\",\n",
    "    \"Silverstone\",\n",
    "    \"Budapest\",\n",
    "    \"Monza\",\n",
    "    \"Suzuka\",\n",
    "    \"Mexico City\",\n",
    "    \"Monte-Carlo\",\n",
    "    \"Zandvoort\",\n",
    "    \"Sochi\",\n",
    "    \"Marina Bay\",\n",
    "    \"Montmeló\",\n",
    "    \"Austin\",\n",
    "]\n",
    "circuits_svg = circuits[circuits.location.isin(locations_svg)]\n",
    "\n",
    "print(f\"Number of circuits: {len(circuits_svg)}\")\n",
    "display(circuits_svg.head())\n",
    "\n",
    "circuits_svg = circuits_svg[[\"circuitId\", \"name\", \"country\", \"location\"]]\n",
    "\n",
    "# add column with svg_url_suffix\n",
    "circuits_svg[\"svg_url_suffix\"] = circuits_svg[\"country\"].apply(\n",
    "    lambda x: str(x).lower().replace(\"uae\", \"abudhabi\").replace(\"uk\", \"greatbritain\")\n",
    ")\n",
    "\n",
    "# write to json\n",
    "circuits_svg.to_json(file_prefix + \"circuits.json\", orient=\"records\")"
   ]
  },
  {
   "cell_type": "code",
   "execution_count": 115,
   "metadata": {
    "collapsed": false
   },
   "outputs": [
    {
     "name": "stdout",
     "output_type": "stream",
     "text": [
      "Number of rows: 236\n",
      "All columns: ['raceId']\n"
     ]
    },
    {
     "data": {
      "text/html": [
       "<div>\n",
       "<style scoped>\n",
       "    .dataframe tbody tr th:only-of-type {\n",
       "        vertical-align: middle;\n",
       "    }\n",
       "\n",
       "    .dataframe tbody tr th {\n",
       "        vertical-align: top;\n",
       "    }\n",
       "\n",
       "    .dataframe thead th {\n",
       "        text-align: right;\n",
       "    }\n",
       "</style>\n",
       "<table border=\"1\" class=\"dataframe\">\n",
       "  <thead>\n",
       "    <tr style=\"text-align: right;\">\n",
       "      <th></th>\n",
       "      <th>raceId</th>\n",
       "    </tr>\n",
       "  </thead>\n",
       "  <tbody>\n",
       "    <tr>\n",
       "      <th>0</th>\n",
       "      <td>337</td>\n",
       "    </tr>\n",
       "    <tr>\n",
       "      <th>1</th>\n",
       "      <td>863</td>\n",
       "    </tr>\n",
       "    <tr>\n",
       "      <th>2</th>\n",
       "      <td>883</td>\n",
       "    </tr>\n",
       "    <tr>\n",
       "      <th>3</th>\n",
       "      <td>902</td>\n",
       "    </tr>\n",
       "    <tr>\n",
       "      <th>4</th>\n",
       "      <td>929</td>\n",
       "    </tr>\n",
       "  </tbody>\n",
       "</table>\n",
       "</div>"
      ],
      "text/plain": [
       "   raceId\n",
       "0     337\n",
       "1     863\n",
       "2     883\n",
       "3     902\n",
       "4     929"
      ]
     },
     "execution_count": 115,
     "metadata": {},
     "output_type": "execute_result"
    }
   ],
   "source": [
    "# find raceIds where the circuitId is in the circuits_svg dataframe\n",
    "races_with_circuits = pd.merge(\n",
    "    races[[\"raceId\", \"circuitId\"]][races[\"year\"] >= 2010],\n",
    "    circuits_svg[[\"circuitId\"]],\n",
    "    on=[\"circuitId\"],\n",
    "    how=\"inner\",\n",
    ")[[\"raceId\"]]\n",
    "\n",
    "print(f\"Number of rows: {races_with_circuits.shape[0]}\")\n",
    "print(f\"All columns: {races_with_circuits.columns.tolist()}\")\n",
    "races_with_circuits.head()"
   ]
  },
  {
   "cell_type": "code",
   "execution_count": 116,
   "metadata": {},
   "outputs": [
    {
     "name": "stdout",
     "output_type": "stream",
     "text": [
      "Number of rows: 236\n"
     ]
    },
    {
     "data": {
      "text/html": [
       "<div>\n",
       "<style scoped>\n",
       "    .dataframe tbody tr th:only-of-type {\n",
       "        vertical-align: middle;\n",
       "    }\n",
       "\n",
       "    .dataframe tbody tr th {\n",
       "        vertical-align: top;\n",
       "    }\n",
       "\n",
       "    .dataframe thead th {\n",
       "        text-align: right;\n",
       "    }\n",
       "</style>\n",
       "<table border=\"1\" class=\"dataframe\">\n",
       "  <thead>\n",
       "    <tr style=\"text-align: right;\">\n",
       "      <th></th>\n",
       "      <th>raceId</th>\n",
       "      <th>circuitId</th>\n",
       "      <th>year</th>\n",
       "      <th>date</th>\n",
       "      <th>name</th>\n",
       "    </tr>\n",
       "  </thead>\n",
       "  <tbody>\n",
       "    <tr>\n",
       "      <th>0</th>\n",
       "      <td>337</td>\n",
       "      <td>3</td>\n",
       "      <td>2010</td>\n",
       "      <td>2010-03-14</td>\n",
       "      <td>Bahrain Grand Prix</td>\n",
       "    </tr>\n",
       "    <tr>\n",
       "      <th>1</th>\n",
       "      <td>338</td>\n",
       "      <td>1</td>\n",
       "      <td>2010</td>\n",
       "      <td>2010-03-28</td>\n",
       "      <td>Australian Grand Prix</td>\n",
       "    </tr>\n",
       "    <tr>\n",
       "      <th>2</th>\n",
       "      <td>340</td>\n",
       "      <td>17</td>\n",
       "      <td>2010</td>\n",
       "      <td>2010-04-18</td>\n",
       "      <td>Chinese Grand Prix</td>\n",
       "    </tr>\n",
       "    <tr>\n",
       "      <th>3</th>\n",
       "      <td>341</td>\n",
       "      <td>4</td>\n",
       "      <td>2010</td>\n",
       "      <td>2010-05-09</td>\n",
       "      <td>Spanish Grand Prix</td>\n",
       "    </tr>\n",
       "    <tr>\n",
       "      <th>4</th>\n",
       "      <td>342</td>\n",
       "      <td>6</td>\n",
       "      <td>2010</td>\n",
       "      <td>2010-05-16</td>\n",
       "      <td>Monaco Grand Prix</td>\n",
       "    </tr>\n",
       "  </tbody>\n",
       "</table>\n",
       "</div>"
      ],
      "text/plain": [
       "   raceId  circuitId  year        date                   name\n",
       "0     337          3  2010  2010-03-14     Bahrain Grand Prix\n",
       "1     338          1  2010  2010-03-28  Australian Grand Prix\n",
       "2     340         17  2010  2010-04-18     Chinese Grand Prix\n",
       "3     341          4  2010  2010-05-09     Spanish Grand Prix\n",
       "4     342          6  2010  2010-05-16      Monaco Grand Prix"
      ]
     },
     "metadata": {},
     "output_type": "display_data"
    }
   ],
   "source": [
    "filtered_races = pd.merge(races, races_with_circuits, on=[\"raceId\"], how=\"inner\")\n",
    "\n",
    "print(f\"Number of rows: {filtered_races.shape[0]}\")\n",
    "display(filtered_races.head())\n",
    "\n",
    "# write to json\n",
    "(\n",
    "    filtered_races.groupby(\"circuitId\")\n",
    "    .apply(lambda x: x.to_dict(orient=\"records\"))\n",
    "    .to_json(\n",
    "        file_prefix + \"races.json\",\n",
    "        orient=\"index\",\n",
    "    )\n",
    ")"
   ]
  },
  {
   "cell_type": "code",
   "execution_count": 117,
   "metadata": {},
   "outputs": [
    {
     "name": "stdout",
     "output_type": "stream",
     "text": [
      "Number of rows: 4617\n"
     ]
    },
    {
     "data": {
      "text/html": [
       "<div>\n",
       "<style scoped>\n",
       "    .dataframe tbody tr th:only-of-type {\n",
       "        vertical-align: middle;\n",
       "    }\n",
       "\n",
       "    .dataframe tbody tr th {\n",
       "        vertical-align: top;\n",
       "    }\n",
       "\n",
       "    .dataframe thead th {\n",
       "        text-align: right;\n",
       "    }\n",
       "</style>\n",
       "<table border=\"1\" class=\"dataframe\">\n",
       "  <thead>\n",
       "    <tr style=\"text-align: right;\">\n",
       "      <th></th>\n",
       "      <th>raceId</th>\n",
       "      <th>driverId</th>\n",
       "      <th>constructorId</th>\n",
       "      <th>position</th>\n",
       "      <th>points</th>\n",
       "    </tr>\n",
       "  </thead>\n",
       "  <tbody>\n",
       "    <tr>\n",
       "      <th>0</th>\n",
       "      <td>337</td>\n",
       "      <td>4</td>\n",
       "      <td>6</td>\n",
       "      <td>1</td>\n",
       "      <td>25.0</td>\n",
       "    </tr>\n",
       "    <tr>\n",
       "      <th>1</th>\n",
       "      <td>337</td>\n",
       "      <td>13</td>\n",
       "      <td>6</td>\n",
       "      <td>2</td>\n",
       "      <td>18.0</td>\n",
       "    </tr>\n",
       "    <tr>\n",
       "      <th>2</th>\n",
       "      <td>337</td>\n",
       "      <td>1</td>\n",
       "      <td>1</td>\n",
       "      <td>3</td>\n",
       "      <td>15.0</td>\n",
       "    </tr>\n",
       "    <tr>\n",
       "      <th>3</th>\n",
       "      <td>337</td>\n",
       "      <td>20</td>\n",
       "      <td>9</td>\n",
       "      <td>4</td>\n",
       "      <td>12.0</td>\n",
       "    </tr>\n",
       "    <tr>\n",
       "      <th>4</th>\n",
       "      <td>337</td>\n",
       "      <td>3</td>\n",
       "      <td>131</td>\n",
       "      <td>5</td>\n",
       "      <td>10.0</td>\n",
       "    </tr>\n",
       "  </tbody>\n",
       "</table>\n",
       "</div>"
      ],
      "text/plain": [
       "   raceId  driverId  constructorId position  points\n",
       "0     337         4              6        1    25.0\n",
       "1     337        13              6        2    18.0\n",
       "2     337         1              1        3    15.0\n",
       "3     337        20              9        4    12.0\n",
       "4     337         3            131        5    10.0"
      ]
     },
     "metadata": {},
     "output_type": "display_data"
    }
   ],
   "source": [
    "filtered_results = pd.merge(results, races_with_circuits, on=[\"raceId\"], how=\"inner\")\n",
    "\n",
    "print(f\"Number of rows: {filtered_results.shape[0]}\")\n",
    "display(filtered_results.head())"
   ]
  },
  {
   "cell_type": "code",
   "execution_count": 118,
   "metadata": {},
   "outputs": [
    {
     "data": {
      "text/plain": [
       "driverId  circuitId\n",
       "1         1            [{'raceId': 338, 'driverId': 1, 'constructorId...\n",
       "          3            [{'raceId': 337, 'driverId': 1, 'constructorId...\n",
       "          4            [{'raceId': 341, 'driverId': 1, 'constructorId...\n",
       "          6            [{'raceId': 342, 'driverId': 1, 'constructorId...\n",
       "          7            [{'raceId': 344, 'driverId': 1, 'constructorId...\n",
       "dtype: object"
      ]
     },
     "execution_count": 118,
     "metadata": {},
     "output_type": "execute_result"
    }
   ],
   "source": [
    "# using the filtered results, get all raceIds (and corresponding name and circuitId from the filtered_races df) for each driverId\n",
    "filtered_races_with_results = pd.merge(\n",
    "    filtered_results,\n",
    "    filtered_races[[\"raceId\", \"year\", \"circuitId\"]],\n",
    "    on=[\"raceId\"],\n",
    "    how=\"inner\",\n",
    ")\n",
    "\n",
    "data_per_circuits_per_driver = filtered_races_with_results.groupby(\n",
    "    [\"driverId\", \"circuitId\"]\n",
    ").apply(lambda x: x.to_dict(orient=\"records\"))\n",
    "\n",
    "# write to json\n",
    "data_per_circuits_per_driver.to_json(file_prefix + \"results.json\", orient=\"index\")\n",
    "\n",
    "data_per_circuits_per_driver.head()"
   ]
  },
  {
   "cell_type": "code",
   "execution_count": 119,
   "metadata": {},
   "outputs": [
    {
     "name": "stdout",
     "output_type": "stream",
     "text": [
      "Number of rows: 52\n"
     ]
    },
    {
     "data": {
      "text/html": [
       "<div>\n",
       "<style scoped>\n",
       "    .dataframe tbody tr th:only-of-type {\n",
       "        vertical-align: middle;\n",
       "    }\n",
       "\n",
       "    .dataframe tbody tr th {\n",
       "        vertical-align: top;\n",
       "    }\n",
       "\n",
       "    .dataframe thead th {\n",
       "        text-align: right;\n",
       "    }\n",
       "</style>\n",
       "<table border=\"1\" class=\"dataframe\">\n",
       "  <thead>\n",
       "    <tr style=\"text-align: right;\">\n",
       "      <th></th>\n",
       "      <th>driverId</th>\n",
       "      <th>number</th>\n",
       "      <th>code</th>\n",
       "      <th>name</th>\n",
       "    </tr>\n",
       "  </thead>\n",
       "  <tbody>\n",
       "    <tr>\n",
       "      <th>0</th>\n",
       "      <td>1</td>\n",
       "      <td>44.0</td>\n",
       "      <td>HAM</td>\n",
       "      <td>Lewis Hamilton</td>\n",
       "    </tr>\n",
       "    <tr>\n",
       "      <th>2</th>\n",
       "      <td>3</td>\n",
       "      <td>6.0</td>\n",
       "      <td>ROS</td>\n",
       "      <td>Nico Rosberg</td>\n",
       "    </tr>\n",
       "    <tr>\n",
       "      <th>3</th>\n",
       "      <td>4</td>\n",
       "      <td>14.0</td>\n",
       "      <td>ALO</td>\n",
       "      <td>Fernando Alonso</td>\n",
       "    </tr>\n",
       "    <tr>\n",
       "      <th>5</th>\n",
       "      <td>8</td>\n",
       "      <td>7.0</td>\n",
       "      <td>RAI</td>\n",
       "      <td>Kimi Räikkönen</td>\n",
       "    </tr>\n",
       "    <tr>\n",
       "      <th>6</th>\n",
       "      <td>9</td>\n",
       "      <td>88.0</td>\n",
       "      <td>KUB</td>\n",
       "      <td>Robert Kubica</td>\n",
       "    </tr>\n",
       "  </tbody>\n",
       "</table>\n",
       "</div>"
      ],
      "text/plain": [
       "   driverId  number code             name\n",
       "0         1    44.0  HAM   Lewis Hamilton\n",
       "2         3     6.0  ROS     Nico Rosberg\n",
       "3         4    14.0  ALO  Fernando Alonso\n",
       "5         8     7.0  RAI   Kimi Räikkönen\n",
       "6         9    88.0  KUB    Robert Kubica"
      ]
     },
     "metadata": {},
     "output_type": "display_data"
    }
   ],
   "source": [
    "filtered_drivers = pd.merge(\n",
    "    drivers,\n",
    "    filtered_results[[\"driverId\"]].drop_duplicates(),\n",
    "    on=[\"driverId\"],\n",
    "    how=\"inner\",\n",
    ")\n",
    "\n",
    "filtered_drivers[\"number\"] = pd.to_numeric(filtered_drivers[\"number\"], errors=\"coerce\")\n",
    "filtered_drivers = filtered_drivers.dropna(subset=[\"number\"])\n",
    "\n",
    "print(f\"Number of rows: {filtered_drivers.shape[0]}\")\n",
    "display(filtered_drivers.head())\n",
    "\n",
    "# write to json\n",
    "(\n",
    "    filtered_drivers.to_json(\n",
    "        file_prefix + \"drivers.json\",\n",
    "        orient=\"records\",\n",
    "    )\n",
    ")"
   ]
  },
  {
   "cell_type": "code",
   "execution_count": 120,
   "metadata": {},
   "outputs": [
    {
     "name": "stdout",
     "output_type": "stream",
     "text": [
      "Number of rows: 22\n"
     ]
    },
    {
     "data": {
      "text/html": [
       "<div>\n",
       "<style scoped>\n",
       "    .dataframe tbody tr th:only-of-type {\n",
       "        vertical-align: middle;\n",
       "    }\n",
       "\n",
       "    .dataframe tbody tr th {\n",
       "        vertical-align: top;\n",
       "    }\n",
       "\n",
       "    .dataframe thead th {\n",
       "        text-align: right;\n",
       "    }\n",
       "</style>\n",
       "<table border=\"1\" class=\"dataframe\">\n",
       "  <thead>\n",
       "    <tr style=\"text-align: right;\">\n",
       "      <th></th>\n",
       "      <th>name</th>\n",
       "    </tr>\n",
       "    <tr>\n",
       "      <th>constructorId</th>\n",
       "      <th></th>\n",
       "    </tr>\n",
       "  </thead>\n",
       "  <tbody>\n",
       "    <tr>\n",
       "      <th>1</th>\n",
       "      <td>McLaren</td>\n",
       "    </tr>\n",
       "    <tr>\n",
       "      <th>3</th>\n",
       "      <td>Williams</td>\n",
       "    </tr>\n",
       "    <tr>\n",
       "      <th>4</th>\n",
       "      <td>Renault</td>\n",
       "    </tr>\n",
       "    <tr>\n",
       "      <th>5</th>\n",
       "      <td>Toro Rosso</td>\n",
       "    </tr>\n",
       "    <tr>\n",
       "      <th>6</th>\n",
       "      <td>Ferrari</td>\n",
       "    </tr>\n",
       "  </tbody>\n",
       "</table>\n",
       "</div>"
      ],
      "text/plain": [
       "                     name\n",
       "constructorId            \n",
       "1                 McLaren\n",
       "3                Williams\n",
       "4                 Renault\n",
       "5              Toro Rosso\n",
       "6                 Ferrari"
      ]
     },
     "metadata": {},
     "output_type": "display_data"
    }
   ],
   "source": [
    "filtered_constructors = pd.merge(\n",
    "    constructors,\n",
    "    filtered_results[[\"constructorId\"]].drop_duplicates(),\n",
    "    on=[\"constructorId\"],\n",
    "    how=\"inner\",\n",
    ").set_index(\"constructorId\")\n",
    "\n",
    "print(f\"Number of rows: {filtered_constructors.shape[0]}\")\n",
    "display(filtered_constructors.head())\n",
    "\n",
    "# write to json\n",
    "(\n",
    "    filtered_constructors.to_json(\n",
    "        file_prefix + \"constructors.json\",\n",
    "        orient=\"index\",\n",
    "    )\n",
    ")"
   ]
  },
  {
   "cell_type": "code",
   "execution_count": 122,
   "metadata": {},
   "outputs": [
    {
     "name": "stdout",
     "output_type": "stream",
     "text": [
      "Number of rows: 244398\n"
     ]
    },
    {
     "data": {
      "text/html": [
       "<div>\n",
       "<style scoped>\n",
       "    .dataframe tbody tr th:only-of-type {\n",
       "        vertical-align: middle;\n",
       "    }\n",
       "\n",
       "    .dataframe tbody tr th {\n",
       "        vertical-align: top;\n",
       "    }\n",
       "\n",
       "    .dataframe thead th {\n",
       "        text-align: right;\n",
       "    }\n",
       "</style>\n",
       "<table border=\"1\" class=\"dataframe\">\n",
       "  <thead>\n",
       "    <tr style=\"text-align: right;\">\n",
       "      <th></th>\n",
       "      <th>raceId</th>\n",
       "      <th>driverId</th>\n",
       "      <th>lap</th>\n",
       "      <th>position</th>\n",
       "      <th>milliseconds</th>\n",
       "    </tr>\n",
       "  </thead>\n",
       "  <tbody>\n",
       "    <tr>\n",
       "      <th>0</th>\n",
       "      <td>841</td>\n",
       "      <td>20</td>\n",
       "      <td>1</td>\n",
       "      <td>1</td>\n",
       "      <td>98109</td>\n",
       "    </tr>\n",
       "    <tr>\n",
       "      <th>1</th>\n",
       "      <td>841</td>\n",
       "      <td>20</td>\n",
       "      <td>2</td>\n",
       "      <td>1</td>\n",
       "      <td>93006</td>\n",
       "    </tr>\n",
       "    <tr>\n",
       "      <th>2</th>\n",
       "      <td>841</td>\n",
       "      <td>20</td>\n",
       "      <td>3</td>\n",
       "      <td>1</td>\n",
       "      <td>92713</td>\n",
       "    </tr>\n",
       "    <tr>\n",
       "      <th>3</th>\n",
       "      <td>841</td>\n",
       "      <td>20</td>\n",
       "      <td>4</td>\n",
       "      <td>1</td>\n",
       "      <td>92803</td>\n",
       "    </tr>\n",
       "    <tr>\n",
       "      <th>4</th>\n",
       "      <td>841</td>\n",
       "      <td>20</td>\n",
       "      <td>5</td>\n",
       "      <td>1</td>\n",
       "      <td>92342</td>\n",
       "    </tr>\n",
       "  </tbody>\n",
       "</table>\n",
       "</div>"
      ],
      "text/plain": [
       "   raceId  driverId  lap  position  milliseconds\n",
       "0     841        20    1         1         98109\n",
       "1     841        20    2         1         93006\n",
       "2     841        20    3         1         92713\n",
       "3     841        20    4         1         92803\n",
       "4     841        20    5         1         92342"
      ]
     },
     "metadata": {},
     "output_type": "display_data"
    }
   ],
   "source": [
    "filtered_lap_times = pd.merge(\n",
    "    lap_times,\n",
    "    filtered_results[[\"raceId\", \"driverId\"]].drop_duplicates(),\n",
    "    on=[\"raceId\", \"driverId\"],\n",
    "    how=\"inner\",\n",
    ").drop(columns=[\"time\"])\n",
    "\n",
    "print(f\"Number of rows: {filtered_lap_times.shape[0]}\")\n",
    "display(filtered_lap_times.head())\n",
    "\n",
    "# write to json\n",
    "(\n",
    "    filtered_lap_times.groupby([\"driverId\", \"raceId\"])\n",
    "    .apply(\n",
    "        lambda x: x[[\"lap\", \"milliseconds\"]]\n",
    "        .set_index(\"lap\")\n",
    "        .sort_index()\n",
    "        .to_dict(orient=\"list\")\n",
    "    )\n",
    "    .to_json(\n",
    "        file_prefix + \"lap_times.json\",\n",
    "        orient=\"index\",\n",
    "    )\n",
    ")"
   ]
  },
  {
   "attachments": {},
   "cell_type": "markdown",
   "metadata": {},
   "source": [
    "---\n"
   ]
  },
  {
   "attachments": {},
   "cell_type": "markdown",
   "metadata": {
    "collapsed": false
   },
   "source": [
    "For a given driver, how the driver's performance evolved over time, which teams they raced for, how many races did they win, compare them to other drivers, etc.\n",
    "\n",
    "By selecting a driver -> output:\n",
    "\n",
    "- plot for wins in time (+total)\n",
    "- plot for points in time\n",
    "- constructor they raced for in time\n",
    "  Options:\n",
    "- possibility to select up to x drivers to compare them\n",
    "- short description of each driver ?\n"
   ]
  },
  {
   "cell_type": "code",
   "execution_count": null,
   "metadata": {
    "collapsed": false
   },
   "outputs": [],
   "source": [
    "merged = pd.merge(results, races[[\"raceId\", \"year\"]], on=[\"raceId\"], how=\"inner\")\n",
    "merged = pd.merge(\n",
    "    merged,\n",
    "    driver_standings[[\"raceId\", \"driverId\", \"wins\"]],\n",
    "    on=[\"raceId\", \"driverId\"],\n",
    "    how=\"inner\",\n",
    ")\n",
    "\n",
    "merged\n",
    "# merged.to_csv(\"processed_data/driver_results.csv\")\n",
    "# merged.to_json(\"processed_data/driver_results.json\")\n"
   ]
  },
  {
   "attachments": {},
   "cell_type": "markdown",
   "metadata": {
    "collapsed": false
   },
   "source": [
    "For each year, the schedule of the races, their locations on the world map, which teams participated, etc.\n",
    "\n",
    "To determine.\n",
    "An idea: By selecting a year -> output:\n",
    "\n",
    "- list of races\n",
    "- world map with locations\n",
    "- list of constructors\n",
    "  Options:\n",
    "- show the movement\n"
   ]
  },
  {
   "cell_type": "code",
   "execution_count": null,
   "metadata": {
    "collapsed": false
   },
   "outputs": [],
   "source": [
    "merged = pd.merge(\n",
    "    races, results[[\"raceId\", \"driverId\", \"constructorId\"]], on=[\"raceId\"], how=\"inner\"\n",
    ")\n",
    "merged = merged[\n",
    "    [\"raceId\", \"circuitId\", \"driverId\", \"constructorId\", \"year\", \"date\", \"name\"]\n",
    "]\n",
    "\n",
    "merged\n",
    "# merged.to_csv(\"processed_data/schedule.csv\")\n",
    "# merged.to_json(\"processed_data/schedule.json\")\n"
   ]
  }
 ],
 "metadata": {
  "kernelspec": {
   "display_name": "Python 3",
   "language": "python",
   "name": "python3"
  },
  "language_info": {
   "codemirror_mode": {
    "name": "ipython",
    "version": 3
   },
   "file_extension": ".py",
   "mimetype": "text/x-python",
   "name": "python",
   "nbconvert_exporter": "python",
   "pygments_lexer": "ipython3",
   "version": "3.10.9"
  }
 },
 "nbformat": 4,
 "nbformat_minor": 0
}
