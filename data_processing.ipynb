{
 "cells": [
  {
   "cell_type": "code",
   "execution_count": 1,
   "outputs": [],
   "source": [
    "import pandas as pd\n",
    "import matplotlib.pyplot as plt\n",
    "import numpy as np\n"
   ],
   "metadata": {
    "collapsed": false
   }
  },
  {
   "cell_type": "markdown",
   "source": [
    "#### Uploading data"
   ],
   "metadata": {
    "collapsed": false
   }
  },
  {
   "cell_type": "code",
   "execution_count": 2,
   "outputs": [],
   "source": [
    "Path = \"data/\"\n",
    "\n",
    "circuits = pd.read_csv(Path + \"circuits.csv\")\n",
    "\n",
    "constructor_standings = pd.read_csv(Path + \"constructor_standings.csv\")\n",
    "constructors = pd.read_csv(Path + \"constructors.csv\")\n",
    "driver_standings = pd.read_csv(Path + \"driver_standings.csv\")\n",
    "drivers = pd.read_csv(Path + \"drivers.csv\")\n",
    "lap_times = pd.read_csv(Path + \"lap_times.csv\")\n",
    "pit_stops = pd.read_csv(Path + \"pit_stops.csv\")\n",
    "#qualifying = pd.read_csv(Path + \"qualifying.csv\")\n",
    "races = pd.read_csv(Path + \"races.csv\")\n",
    "results = pd.read_csv(Path + \"results.csv\")\n",
    "#sprint_results = pd.read_csv(Path + \"sprint_results.csv\")\n",
    "status = pd.read_csv(Path + \"status.csv\")"
   ],
   "metadata": {
    "collapsed": false
   }
  },
  {
   "cell_type": "code",
   "execution_count": 3,
   "outputs": [],
   "source": [
    "circuits = circuits[[\"circuitId\",\"name\",\"country\",\"location\",\"lat\",\"lng\",\"alt\"]]\n",
    "constructor_standings = constructor_standings[[\"raceId\",\"constructorId\",\"points\",\"position\",\"wins\"]]\n",
    "constructors = constructors[[\"constructorId\",\"name\"]]\n",
    "driver_standings = driver_standings[[\"raceId\",\"driverId\",\"points\",\"position\",\"wins\"]]\n",
    "\n",
    "name = drivers['forename'] + ' ' + drivers['surname']\n",
    "drivers = drivers[[\"driverId\",\"number\",\"code\"]]\n",
    "drivers[\"name\"]=name\n",
    "\n",
    "races = races[[\"raceId\",\"circuitId\",\"year\",\"date\",\"name\"]]\n",
    "results = results[[\"raceId\",\"driverId\",\"constructorId\",\"position\",\"points\"]]"
   ],
   "metadata": {
    "collapsed": false
   }
  },
  {
   "cell_type": "code",
   "execution_count": 4,
   "outputs": [],
   "source": [
    "circuits.to_csv(\"processed_data/locations.csv\")\n",
    "constructors.to_csv(\"processed_data/constructors.csv\")\n",
    "drivers.to_csv(\"processed_data/drivers.csv\")"
   ],
   "metadata": {
    "collapsed": false
   }
  },
  {
   "cell_type": "markdown",
   "source": [
    "For a given race, how the race unfolded (positions of the drivers, pit stops, etc.)\n",
    "\n",
    "To vizualise it, we use svgs for some of the circuits.\n",
    "\n",
    "For a chosen year, for a chosen location (must be able to chose one or the other first and the selection change depending what is available) -> output a track with list of drivers (that you can select or not, with a button to automatically select top 5 of the race) and a button start race\n",
    "options:\n",
    "- add pit stops (driver stops for the pit stop duration)\n",
    "- add a plot which show more clearly the current position"
   ],
   "metadata": {
    "collapsed": false
   }
  },
  {
   "cell_type": "code",
   "execution_count": 5,
   "outputs": [],
   "source": [
    "#list of locations with available tracks svgs\n",
    "locations_svg = [\"Abu Dhabi\", \"Melbourne\", \"Spielberg\", \"Baku\", \"Sakhir\", \"Spa\", \"São Paulo\", \"Montreal\", \"Shanghai\", \"Le Castellet\", \"Silverstone\", \"Budapest\", \"Monza\", \"Suzuka\", \"Mexico City\", \"Monte-Carlo\", \"Zandvoort\", \"Sochi\", \"Marina Bay\", \"Montmeló\", \"Austin\"]\n",
    "circuits_svg = circuits[circuits.location.isin(locations_svg)]"
   ],
   "metadata": {
    "collapsed": false
   }
  },
  {
   "cell_type": "code",
   "execution_count": 6,
   "outputs": [],
   "source": [
    "merged = pd.merge(results, races, on=[\"raceId\"], how=\"inner\")\n",
    "merged = pd.merge(merged,circuits_svg[\"circuitId\"], on=[\"circuitId\"], how=\"inner\")\n",
    "merged = pd.merge(merged, lap_times, on=[\"raceId\",\"driverId\"], how=\"inner\")\n",
    "\n",
    "merged = merged[[\"raceId\",\"driverId\",\"constructorId\",\"circuitId\",\"year\",\"name\",\"position_x\",\"points\",\"lap\",\"position_y\",\"milliseconds\"]].rename(columns={\"position_x\":\"final_position\", \"position_y\":\"lap_position\"})\n",
    "\n",
    "merged.to_csv(\"processed_data/race_svg.csv\")"
   ],
   "metadata": {
    "collapsed": false
   }
  },
  {
   "cell_type": "markdown",
   "source": [
    "For a given driver, how the driver's performance evolved over time, which teams they raced for, how many races did they win, compare them to other drivers, etc.\n",
    "\n",
    "By selecting a driver -> output:\n",
    "- plot for wins in time (+total)\n",
    "- plot for points in time\n",
    "- constructor they raced for in time\n",
    "Options:\n",
    "- possibility to select up to x drivers to compare them\n",
    "- short description of each driver ?"
   ],
   "metadata": {
    "collapsed": false
   }
  },
  {
   "cell_type": "code",
   "execution_count": 7,
   "outputs": [],
   "source": [
    "merged = pd.merge(results, races[[\"raceId\",\"year\"]], on=[\"raceId\"], how=\"inner\")\n",
    "merged = pd.merge(merged,driver_standings[[\"raceId\",\"driverId\",\"wins\"]],on=[\"raceId\",\"driverId\"], how=\"inner\")\n",
    "\n",
    "merged.to_csv(\"processed_data/driver_results.csv\")"
   ],
   "metadata": {
    "collapsed": false
   }
  },
  {
   "cell_type": "markdown",
   "source": [
    "For each year, the schedule of the races, their locations on the world map, which teams participated, etc.\n",
    "\n",
    "To determine.\n",
    "An idea: By selecting a year -> output:\n",
    "- list of races\n",
    "- world map with locations\n",
    "- list of constructors\n",
    "Options:\n",
    "- show the movement"
   ],
   "metadata": {
    "collapsed": false
   }
  },
  {
   "cell_type": "code",
   "execution_count": 8,
   "outputs": [],
   "source": [
    "merged = pd.merge(races, results[[\"raceId\",\"driverId\",\"constructorId\"]], on=[\"raceId\"], how=\"inner\")\n",
    "merged = merged[[\"raceId\",\"circuitId\",\"driverId\",\"constructorId\",\"year\",\"date\",\"name\"]]\n",
    "\n",
    "merged.to_csv(\"processed_data/schedule.csv\")"
   ],
   "metadata": {
    "collapsed": false
   }
  }
 ],
 "metadata": {
  "kernelspec": {
   "display_name": "Python 3",
   "language": "python",
   "name": "python3"
  },
  "language_info": {
   "codemirror_mode": {
    "name": "ipython",
    "version": 2
   },
   "file_extension": ".py",
   "mimetype": "text/x-python",
   "name": "python",
   "nbconvert_exporter": "python",
   "pygments_lexer": "ipython2",
   "version": "2.7.6"
  }
 },
 "nbformat": 4,
 "nbformat_minor": 0
}
